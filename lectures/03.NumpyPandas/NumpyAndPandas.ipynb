{
 "cells": [
  {
   "cell_type": "markdown",
   "metadata": {
    "pycharm": {
     "name": "#%% md\n"
    },
    "slideshow": {
     "slide_type": "slide"
    }
   },
   "source": [
    "<center>\n",
    "    <img src=\"https://www.hse.ru/data/2020/11/16/1367273515/HSE_University_blue.png\" width=500px/>\n",
    "    <font> Студенческий кружок<font><br/>\n",
    "    <br/>\n",
    "    <br/>\n",
    "    <b style=\"font-size: 2em\">Инструменты анализа данных</b><br/>\n",
    "    <br/>\n",
    "    <font>Нигматуллин Роман, по материалам ШАД</font><br/>\n",
    "</center>"
   ]
  },
  {
   "cell_type": "markdown",
   "metadata": {
    "pycharm": {
     "name": "#%% md\n"
    },
    "slideshow": {
     "slide_type": "slide"
    }
   },
   "source": [
    "### План лекции"
   ]
  },
  {
   "cell_type": "markdown",
   "metadata": {
    "pycharm": {
     "name": "#%% md\n"
    },
    "slideshow": {
     "slide_type": "-"
    }
   },
   "source": [
    "**Первая часть (~0.5-1h):**\n",
    "numpy\n",
    "\n",
    "**Вторая часть (~1h):** \n",
    "pandas\n",
    "\n",
    "За материалы лекций благодарим команду Школы Анализа данных."
   ]
  },
  {
   "cell_type": "markdown",
   "metadata": {
    "pycharm": {
     "name": "#%% md\n"
    },
    "slideshow": {
     "slide_type": "slide"
    }
   },
   "source": [
    "# NumPy\n",
    "\n",
    "[numpy.org/doc/](https://numpy.org/doc/stable/)"
   ]
  },
  {
   "cell_type": "markdown",
   "metadata": {},
   "source": [
    "Библиотека NumPy предоставляет следующие **возможности**: \n",
    "* работать с многомерными массивами (включая матрицы)\n",
    "* производить быстрое вычисление математических функций на многомерных массивах"
   ]
  },
  {
   "cell_type": "markdown",
   "metadata": {},
   "source": [
    "Ядром пакета NumPy является объект [ndarray](https://docs.scipy.org/doc/numpy/reference/generated/numpy.ndarray.html)\n",
    "\n",
    "**Важные отличия** между NumPy arrays и Python sequences: \n",
    "* NumPy array имеет фиксированную длину, которая определяется в момент его создания (в отличие от Python lists, которые могут расти динамически)\n",
    "* Элементы в NumPy array должны быть одного типа\n",
    "* Можно выполнять операции непосредственно над NumPy arrays"
   ]
  },
  {
   "cell_type": "markdown",
   "metadata": {},
   "source": [
    "**Сильные стороны** NumPy: \n",
    "* Vectorization \n",
    "* Broadcasting"
   ]
  },
  {
   "cell_type": "markdown",
   "metadata": {
    "pycharm": {
     "name": "#%% md\n"
    },
    "slideshow": {
     "slide_type": "slide"
    }
   },
   "source": [
    "**Мотивирующий пример**\n",
    "![Imgur](https://i.imgur.com/z4GzOX6.png)"
   ]
  },
  {
   "cell_type": "code",
   "execution_count": 20,
   "metadata": {
    "pycharm": {
     "name": "#%%\n"
    },
    "slideshow": {
     "slide_type": "slide"
    }
   },
   "outputs": [],
   "source": [
    "import numpy as np"
   ]
  },
  {
   "cell_type": "markdown",
   "metadata": {
    "pycharm": {
     "name": "#%% md\n"
    },
    "slideshow": {
     "slide_type": "slide"
    }
   },
   "source": [
    "## Способы создания Numpy arrays\n",
    "* Конвертация из Python structures\n",
    "* Генерация с помощью встроенных функций\n",
    "* Чтение с диска\n"
   ]
  },
  {
   "cell_type": "markdown",
   "metadata": {},
   "source": [
    "### Конвертация из Python structures"
   ]
  },
  {
   "cell_type": "code",
   "execution_count": 21,
   "metadata": {
    "pycharm": {
     "name": "#%%\n"
    }
   },
   "outputs": [
    {
     "data": {
      "text/plain": [
       "array([1, 2, 3, 4, 5])"
      ]
     },
     "execution_count": 21,
     "metadata": {},
     "output_type": "execute_result"
    }
   ],
   "source": [
    "np.array([1, 2, 3, 4, 5])"
   ]
  },
  {
   "cell_type": "markdown",
   "metadata": {
    "pycharm": {
     "name": "#%% md\n"
    }
   },
   "source": [
    "При конвертации можно задавать тип данных с помощью аргумента [dtype](https://docs.scipy.org/doc/numpy/reference/generated/numpy.dtype.html): "
   ]
  },
  {
   "cell_type": "code",
   "execution_count": 23,
   "metadata": {
    "pycharm": {
     "name": "#%%\n"
    }
   },
   "outputs": [
    {
     "data": {
      "text/plain": [
       "array([1., 2., 3., 4., 5.], dtype=float32)"
      ]
     },
     "execution_count": 23,
     "metadata": {},
     "output_type": "execute_result"
    }
   ],
   "source": [
    "np.array([1, 2, 3, 4, 5], dtype=np.float32)"
   ]
  },
  {
   "cell_type": "markdown",
   "metadata": {
    "pycharm": {
     "name": "#%% md\n"
    }
   },
   "source": [
    "Аналогичное преобразование:"
   ]
  },
  {
   "cell_type": "code",
   "execution_count": 25,
   "metadata": {
    "pycharm": {
     "name": "#%%\n"
    }
   },
   "outputs": [
    {
     "data": {
      "text/plain": [
       "array([1., 2., 3., 4., 5.], dtype=float32)"
      ]
     },
     "execution_count": 25,
     "metadata": {},
     "output_type": "execute_result"
    }
   ],
   "source": [
    "np.float32([1, 2, 3, 4, 5])"
   ]
  },
  {
   "cell_type": "markdown",
   "metadata": {
    "pycharm": {
     "name": "#%% md\n"
    }
   },
   "source": [
    "### Генерация Numpy arrays"
   ]
  },
  {
   "cell_type": "markdown",
   "metadata": {
    "pycharm": {
     "name": "#%% md\n"
    }
   },
   "source": [
    "* [arange](https://docs.scipy.org/doc/numpy/reference/generated/numpy.arange.html) — аналог range из Python, которому можно передать нецелочисленный шаг\n",
    "* [linspace](https://docs.scipy.org/doc/numpy/reference/generated/numpy.linspace.html) — способ равномерно разбить отрезок на n-1 интервал\n",
    "* [logspace](https://docs.scipy.org/doc/numpy/reference/generated/numpy.logspace.html) — способ разбить отрезок по логарифмической шкале\n",
    "* [zeros](https://docs.scipy.org/doc/numpy/reference/generated/numpy.zeros.html) — создаёт массив заполненный нулями заданной размерности\n",
    "* [ones](https://docs.scipy.org/doc/numpy/reference/generated/numpy.ones.html) — создаёт массив заполненный единицами заданной размерности\n",
    "* [empty](https://docs.scipy.org/doc/numpy/reference/generated/numpy.empty.html) — создаёт массив неинициализированный никаким значением заданной размерности"
   ]
  },
  {
   "cell_type": "code",
   "execution_count": 5,
   "metadata": {
    "pycharm": {
     "name": "#%%\n"
    }
   },
   "outputs": [
    {
     "data": {
      "text/plain": [
       "array([0. , 0.5, 1. , 1.5, 2. , 2.5, 3. , 3.5, 4. , 4.5])"
      ]
     },
     "execution_count": 5,
     "metadata": {},
     "output_type": "execute_result"
    }
   ],
   "source": [
    "np.arange(0, 5, 0.5)"
   ]
  },
  {
   "cell_type": "code",
   "execution_count": 6,
   "metadata": {
    "pycharm": {
     "name": "#%%\n"
    }
   },
   "outputs": [
    {
     "data": {
      "text/plain": [
       "array([0. , 0.5, 1. , 1.5, 2. , 2.5, 3. , 3.5, 4. , 4.5, 5. ])"
      ]
     },
     "execution_count": 6,
     "metadata": {},
     "output_type": "execute_result"
    }
   ],
   "source": [
    "np.linspace(0, 5, 11)"
   ]
  },
  {
   "cell_type": "code",
   "execution_count": 7,
   "metadata": {
    "pycharm": {
     "name": "#%%\n"
    }
   },
   "outputs": [
    {
     "data": {
      "text/plain": [
       "array([  1.,   2.,   4.,   8.,  16.,  32.,  64., 128., 256., 512.])"
      ]
     },
     "execution_count": 7,
     "metadata": {},
     "output_type": "execute_result"
    }
   ],
   "source": [
    "np.logspace(0, 9, 10, base=2)"
   ]
  },
  {
   "cell_type": "code",
   "execution_count": 8,
   "metadata": {
    "pycharm": {
     "name": "#%%\n"
    }
   },
   "outputs": [
    {
     "data": {
      "text/plain": [
       "array([[0., 0.],\n",
       "       [0., 0.]])"
      ]
     },
     "execution_count": 8,
     "metadata": {},
     "output_type": "execute_result"
    }
   ],
   "source": [
    "np.zeros((2, 2))"
   ]
  },
  {
   "cell_type": "code",
   "execution_count": 9,
   "metadata": {
    "pycharm": {
     "name": "#%%\n"
    }
   },
   "outputs": [
    {
     "data": {
      "text/plain": [
       "array([[1., 1.],\n",
       "       [1., 1.]])"
      ]
     },
     "execution_count": 9,
     "metadata": {},
     "output_type": "execute_result"
    }
   ],
   "source": [
    "np.ones((2, 2))"
   ]
  },
  {
   "cell_type": "code",
   "execution_count": 14,
   "metadata": {
    "pycharm": {
     "name": "#%%\n"
    }
   },
   "outputs": [
    {
     "data": {
      "text/plain": [
       "array([[5.e-324, 5.e-324],\n",
       "       [5.e-324, 0.e+000]])"
      ]
     },
     "execution_count": 14,
     "metadata": {},
     "output_type": "execute_result"
    }
   ],
   "source": [
    "np.empty((2, 2))"
   ]
  },
  {
   "cell_type": "code",
   "execution_count": 2,
   "metadata": {
    "pycharm": {
     "name": "#%%\n"
    }
   },
   "outputs": [
    {
     "data": {
      "text/plain": [
       "array([[1, 0, 0],\n",
       "       [0, 2, 0],\n",
       "       [0, 0, 3]])"
      ]
     },
     "execution_count": 2,
     "metadata": {},
     "output_type": "execute_result"
    }
   ],
   "source": [
    "np.diag([1,2,3])"
   ]
  },
  {
   "cell_type": "markdown",
   "metadata": {
    "pycharm": {
     "name": "#%% md\n"
    }
   },
   "source": [
    "Pазмеры массива хранятся в поле **shape**, а количество размерностей - в **ndim**"
   ]
  },
  {
   "cell_type": "code",
   "execution_count": 74,
   "metadata": {
    "pycharm": {
     "name": "#%%\n"
    },
    "scrolled": true
   },
   "outputs": [
    {
     "name": "stdout",
     "output_type": "stream",
     "text": [
      "Размерность массива - (2, 3), количество размерностей - 2\n"
     ]
    }
   ],
   "source": [
    "array = np.ones((2, 3))\n",
    "print('Размерность массива - %s, количество размерностей - %d'%(array.shape, array.ndim))"
   ]
  },
  {
   "cell_type": "markdown",
   "metadata": {
    "pycharm": {
     "name": "#%% md\n"
    }
   },
   "source": [
    "Метод [reshape](https://docs.scipy.org/doc/numpy/reference/generated/numpy.reshape.html) позволяет преобразовать размеры массива без изменения данных"
   ]
  },
  {
   "cell_type": "code",
   "execution_count": 30,
   "metadata": {
    "pycharm": {
     "name": "#%%\n"
    }
   },
   "outputs": [
    {
     "data": {
      "text/plain": [
       "array([[0. , 0.5, 1. , 1.5, 2. , 2.5],\n",
       "       [3. , 3.5, 4. , 4.5, 5. , 5.5]])"
      ]
     },
     "execution_count": 30,
     "metadata": {},
     "output_type": "execute_result"
    }
   ],
   "source": [
    "array = np.arange(0, 6, 0.5)\n",
    "array = array.reshape((2, 6))\n",
    "array"
   ]
  },
  {
   "cell_type": "markdown",
   "metadata": {
    "pycharm": {
     "name": "#%% md\n"
    }
   },
   "source": [
    "Для того что бы развернуть многомерный массив в вектор, можно воспользоваться функцией [ravel](ravel)"
   ]
  },
  {
   "cell_type": "code",
   "execution_count": 31,
   "metadata": {
    "pycharm": {
     "name": "#%%\n"
    }
   },
   "outputs": [
    {
     "data": {
      "text/plain": [
       "array([0. , 0.5, 1. , 1.5, 2. , 2.5, 3. , 3.5, 4. , 4.5, 5. , 5.5])"
      ]
     },
     "execution_count": 31,
     "metadata": {},
     "output_type": "execute_result"
    }
   ],
   "source": [
    "array = np.ravel(array)\n",
    "array"
   ]
  },
  {
   "cell_type": "markdown",
   "metadata": {
    "pycharm": {
     "name": "#%% md\n"
    },
    "slideshow": {
     "slide_type": "slide"
    }
   },
   "source": [
    "## Индексация"
   ]
  },
  {
   "cell_type": "markdown",
   "metadata": {
    "pycharm": {
     "name": "#%% md\n"
    }
   },
   "source": [
    "В NumPy работает привычная индексация Python, включая использование отрицательных индексов и срезов"
   ]
  },
  {
   "cell_type": "code",
   "execution_count": 48,
   "metadata": {
    "pycharm": {
     "name": "#%%\n"
    }
   },
   "outputs": [
    {
     "name": "stdout",
     "output_type": "stream",
     "text": [
      "0.0\n",
      "5.5\n",
      "[0.5 1.  1.5 2.  2.5 3.  3.5 4.  4.5 5. ]\n",
      "[0.5 1.5 2.5 3.5 4.5]\n",
      "[5.5 5.  4.5 4.  3.5 3.  2.5 2.  1.5 1.  0.5 0. ]\n"
     ]
    }
   ],
   "source": [
    "print(array[0])\n",
    "print(array[-1])\n",
    "print(array[1:-1])\n",
    "print(array[1:-1:2])\n",
    "print(array[::-1])"
   ]
  },
  {
   "cell_type": "markdown",
   "metadata": {
    "pycharm": {
     "name": "#%% md\n"
    }
   },
   "source": [
    "**Замечание**: Индексы и срезы в многомерных массивах не нужно разделять квадратными скобками \n",
    "\n",
    "т.е. вместо ```matrix[i][j]``` нужно использовать ```matrix[i, j]```"
   ]
  },
  {
   "cell_type": "markdown",
   "metadata": {
    "pycharm": {
     "name": "#%% md\n"
    }
   },
   "source": [
    "В качестве индексов можно использовать массивы:"
   ]
  },
  {
   "cell_type": "code",
   "execution_count": 32,
   "metadata": {
    "pycharm": {
     "name": "#%%\n"
    }
   },
   "outputs": [
    {
     "data": {
      "text/plain": [
       "array([0., 1., 2., 3., 4., 5.])"
      ]
     },
     "execution_count": 32,
     "metadata": {},
     "output_type": "execute_result"
    }
   ],
   "source": [
    "array[[0, 2, 4, 6, 8, 10]]"
   ]
  },
  {
   "cell_type": "code",
   "execution_count": 55,
   "metadata": {
    "pycharm": {
     "name": "#%%\n"
    }
   },
   "outputs": [
    {
     "data": {
      "text/plain": [
       "array([0., 1., 2., 3., 4., 5.])"
      ]
     },
     "execution_count": 55,
     "metadata": {},
     "output_type": "execute_result"
    }
   ],
   "source": [
    "array[[True, False, True, False, True, False, True, False, True, False, True, False]]"
   ]
  },
  {
   "cell_type": "code",
   "execution_count": 5,
   "metadata": {
    "pycharm": {
     "name": "#%%\n"
    }
   },
   "outputs": [
    {
     "name": "stdout",
     "output_type": "stream",
     "text": [
      "(1, 3) (3,)\n",
      "False\n",
      "True\n"
     ]
    }
   ],
   "source": [
    "x = np.array([[1, 2, 3]])\n",
    "y = np.array([1, 2, 3])\n",
    "\n",
    "print x.shape, y.shape\n",
    "\n",
    "print(np.array_equal(x, y))\n",
    "print(np.array_equal(x, y[np.newaxis, :]))"
   ]
  },
  {
   "cell_type": "code",
   "execution_count": 35,
   "metadata": {
    "pycharm": {
     "name": "#%%\n"
    }
   },
   "outputs": [
    {
     "data": {
      "text/plain": [
       "array([0, 1, 2, 3, 4, 5, 6, 7, 8, 9])"
      ]
     },
     "execution_count": 35,
     "metadata": {},
     "output_type": "execute_result"
    }
   ],
   "source": [
    "x = np.arange(10)\n",
    "x"
   ]
  },
  {
   "cell_type": "code",
   "execution_count": 10,
   "metadata": {
    "pycharm": {
     "name": "#%%\n"
    }
   },
   "outputs": [
    {
     "data": {
      "text/plain": [
       "array([6, 8])"
      ]
     },
     "execution_count": 10,
     "metadata": {},
     "output_type": "execute_result"
    }
   ],
   "source": [
    "x[(x % 2 == 0) & (x > 5)]"
   ]
  },
  {
   "cell_type": "code",
   "execution_count": 11,
   "metadata": {
    "pycharm": {
     "name": "#%%\n"
    }
   },
   "outputs": [
    {
     "name": "stdout",
     "output_type": "stream",
     "text": [
      "[0 1 2 3 4 5 6 7 8 9]\n",
      "[ 0  1  2  3  8 10 12 14 16 18]\n"
     ]
    }
   ],
   "source": [
    "print(x)\n",
    "x[x > 3] *= 2\n",
    "print(x)"
   ]
  },
  {
   "cell_type": "markdown",
   "metadata": {
    "pycharm": {
     "name": "#%% md\n"
    }
   },
   "source": [
    "Для копирования в numpy есть метод copy"
   ]
  },
  {
   "cell_type": "code",
   "execution_count": 12,
   "metadata": {
    "pycharm": {
     "name": "#%%\n"
    }
   },
   "outputs": [
    {
     "data": {
      "text/plain": [
       "array([ 0,  1,  2,  3,  8, 10, 12, 14, 16, 18])"
      ]
     },
     "execution_count": 12,
     "metadata": {},
     "output_type": "execute_result"
    }
   ],
   "source": [
    "x.copy()"
   ]
  },
  {
   "cell_type": "markdown",
   "metadata": {
    "pycharm": {
     "name": "#%% md\n"
    },
    "slideshow": {
     "slide_type": "slide"
    }
   },
   "source": [
    "### Чтение данных с помощью функции [genfromtxt](https://docs.scipy.org/doc/numpy/reference/generated/numpy.genfromtxt.html#numpy.genfromtxt)"
   ]
  },
  {
   "cell_type": "code",
   "execution_count": 36,
   "metadata": {
    "pycharm": {
     "name": "#%%\n"
    }
   },
   "outputs": [
    {
     "data": {
      "text/plain": [
       "array([(5.1, 3.5, 1.4, 0.2, 'setosa'), (4.9, 3. , 1.4, 0.2, 'setosa'),\n",
       "       (4.7, 3.2, 1.3, 0.2, 'setosa'), (4.6, 3.1, 1.5, 0.2, 'setosa'),\n",
       "       (5. , 3.6, 1.4, 0.2, 'setosa'), (7. , 3.2, 4.7, 1.4, 'versicolor'),\n",
       "       (6.4, 3.2, 4.5, 1.5, 'versicolor'),\n",
       "       (6.9, 3.1, 4.9, 1.5, 'versicolor'),\n",
       "       (5.5, 2.3, 4. , 1.3, 'versicolor'),\n",
       "       (6.5, 2.8, 4.6, 1.5, 'versicolor'),\n",
       "       (6.3, 3.3, 6. , 2.5, 'virginica'),\n",
       "       (5.8, 2.7, 5.1, 1.9, 'virginica'),\n",
       "       (7.1, 3. , 5.9, 2.1, 'virginica'),\n",
       "       (6.3, 2.9, 5.6, 1.8, 'virginica'),\n",
       "       (6.5, 3. , 5.8, 2.2, 'virginica')],\n",
       "      dtype=[('sepal_length_in_cm', '<f8'), ('sepal_width_in_cm', '<f8'), ('petal_length_in_cm', '<f8'), ('petal_width_in_cm', '<f8'), ('class', '<U10')])"
      ]
     },
     "execution_count": 36,
     "metadata": {},
     "output_type": "execute_result"
    }
   ],
   "source": [
    "iris = np.genfromtxt('iris_subset.txt', delimiter=',', names=True, dtype=[('sepal_length_in_cm', 'f8'), \n",
    "                                                                          ('sepal_width_in_cm', 'f8'), \n",
    "                                                                          ('petal_length_in_cm', 'f8'), \n",
    "                                                                          ('petal_width_in_cm', 'f8'),\n",
    "                                                                          ('class', 'U10')])\n",
    "iris"
   ]
  },
  {
   "cell_type": "markdown",
   "metadata": {
    "pycharm": {
     "name": "#%% md\n"
    }
   },
   "source": [
    "Значения строки можно запросить по индексу, а значения колонки по её названию"
   ]
  },
  {
   "cell_type": "code",
   "execution_count": 37,
   "metadata": {
    "pycharm": {
     "name": "#%%\n"
    }
   },
   "outputs": [
    {
     "name": "stdout",
     "output_type": "stream",
     "text": [
      "Описание первого элемента: (5.1, 3.5, 1.4, 0.2, 'setosa')\n",
      "Значения столбца sepal_length_in_cm: [5.1 4.9 4.7 4.6 5.  7.  6.4 6.9 5.5 6.5 6.3 5.8 7.1 6.3 6.5]\n"
     ]
    }
   ],
   "source": [
    "print('Описание первого элемента: %s'%iris[0])\n",
    "print('Значения столбца sepal_length_in_cm: %s'%iris['sepal_length_in_cm'])"
   ]
  },
  {
   "cell_type": "code",
   "execution_count": 38,
   "metadata": {
    "pycharm": {
     "name": "#%%\n"
    }
   },
   "outputs": [
    {
     "name": "stdout",
     "output_type": "stream",
     "text": [
      "Значения слтобца sepal_length_in_cm\n",
      "\tclass setosa: [5.1 4.9 4.7 4.6 5. ]\n",
      "\tclass versicolor: [7.  6.4 6.9 5.5 6.5]\n"
     ]
    }
   ],
   "source": [
    "sepal_length_setosa = iris['sepal_length_in_cm'][iris['class'] == 'setosa']\n",
    "sepal_length_versicolor = iris['sepal_length_in_cm'][iris['class'] == 'versicolor']\n",
    "\n",
    "print('Значения слтобца sepal_length_in_cm\\n\\tclass setosa: %s\\n\\tclass versicolor: %s'%(sepal_length_setosa, \n",
    "                                                                                         sepal_length_versicolor))"
   ]
  },
  {
   "cell_type": "markdown",
   "metadata": {
    "pycharm": {
     "name": "#%% md\n"
    }
   },
   "source": [
    "При чтение данных из файла можно пропускать строки в конце и в начале, используя **skip_header** и **skip_footer**, а также брать только нужные столбцы - **usecols**"
   ]
  },
  {
   "cell_type": "code",
   "execution_count": 39,
   "metadata": {
    "pycharm": {
     "name": "#%%\n"
    }
   },
   "outputs": [
    {
     "data": {
      "text/plain": [
       "array(['setosa', 'setosa', 'setosa', 'setosa', 'setosa', 'versicolor',\n",
       "       'versicolor', 'versicolor', 'versicolor', 'versicolor',\n",
       "       'virginica', 'virginica', 'virginica', 'virginica', 'virginica'],\n",
       "      dtype='<U10')"
      ]
     },
     "execution_count": 39,
     "metadata": {},
     "output_type": "execute_result"
    }
   ],
   "source": [
    "iris_class = np.genfromtxt('iris_subset.txt', delimiter=',', skip_header=1, usecols=4, dtype='U10')\n",
    "iris_class"
   ]
  },
  {
   "cell_type": "code",
   "execution_count": 40,
   "metadata": {
    "pycharm": {
     "name": "#%%\n"
    }
   },
   "outputs": [
    {
     "data": {
      "text/plain": [
       "array([[5.1, 3.5, 1.4, 0.2],\n",
       "       [4.9, 3. , 1.4, 0.2],\n",
       "       [4.7, 3.2, 1.3, 0.2],\n",
       "       [4.6, 3.1, 1.5, 0.2],\n",
       "       [5. , 3.6, 1.4, 0.2],\n",
       "       [7. , 3.2, 4.7, 1.4],\n",
       "       [6.4, 3.2, 4.5, 1.5],\n",
       "       [6.9, 3.1, 4.9, 1.5],\n",
       "       [5.5, 2.3, 4. , 1.3],\n",
       "       [6.5, 2.8, 4.6, 1.5],\n",
       "       [6.3, 3.3, 6. , 2.5],\n",
       "       [5.8, 2.7, 5.1, 1.9],\n",
       "       [7.1, 3. , 5.9, 2.1],\n",
       "       [6.3, 2.9, 5.6, 1.8],\n",
       "       [6.5, 3. , 5.8, 2.2]])"
      ]
     },
     "execution_count": 40,
     "metadata": {},
     "output_type": "execute_result"
    }
   ],
   "source": [
    "iris_features = np.genfromtxt('iris_subset.txt', delimiter=',', skip_header=1, usecols=range(4))\n",
    "iris_features"
   ]
  },
  {
   "cell_type": "code",
   "execution_count": 41,
   "metadata": {
    "pycharm": {
     "name": "#%%\n"
    }
   },
   "outputs": [],
   "source": [
    "features_setosa = iris_features[iris_class == 'setosa']\n",
    "features_versicolor = iris_features[iris_class == 'versicolor']"
   ]
  },
  {
   "cell_type": "markdown",
   "metadata": {
    "collapsed": true,
    "pycharm": {
     "name": "#%% md\n"
    }
   },
   "source": [
    "Операции в NumPy можно производить непосредственно над векторами одинаковой размерности без использования циклов\n",
    "\n",
    "Например, вычисление поэлементной разности между векторами выглядит следующим образом:"
   ]
  },
  {
   "cell_type": "code",
   "execution_count": 42,
   "metadata": {
    "pycharm": {
     "name": "#%%\n"
    }
   },
   "outputs": [
    {
     "data": {
      "text/plain": [
       "array([1.9, 1.5, 2.2, 0.9, 1.5])"
      ]
     },
     "execution_count": 42,
     "metadata": {},
     "output_type": "execute_result"
    }
   ],
   "source": [
    "sepal_length_versicolor - sepal_length_setosa"
   ]
  },
  {
   "cell_type": "markdown",
   "metadata": {
    "pycharm": {
     "name": "#%% md\n"
    }
   },
   "source": [
    "Аналогично для многомерных массивов"
   ]
  },
  {
   "cell_type": "code",
   "execution_count": 43,
   "metadata": {
    "pycharm": {
     "name": "#%%\n"
    }
   },
   "outputs": [
    {
     "data": {
      "text/plain": [
       "array([[ 1.9, -0.3,  3.3,  1.2],\n",
       "       [ 1.5,  0.2,  3.1,  1.3],\n",
       "       [ 2.2, -0.1,  3.6,  1.3],\n",
       "       [ 0.9, -0.8,  2.5,  1.1],\n",
       "       [ 1.5, -0.8,  3.2,  1.3]])"
      ]
     },
     "execution_count": 43,
     "metadata": {},
     "output_type": "execute_result"
    }
   ],
   "source": [
    "features_versicolor - features_setosa"
   ]
  },
  {
   "cell_type": "markdown",
   "metadata": {
    "pycharm": {
     "name": "#%% md\n"
    }
   },
   "source": [
    "**Замечание:** Все арифметические операции над массивами одинаковой размерности производятся поэлементно"
   ]
  },
  {
   "cell_type": "markdown",
   "metadata": {
    "pycharm": {
     "name": "#%% md\n"
    }
   },
   "source": [
    "## [Broadcasting](https://docs.scipy.org/doc/numpy/user/basics.broadcasting.html)"
   ]
  },
  {
   "cell_type": "markdown",
   "metadata": {
    "pycharm": {
     "name": "#%% md\n"
    }
   },
   "source": [
    "Broadcasting снимает правило одной размерности и позволяет производить арифметические операции над массивами разных, но всё-таки согласованных размерностей. Простейшим примером является умножение вектора на число:\n",
    "\n",
    "![Imgur](https://i.imgur.com/tE3ZCWG.gif)"
   ]
  },
  {
   "cell_type": "code",
   "execution_count": 65,
   "metadata": {
    "pycharm": {
     "name": "#%%\n"
    }
   },
   "outputs": [
    {
     "data": {
      "text/plain": [
       "array([2, 4, 6])"
      ]
     },
     "execution_count": 65,
     "metadata": {},
     "output_type": "execute_result"
    }
   ],
   "source": [
    "2*np.arange(1, 4)"
   ]
  },
  {
   "cell_type": "markdown",
   "metadata": {
    "pycharm": {
     "name": "#%% md\n"
    }
   },
   "source": [
    "Правило согласования размерностей выражается в одном предложении: \n",
    "\n",
    "```In order to broadcast, the size of the trailing axes for both arrays in an operation must either be the same size or one of them must be one```"
   ]
  },
  {
   "cell_type": "markdown",
   "metadata": {
    "pycharm": {
     "name": "#%% md\n"
    }
   },
   "source": [
    "Если количество размерностей не совпадают, то к массиву меньшей размерности добавляются фиктивные размерности \"слева\", например:\n",
    "```\n",
    "a  = np.ones((2,3,4))\n",
    "b = np.ones(4)\n",
    "c = a * b # here a.shape=(2,3,4) and b.shape is considered to be (1,1,4)\n",
    "```"
   ]
  },
  {
   "cell_type": "markdown",
   "metadata": {
    "pycharm": {
     "name": "#%% md\n"
    }
   },
   "source": [
    "Прибавим к каждой строчки матрицы один и тот же вектор:"
   ]
  },
  {
   "cell_type": "markdown",
   "metadata": {
    "pycharm": {
     "name": "#%% md\n"
    }
   },
   "source": [
    "![Imgur](https://i.imgur.com/VsP2dqT.gif)"
   ]
  },
  {
   "cell_type": "code",
   "execution_count": 66,
   "metadata": {
    "pycharm": {
     "name": "#%%\n"
    }
   },
   "outputs": [
    {
     "data": {
      "text/plain": [
       "array([[ 0,  1,  2],\n",
       "       [10, 11, 12],\n",
       "       [20, 21, 22],\n",
       "       [30, 31, 32]])"
      ]
     },
     "execution_count": 66,
     "metadata": {},
     "output_type": "execute_result"
    }
   ],
   "source": [
    "np.array([[0, 0, 0], [10, 10, 10], [20, 20, 20], [30, 30, 30]]) + np.arange(3)"
   ]
  },
  {
   "cell_type": "markdown",
   "metadata": {
    "pycharm": {
     "name": "#%% md\n"
    }
   },
   "source": [
    "Теперь если мы хотим, проделать тот же трюк но со столбцами, то мы не можем просто добавить вектор состоящий из 4 элементов т.к. в данном случае размеры будут не согласованы"
   ]
  },
  {
   "cell_type": "markdown",
   "metadata": {
    "pycharm": {
     "name": "#%% md\n"
    }
   },
   "source": [
    "![Imgur](https://i.imgur.com/9LvGoeL.gif)"
   ]
  },
  {
   "cell_type": "markdown",
   "metadata": {
    "pycharm": {
     "name": "#%% md\n"
    }
   },
   "source": [
    "Сначала нужно преоброзовать вектор к виду:"
   ]
  },
  {
   "cell_type": "code",
   "execution_count": 72,
   "metadata": {
    "pycharm": {
     "name": "#%%\n"
    }
   },
   "outputs": [
    {
     "data": {
      "text/plain": [
       "array([[0],\n",
       "       [1],\n",
       "       [2],\n",
       "       [3]])"
      ]
     },
     "execution_count": 72,
     "metadata": {},
     "output_type": "execute_result"
    }
   ],
   "source": [
    "np.arange(4)[:, np.newaxis]"
   ]
  },
  {
   "cell_type": "markdown",
   "metadata": {
    "pycharm": {
     "name": "#%% md\n"
    }
   },
   "source": [
    "А затем к нему добавить матрицу:"
   ]
  },
  {
   "cell_type": "code",
   "execution_count": 46,
   "metadata": {
    "pycharm": {
     "name": "#%%\n"
    }
   },
   "outputs": [
    {
     "data": {
      "text/plain": [
       "array([[ 0,  0,  0],\n",
       "       [11, 11, 11],\n",
       "       [22, 22, 22],\n",
       "       [33, 33, 33]])"
      ]
     },
     "execution_count": 46,
     "metadata": {},
     "output_type": "execute_result"
    }
   ],
   "source": [
    "np.arange(4)[:, np.newaxis]+np.array([[0, 0, 0], [10, 10, 10], [20, 20, 20], [30, 30, 30]])"
   ]
  },
  {
   "cell_type": "markdown",
   "metadata": {
    "pycharm": {
     "name": "#%% md\n"
    }
   },
   "source": [
    "Если нужно перемножить многомерные массивы не поэлеметно, а по правилу перемножения матриц, то следует воспользоваться [np.dot](https://docs.scipy.org/doc/numpy/reference/generated/numpy.dot.html)\n",
    "\n",
    "Транспонирование производится с помощью array**.T**\n",
    "\n",
    "Так же в NumPy реализованно много полезных операций для работы с массивами: [np.min](https://docs.scipy.org/doc/numpy/reference/generated/numpy.ndarray.min.html), [np.max](https://docs.scipy.org/doc/numpy/reference/generated/numpy.ndarray.max.html), [np.sum](https://docs.scipy.org/doc/numpy/reference/generated/numpy.sum.html), [np.mean](https://docs.scipy.org/doc/numpy/reference/generated/numpy.mean.html) и т.д.\n",
    "\n",
    "**Замечание:** В каждой из перечисленных функций есть параметр **axis**, который указывает по какому измерению производить данную операцию. По умолчанию операция производится по всем значениям массива\n",
    "\n",
    "Например,"
   ]
  },
  {
   "cell_type": "code",
   "execution_count": 9,
   "metadata": {
    "pycharm": {
     "name": "#%%\n"
    }
   },
   "outputs": [
    {
     "name": "stdout",
     "output_type": "stream",
     "text": [
      "Среднее значение всех значений класса versicolor: 3.84\n",
      "Среднее значение каждого признака класса versicolor: [4.075 3.9   4.1   3.275 3.85 ]\n"
     ]
    }
   ],
   "source": [
    "print('Среднее значение всех значений класса versicolor: %s'%np.mean(features_versicolor))\n",
    "print('Среднее значение каждого признака класса versicolor: %s'%np.mean(features_versicolor, axis=1))"
   ]
  },
  {
   "cell_type": "markdown",
   "metadata": {
    "pycharm": {
     "name": "#%% md\n"
    }
   },
   "source": [
    "Теперь эффективно посчитаем $\\frac{1}{n} \\sum\\limits_{i=1}^n |x_i-y_i|$ для каждой пары $(x, y)$, где $x$ - вектор признаков объекта из класса setosa, а $y$ - вектор признаков объекта из класса versicolor"
   ]
  },
  {
   "cell_type": "code",
   "execution_count": 103,
   "metadata": {
    "pycharm": {
     "name": "#%%\n"
    }
   },
   "outputs": [
    {
     "data": {
      "text/plain": [
       "array([[1.675, 1.7  , 1.725, 1.725, 1.725],\n",
       "       [1.5  , 1.525, 1.55 , 1.55 , 1.55 ],\n",
       "       [1.75 , 1.725, 1.8  , 1.75 , 1.8  ],\n",
       "       [1.325, 1.25 , 1.375, 1.325, 1.375],\n",
       "       [1.65 , 1.575, 1.7  , 1.65 , 1.7  ]])"
      ]
     },
     "execution_count": 103,
     "metadata": {},
     "output_type": "execute_result"
    }
   ],
   "source": [
    "np.mean(np.abs(features_setosa - features_versicolor[:, np.newaxis]), axis=2)"
   ]
  },
  {
   "cell_type": "markdown",
   "metadata": {
    "pycharm": {
     "name": "#%% md\n"
    }
   },
   "source": [
    "### Операции"
   ]
  },
  {
   "cell_type": "code",
   "execution_count": 25,
   "metadata": {
    "pycharm": {
     "name": "#%%\n"
    }
   },
   "outputs": [
    {
     "name": "stdout",
     "output_type": "stream",
     "text": [
      "[[[ 0  1  2  3]\n",
      "  [ 4  5  6  7]]\n",
      "\n",
      " [[ 8  9 10 11]\n",
      "  [12 13 14 15]]\n",
      "\n",
      " [[16 17 18 19]\n",
      "  [20 21 22 23]]\n",
      "\n",
      " [[24 25 26 27]\n",
      "  [28 29 30 31]]\n",
      "\n",
      " [[32 33 34 35]\n",
      "  [36 37 38 39]]]\n"
     ]
    }
   ],
   "source": [
    "x = np.arange(40).reshape(5, 2, 4)\n",
    "print(x)"
   ]
  },
  {
   "cell_type": "code",
   "execution_count": 24,
   "metadata": {
    "pycharm": {
     "name": "#%%\n"
    }
   },
   "outputs": [
    {
     "name": "stdout",
     "output_type": "stream",
     "text": [
      "19.5\n",
      "19.5\n"
     ]
    }
   ],
   "source": [
    "print(x.mean())\n",
    "print(np.mean(x))"
   ]
  },
  {
   "cell_type": "code",
   "execution_count": 27,
   "metadata": {
    "pycharm": {
     "name": "#%%\n"
    }
   },
   "outputs": [
    {
     "data": {
      "text/plain": [
       "array([[16., 17., 18., 19.],\n",
       "       [20., 21., 22., 23.]])"
      ]
     },
     "execution_count": 27,
     "metadata": {},
     "output_type": "execute_result"
    }
   ],
   "source": [
    "x.mean(axis=0)"
   ]
  },
  {
   "cell_type": "code",
   "execution_count": 29,
   "metadata": {
    "pycharm": {
     "name": "#%%\n"
    }
   },
   "outputs": [
    {
     "data": {
      "text/plain": [
       "array([[ 2.,  3.,  4.,  5.],\n",
       "       [10., 11., 12., 13.],\n",
       "       [18., 19., 20., 21.],\n",
       "       [26., 27., 28., 29.],\n",
       "       [34., 35., 36., 37.]])"
      ]
     },
     "execution_count": 29,
     "metadata": {},
     "output_type": "execute_result"
    }
   ],
   "source": [
    "x.mean(axis=1)"
   ]
  },
  {
   "cell_type": "code",
   "execution_count": 30,
   "metadata": {
    "pycharm": {
     "name": "#%%\n"
    }
   },
   "outputs": [
    {
     "data": {
      "text/plain": [
       "array([[ 1.5,  5.5],\n",
       "       [ 9.5, 13.5],\n",
       "       [17.5, 21.5],\n",
       "       [25.5, 29.5],\n",
       "       [33.5, 37.5]])"
      ]
     },
     "execution_count": 30,
     "metadata": {},
     "output_type": "execute_result"
    }
   ],
   "source": [
    "x.mean(axis=2)"
   ]
  },
  {
   "cell_type": "code",
   "execution_count": 34,
   "metadata": {
    "pycharm": {
     "name": "#%%\n"
    }
   },
   "outputs": [
    {
     "data": {
      "text/plain": [
       "array([17.5, 21.5])"
      ]
     },
     "execution_count": 34,
     "metadata": {},
     "output_type": "execute_result"
    }
   ],
   "source": [
    "x.mean(axis=(0,2))"
   ]
  },
  {
   "cell_type": "code",
   "execution_count": 35,
   "metadata": {
    "pycharm": {
     "name": "#%%\n"
    }
   },
   "outputs": [
    {
     "data": {
      "text/plain": [
       "19.5"
      ]
     },
     "execution_count": 35,
     "metadata": {},
     "output_type": "execute_result"
    }
   ],
   "source": [
    "x.mean(axis=(0,1,2))"
   ]
  },
  {
   "cell_type": "markdown",
   "metadata": {
    "pycharm": {
     "name": "#%% md\n"
    }
   },
   "source": [
    "### Конкатенация многомерных массивов\n",
    "\n",
    "Конкатенировать несколько массивом можно с помощью функций **np.concatenate, np.hstack, np.vstack, np.dstack**"
   ]
  },
  {
   "cell_type": "code",
   "execution_count": 47,
   "metadata": {
    "pycharm": {
     "name": "#%%\n"
    }
   },
   "outputs": [],
   "source": [
    "x = np.arange(10).reshape(5, 2)\n",
    "y = np.arange(100, 120).reshape(5, 4)"
   ]
  },
  {
   "cell_type": "code",
   "execution_count": 48,
   "metadata": {
    "pycharm": {
     "name": "#%%\n"
    }
   },
   "outputs": [
    {
     "data": {
      "text/plain": [
       "array([[0, 1],\n",
       "       [2, 3],\n",
       "       [4, 5],\n",
       "       [6, 7],\n",
       "       [8, 9]])"
      ]
     },
     "execution_count": 48,
     "metadata": {},
     "output_type": "execute_result"
    }
   ],
   "source": [
    "x"
   ]
  },
  {
   "cell_type": "code",
   "execution_count": 49,
   "metadata": {
    "pycharm": {
     "name": "#%%\n"
    }
   },
   "outputs": [
    {
     "data": {
      "text/plain": [
       "array([[100, 101, 102, 103],\n",
       "       [104, 105, 106, 107],\n",
       "       [108, 109, 110, 111],\n",
       "       [112, 113, 114, 115],\n",
       "       [116, 117, 118, 119]])"
      ]
     },
     "execution_count": 49,
     "metadata": {},
     "output_type": "execute_result"
    }
   ],
   "source": [
    "y"
   ]
  },
  {
   "cell_type": "code",
   "execution_count": 50,
   "metadata": {
    "pycharm": {
     "name": "#%%\n"
    }
   },
   "outputs": [
    {
     "data": {
      "text/plain": [
       "array([[  0,   1, 100, 101, 102, 103],\n",
       "       [  2,   3, 104, 105, 106, 107],\n",
       "       [  4,   5, 108, 109, 110, 111],\n",
       "       [  6,   7, 112, 113, 114, 115],\n",
       "       [  8,   9, 116, 117, 118, 119]])"
      ]
     },
     "execution_count": 50,
     "metadata": {},
     "output_type": "execute_result"
    }
   ],
   "source": [
    "np.hstack((x, y))"
   ]
  },
  {
   "cell_type": "code",
   "execution_count": 51,
   "metadata": {
    "pycharm": {
     "name": "#%%\n"
    }
   },
   "outputs": [],
   "source": [
    "z = np.arange(1000, 1020).reshape(10, 2)"
   ]
  },
  {
   "cell_type": "code",
   "execution_count": 56,
   "metadata": {
    "pycharm": {
     "name": "#%%\n"
    }
   },
   "outputs": [
    {
     "data": {
      "text/plain": [
       "array([[1000, 1001],\n",
       "       [1002, 1003],\n",
       "       [1004, 1005],\n",
       "       [1006, 1007],\n",
       "       [1008, 1009],\n",
       "       [1010, 1011],\n",
       "       [1012, 1013],\n",
       "       [1014, 1015],\n",
       "       [1016, 1017],\n",
       "       [1018, 1019]])"
      ]
     },
     "execution_count": 56,
     "metadata": {},
     "output_type": "execute_result"
    }
   ],
   "source": [
    "z"
   ]
  },
  {
   "cell_type": "code",
   "execution_count": 53,
   "metadata": {
    "pycharm": {
     "name": "#%%\n"
    }
   },
   "outputs": [
    {
     "data": {
      "text/plain": [
       "array([[[[0]]]])"
      ]
     },
     "execution_count": 53,
     "metadata": {},
     "output_type": "execute_result"
    }
   ],
   "source": [
    "p = np.arange(1).reshape([1, 1, 1, 1])\n",
    "p"
   ]
  },
  {
   "cell_type": "code",
   "execution_count": 57,
   "metadata": {
    "pycharm": {
     "name": "#%%\n"
    }
   },
   "outputs": [
    {
     "name": "stdout",
     "output_type": "stream",
     "text": [
      "('vstack: ', (2, 1, 1, 1))\n",
      "('hstack: ', (1, 2, 1, 1))\n",
      "('dstack: ', (1, 1, 2, 1))\n"
     ]
    }
   ],
   "source": [
    "print(\"vstack: \", np.vstack((p, p)).shape)\n",
    "print(\"hstack: \", np.hstack((p, p)).shape)\n",
    "print(\"dstack: \", np.dstack((p, p)).shape)"
   ]
  },
  {
   "cell_type": "code",
   "execution_count": 61,
   "metadata": {
    "pycharm": {
     "name": "#%%\n"
    }
   },
   "outputs": [
    {
     "data": {
      "text/plain": [
       "(1, 1, 1, 2)"
      ]
     },
     "execution_count": 61,
     "metadata": {},
     "output_type": "execute_result"
    }
   ],
   "source": [
    "np.concatenate((p, p), axis=3).shape"
   ]
  },
  {
   "cell_type": "markdown",
   "metadata": {
    "pycharm": {
     "name": "#%% md\n"
    }
   },
   "source": [
    "### Типы"
   ]
  },
  {
   "cell_type": "code",
   "execution_count": 62,
   "metadata": {
    "pycharm": {
     "name": "#%%\n"
    }
   },
   "outputs": [],
   "source": [
    "x = [1, 2, 70000]"
   ]
  },
  {
   "cell_type": "code",
   "execution_count": 63,
   "metadata": {
    "pycharm": {
     "name": "#%%\n"
    }
   },
   "outputs": [
    {
     "data": {
      "text/plain": [
       "array([1.e+00, 2.e+00, 7.e+04], dtype=float128)"
      ]
     },
     "execution_count": 63,
     "metadata": {},
     "output_type": "execute_result"
    }
   ],
   "source": [
    "np.array(x, dtype=np.float128)"
   ]
  },
  {
   "cell_type": "code",
   "execution_count": 64,
   "metadata": {
    "pycharm": {
     "name": "#%%\n"
    }
   },
   "outputs": [
    {
     "data": {
      "text/plain": [
       "array([   1,    2, 4464], dtype=uint16)"
      ]
     },
     "execution_count": 64,
     "metadata": {},
     "output_type": "execute_result"
    }
   ],
   "source": [
    "np.array(x, dtype=np.uint16)"
   ]
  },
  {
   "cell_type": "code",
   "execution_count": 65,
   "metadata": {
    "pycharm": {
     "name": "#%%\n"
    }
   },
   "outputs": [
    {
     "data": {
      "text/plain": [
       "array([u'1', u'2', u'70000'], dtype='<U5')"
      ]
     },
     "execution_count": 65,
     "metadata": {},
     "output_type": "execute_result"
    }
   ],
   "source": [
    "np.array(x, dtype=np.unicode_)"
   ]
  },
  {
   "cell_type": "markdown",
   "metadata": {
    "pycharm": {
     "name": "#%% md\n"
    }
   },
   "source": [
    "### Функциональное программирование"
   ]
  },
  {
   "cell_type": "code",
   "execution_count": 66,
   "metadata": {
    "pycharm": {
     "name": "#%%\n"
    }
   },
   "outputs": [],
   "source": [
    "def f(value):\n",
    "    return np.sqrt(value)\n",
    "\n",
    "vf = np.vectorize(f)"
   ]
  },
  {
   "cell_type": "code",
   "execution_count": 73,
   "metadata": {
    "pycharm": {
     "name": "#%%\n"
    }
   },
   "outputs": [
    {
     "data": {
      "text/plain": [
       "array([0.        , 1.        , 1.41421356, 1.73205081, 2.        ,\n",
       "       2.23606798, 2.44948974, 2.64575131, 2.82842712, 3.        ])"
      ]
     },
     "execution_count": 73,
     "metadata": {},
     "output_type": "execute_result"
    }
   ],
   "source": [
    "vf(np.arange(10))"
   ]
  },
  {
   "cell_type": "markdown",
   "metadata": {
    "pycharm": {
     "name": "#%% md\n"
    },
    "slideshow": {
     "slide_type": "slide"
    }
   },
   "source": [
    "# Pandas\n",
    "\n",
    "[pandas.pydata.org/docs/](https://pandas.pydata.org/docs/)\n",
    "\n",
    "Подключаем библиотеку Pandas, предназначенную для считывания, предобработки и быстрой визуализации данных, а также для простой аналитики."
   ]
  },
  {
   "cell_type": "code",
   "execution_count": 57,
   "metadata": {
    "pycharm": {
     "name": "#%%\n"
    }
   },
   "outputs": [],
   "source": [
    "import pandas as pd\n",
    "df = pd.read_csv(\"titanic.csv\")"
   ]
  },
  {
   "cell_type": "code",
   "execution_count": 58,
   "metadata": {
    "pycharm": {
     "name": "#%%\n"
    }
   },
   "outputs": [
    {
     "data": {
      "text/html": [
       "<div>\n",
       "<style scoped>\n",
       "    .dataframe tbody tr th:only-of-type {\n",
       "        vertical-align: middle;\n",
       "    }\n",
       "\n",
       "    .dataframe tbody tr th {\n",
       "        vertical-align: top;\n",
       "    }\n",
       "\n",
       "    .dataframe thead th {\n",
       "        text-align: right;\n",
       "    }\n",
       "</style>\n",
       "<table border=\"1\" class=\"dataframe\">\n",
       "  <thead>\n",
       "    <tr style=\"text-align: right;\">\n",
       "      <th></th>\n",
       "      <th>PassengerId</th>\n",
       "      <th>Survived</th>\n",
       "      <th>Pclass</th>\n",
       "      <th>Name</th>\n",
       "      <th>Sex</th>\n",
       "      <th>Age</th>\n",
       "      <th>SibSp</th>\n",
       "      <th>Parch</th>\n",
       "      <th>Ticket</th>\n",
       "      <th>Fare</th>\n",
       "      <th>Cabin</th>\n",
       "      <th>Embarked</th>\n",
       "    </tr>\n",
       "  </thead>\n",
       "  <tbody>\n",
       "    <tr>\n",
       "      <th>0</th>\n",
       "      <td>1</td>\n",
       "      <td>0</td>\n",
       "      <td>3</td>\n",
       "      <td>Braund, Mr. Owen Harris</td>\n",
       "      <td>male</td>\n",
       "      <td>22.0</td>\n",
       "      <td>1</td>\n",
       "      <td>0</td>\n",
       "      <td>A/5 21171</td>\n",
       "      <td>7.2500</td>\n",
       "      <td>NaN</td>\n",
       "      <td>S</td>\n",
       "    </tr>\n",
       "    <tr>\n",
       "      <th>1</th>\n",
       "      <td>2</td>\n",
       "      <td>1</td>\n",
       "      <td>1</td>\n",
       "      <td>Cumings, Mrs. John Bradley (Florence Briggs Th...</td>\n",
       "      <td>female</td>\n",
       "      <td>38.0</td>\n",
       "      <td>1</td>\n",
       "      <td>0</td>\n",
       "      <td>PC 17599</td>\n",
       "      <td>71.2833</td>\n",
       "      <td>C85</td>\n",
       "      <td>C</td>\n",
       "    </tr>\n",
       "    <tr>\n",
       "      <th>2</th>\n",
       "      <td>3</td>\n",
       "      <td>1</td>\n",
       "      <td>3</td>\n",
       "      <td>Heikkinen, Miss. Laina</td>\n",
       "      <td>female</td>\n",
       "      <td>26.0</td>\n",
       "      <td>0</td>\n",
       "      <td>0</td>\n",
       "      <td>STON/O2. 3101282</td>\n",
       "      <td>7.9250</td>\n",
       "      <td>NaN</td>\n",
       "      <td>S</td>\n",
       "    </tr>\n",
       "    <tr>\n",
       "      <th>3</th>\n",
       "      <td>4</td>\n",
       "      <td>1</td>\n",
       "      <td>1</td>\n",
       "      <td>Futrelle, Mrs. Jacques Heath (Lily May Peel)</td>\n",
       "      <td>female</td>\n",
       "      <td>35.0</td>\n",
       "      <td>1</td>\n",
       "      <td>0</td>\n",
       "      <td>113803</td>\n",
       "      <td>53.1000</td>\n",
       "      <td>C123</td>\n",
       "      <td>S</td>\n",
       "    </tr>\n",
       "    <tr>\n",
       "      <th>4</th>\n",
       "      <td>5</td>\n",
       "      <td>0</td>\n",
       "      <td>3</td>\n",
       "      <td>Allen, Mr. William Henry</td>\n",
       "      <td>male</td>\n",
       "      <td>35.0</td>\n",
       "      <td>0</td>\n",
       "      <td>0</td>\n",
       "      <td>373450</td>\n",
       "      <td>8.0500</td>\n",
       "      <td>NaN</td>\n",
       "      <td>S</td>\n",
       "    </tr>\n",
       "    <tr>\n",
       "      <th>5</th>\n",
       "      <td>6</td>\n",
       "      <td>0</td>\n",
       "      <td>3</td>\n",
       "      <td>Moran, Mr. James</td>\n",
       "      <td>male</td>\n",
       "      <td>NaN</td>\n",
       "      <td>0</td>\n",
       "      <td>0</td>\n",
       "      <td>330877</td>\n",
       "      <td>8.4583</td>\n",
       "      <td>NaN</td>\n",
       "      <td>Q</td>\n",
       "    </tr>\n",
       "    <tr>\n",
       "      <th>6</th>\n",
       "      <td>7</td>\n",
       "      <td>0</td>\n",
       "      <td>1</td>\n",
       "      <td>McCarthy, Mr. Timothy J</td>\n",
       "      <td>male</td>\n",
       "      <td>54.0</td>\n",
       "      <td>0</td>\n",
       "      <td>0</td>\n",
       "      <td>17463</td>\n",
       "      <td>51.8625</td>\n",
       "      <td>E46</td>\n",
       "      <td>S</td>\n",
       "    </tr>\n",
       "  </tbody>\n",
       "</table>\n",
       "</div>"
      ],
      "text/plain": [
       "   PassengerId  Survived  Pclass  \\\n",
       "0            1         0       3   \n",
       "1            2         1       1   \n",
       "2            3         1       3   \n",
       "3            4         1       1   \n",
       "4            5         0       3   \n",
       "5            6         0       3   \n",
       "6            7         0       1   \n",
       "\n",
       "                                                Name     Sex   Age  SibSp  \\\n",
       "0                            Braund, Mr. Owen Harris    male  22.0      1   \n",
       "1  Cumings, Mrs. John Bradley (Florence Briggs Th...  female  38.0      1   \n",
       "2                             Heikkinen, Miss. Laina  female  26.0      0   \n",
       "3       Futrelle, Mrs. Jacques Heath (Lily May Peel)  female  35.0      1   \n",
       "4                           Allen, Mr. William Henry    male  35.0      0   \n",
       "5                                   Moran, Mr. James    male   NaN      0   \n",
       "6                            McCarthy, Mr. Timothy J    male  54.0      0   \n",
       "\n",
       "   Parch            Ticket     Fare Cabin Embarked  \n",
       "0      0         A/5 21171   7.2500   NaN        S  \n",
       "1      0          PC 17599  71.2833   C85        C  \n",
       "2      0  STON/O2. 3101282   7.9250   NaN        S  \n",
       "3      0            113803  53.1000  C123        S  \n",
       "4      0            373450   8.0500   NaN        S  \n",
       "5      0            330877   8.4583   NaN        Q  \n",
       "6      0             17463  51.8625   E46        S  "
      ]
     },
     "execution_count": 58,
     "metadata": {},
     "output_type": "execute_result"
    }
   ],
   "source": [
    "df.head(7)"
   ]
  },
  {
   "cell_type": "code",
   "execution_count": 5,
   "metadata": {
    "pycharm": {
     "name": "#%%\n"
    }
   },
   "outputs": [
    {
     "data": {
      "text/html": [
       "<div>\n",
       "<style scoped>\n",
       "    .dataframe tbody tr th:only-of-type {\n",
       "        vertical-align: middle;\n",
       "    }\n",
       "\n",
       "    .dataframe tbody tr th {\n",
       "        vertical-align: top;\n",
       "    }\n",
       "\n",
       "    .dataframe thead th {\n",
       "        text-align: right;\n",
       "    }\n",
       "</style>\n",
       "<table border=\"1\" class=\"dataframe\">\n",
       "  <thead>\n",
       "    <tr style=\"text-align: right;\">\n",
       "      <th></th>\n",
       "      <th>PassengerId</th>\n",
       "      <th>Survived</th>\n",
       "      <th>Pclass</th>\n",
       "      <th>Age</th>\n",
       "      <th>SibSp</th>\n",
       "      <th>Parch</th>\n",
       "      <th>Fare</th>\n",
       "    </tr>\n",
       "  </thead>\n",
       "  <tbody>\n",
       "    <tr>\n",
       "      <th>count</th>\n",
       "      <td>891.000000</td>\n",
       "      <td>891.000000</td>\n",
       "      <td>891.000000</td>\n",
       "      <td>714.000000</td>\n",
       "      <td>891.000000</td>\n",
       "      <td>891.000000</td>\n",
       "      <td>891.000000</td>\n",
       "    </tr>\n",
       "    <tr>\n",
       "      <th>mean</th>\n",
       "      <td>446.000000</td>\n",
       "      <td>0.383838</td>\n",
       "      <td>2.308642</td>\n",
       "      <td>29.699118</td>\n",
       "      <td>0.523008</td>\n",
       "      <td>0.381594</td>\n",
       "      <td>32.204208</td>\n",
       "    </tr>\n",
       "    <tr>\n",
       "      <th>std</th>\n",
       "      <td>257.353842</td>\n",
       "      <td>0.486592</td>\n",
       "      <td>0.836071</td>\n",
       "      <td>14.526497</td>\n",
       "      <td>1.102743</td>\n",
       "      <td>0.806057</td>\n",
       "      <td>49.693429</td>\n",
       "    </tr>\n",
       "    <tr>\n",
       "      <th>min</th>\n",
       "      <td>1.000000</td>\n",
       "      <td>0.000000</td>\n",
       "      <td>1.000000</td>\n",
       "      <td>0.420000</td>\n",
       "      <td>0.000000</td>\n",
       "      <td>0.000000</td>\n",
       "      <td>0.000000</td>\n",
       "    </tr>\n",
       "    <tr>\n",
       "      <th>25%</th>\n",
       "      <td>223.500000</td>\n",
       "      <td>0.000000</td>\n",
       "      <td>2.000000</td>\n",
       "      <td>20.125000</td>\n",
       "      <td>0.000000</td>\n",
       "      <td>0.000000</td>\n",
       "      <td>7.910400</td>\n",
       "    </tr>\n",
       "    <tr>\n",
       "      <th>50%</th>\n",
       "      <td>446.000000</td>\n",
       "      <td>0.000000</td>\n",
       "      <td>3.000000</td>\n",
       "      <td>28.000000</td>\n",
       "      <td>0.000000</td>\n",
       "      <td>0.000000</td>\n",
       "      <td>14.454200</td>\n",
       "    </tr>\n",
       "    <tr>\n",
       "      <th>75%</th>\n",
       "      <td>668.500000</td>\n",
       "      <td>1.000000</td>\n",
       "      <td>3.000000</td>\n",
       "      <td>38.000000</td>\n",
       "      <td>1.000000</td>\n",
       "      <td>0.000000</td>\n",
       "      <td>31.000000</td>\n",
       "    </tr>\n",
       "    <tr>\n",
       "      <th>max</th>\n",
       "      <td>891.000000</td>\n",
       "      <td>1.000000</td>\n",
       "      <td>3.000000</td>\n",
       "      <td>80.000000</td>\n",
       "      <td>8.000000</td>\n",
       "      <td>6.000000</td>\n",
       "      <td>512.329200</td>\n",
       "    </tr>\n",
       "  </tbody>\n",
       "</table>\n",
       "</div>"
      ],
      "text/plain": [
       "       PassengerId    Survived      Pclass         Age       SibSp  \\\n",
       "count   891.000000  891.000000  891.000000  714.000000  891.000000   \n",
       "mean    446.000000    0.383838    2.308642   29.699118    0.523008   \n",
       "std     257.353842    0.486592    0.836071   14.526497    1.102743   \n",
       "min       1.000000    0.000000    1.000000    0.420000    0.000000   \n",
       "25%     223.500000    0.000000    2.000000   20.125000    0.000000   \n",
       "50%     446.000000    0.000000    3.000000   28.000000    0.000000   \n",
       "75%     668.500000    1.000000    3.000000   38.000000    1.000000   \n",
       "max     891.000000    1.000000    3.000000   80.000000    8.000000   \n",
       "\n",
       "            Parch        Fare  \n",
       "count  891.000000  891.000000  \n",
       "mean     0.381594   32.204208  \n",
       "std      0.806057   49.693429  \n",
       "min      0.000000    0.000000  \n",
       "25%      0.000000    7.910400  \n",
       "50%      0.000000   14.454200  \n",
       "75%      0.000000   31.000000  \n",
       "max      6.000000  512.329200  "
      ]
     },
     "execution_count": 5,
     "metadata": {},
     "output_type": "execute_result"
    }
   ],
   "source": [
    "df.describe()"
   ]
  },
  {
   "cell_type": "code",
   "execution_count": 80,
   "metadata": {
    "pycharm": {
     "name": "#%%\n"
    }
   },
   "outputs": [
    {
     "data": {
      "text/html": [
       "<div>\n",
       "<style scoped>\n",
       "    .dataframe tbody tr th:only-of-type {\n",
       "        vertical-align: middle;\n",
       "    }\n",
       "\n",
       "    .dataframe tbody tr th {\n",
       "        vertical-align: top;\n",
       "    }\n",
       "\n",
       "    .dataframe thead th {\n",
       "        text-align: right;\n",
       "    }\n",
       "</style>\n",
       "<table border=\"1\" class=\"dataframe\">\n",
       "  <thead>\n",
       "    <tr style=\"text-align: right;\">\n",
       "      <th></th>\n",
       "      <th>Sex</th>\n",
       "      <th>Cabin</th>\n",
       "    </tr>\n",
       "  </thead>\n",
       "  <tbody>\n",
       "    <tr>\n",
       "      <th>count</th>\n",
       "      <td>156</td>\n",
       "      <td>31</td>\n",
       "    </tr>\n",
       "    <tr>\n",
       "      <th>unique</th>\n",
       "      <td>2</td>\n",
       "      <td>28</td>\n",
       "    </tr>\n",
       "    <tr>\n",
       "      <th>top</th>\n",
       "      <td>male</td>\n",
       "      <td>C123</td>\n",
       "    </tr>\n",
       "    <tr>\n",
       "      <th>freq</th>\n",
       "      <td>100</td>\n",
       "      <td>2</td>\n",
       "    </tr>\n",
       "  </tbody>\n",
       "</table>\n",
       "</div>"
      ],
      "text/plain": [
       "         Sex Cabin\n",
       "count    156    31\n",
       "unique     2    28\n",
       "top     male  C123\n",
       "freq     100     2"
      ]
     },
     "execution_count": 80,
     "metadata": {},
     "output_type": "execute_result"
    }
   ],
   "source": [
    "df[[\"Sex\", \"Cabin\"]].describe()"
   ]
  },
  {
   "cell_type": "markdown",
   "metadata": {
    "pycharm": {
     "name": "#%% md\n"
    },
    "slideshow": {
     "slide_type": "slide"
    }
   },
   "source": [
    "### Срезы в DataFrame"
   ]
  },
  {
   "cell_type": "markdown",
   "metadata": {
    "pycharm": {
     "name": "#%% md\n"
    }
   },
   "source": [
    "### Индексация"
   ]
  },
  {
   "cell_type": "code",
   "execution_count": 61,
   "metadata": {},
   "outputs": [
    {
     "data": {
      "text/html": [
       "<div>\n",
       "<style scoped>\n",
       "    .dataframe tbody tr th:only-of-type {\n",
       "        vertical-align: middle;\n",
       "    }\n",
       "\n",
       "    .dataframe tbody tr th {\n",
       "        vertical-align: top;\n",
       "    }\n",
       "\n",
       "    .dataframe thead th {\n",
       "        text-align: right;\n",
       "    }\n",
       "</style>\n",
       "<table border=\"1\" class=\"dataframe\">\n",
       "  <thead>\n",
       "    <tr style=\"text-align: right;\">\n",
       "      <th></th>\n",
       "      <th>PassengerId</th>\n",
       "      <th>Survived</th>\n",
       "      <th>Pclass</th>\n",
       "      <th>Name</th>\n",
       "      <th>Sex</th>\n",
       "      <th>Age</th>\n",
       "      <th>SibSp</th>\n",
       "      <th>Parch</th>\n",
       "      <th>Ticket</th>\n",
       "      <th>Fare</th>\n",
       "      <th>Cabin</th>\n",
       "      <th>Embarked</th>\n",
       "    </tr>\n",
       "  </thead>\n",
       "  <tbody>\n",
       "    <tr>\n",
       "      <th>803</th>\n",
       "      <td>804</td>\n",
       "      <td>1</td>\n",
       "      <td>3</td>\n",
       "      <td>Thomas, Master. Assad Alexander</td>\n",
       "      <td>male</td>\n",
       "      <td>0.42</td>\n",
       "      <td>0</td>\n",
       "      <td>1</td>\n",
       "      <td>2625</td>\n",
       "      <td>8.5167</td>\n",
       "      <td>NaN</td>\n",
       "      <td>C</td>\n",
       "    </tr>\n",
       "    <tr>\n",
       "      <th>755</th>\n",
       "      <td>756</td>\n",
       "      <td>1</td>\n",
       "      <td>2</td>\n",
       "      <td>Hamalainen, Master. Viljo</td>\n",
       "      <td>male</td>\n",
       "      <td>0.67</td>\n",
       "      <td>1</td>\n",
       "      <td>1</td>\n",
       "      <td>250649</td>\n",
       "      <td>14.5000</td>\n",
       "      <td>NaN</td>\n",
       "      <td>S</td>\n",
       "    </tr>\n",
       "    <tr>\n",
       "      <th>644</th>\n",
       "      <td>645</td>\n",
       "      <td>1</td>\n",
       "      <td>3</td>\n",
       "      <td>Baclini, Miss. Eugenie</td>\n",
       "      <td>female</td>\n",
       "      <td>0.75</td>\n",
       "      <td>2</td>\n",
       "      <td>1</td>\n",
       "      <td>2666</td>\n",
       "      <td>19.2583</td>\n",
       "      <td>NaN</td>\n",
       "      <td>C</td>\n",
       "    </tr>\n",
       "    <tr>\n",
       "      <th>469</th>\n",
       "      <td>470</td>\n",
       "      <td>1</td>\n",
       "      <td>3</td>\n",
       "      <td>Baclini, Miss. Helene Barbara</td>\n",
       "      <td>female</td>\n",
       "      <td>0.75</td>\n",
       "      <td>2</td>\n",
       "      <td>1</td>\n",
       "      <td>2666</td>\n",
       "      <td>19.2583</td>\n",
       "      <td>NaN</td>\n",
       "      <td>C</td>\n",
       "    </tr>\n",
       "    <tr>\n",
       "      <th>78</th>\n",
       "      <td>79</td>\n",
       "      <td>1</td>\n",
       "      <td>2</td>\n",
       "      <td>Caldwell, Master. Alden Gates</td>\n",
       "      <td>male</td>\n",
       "      <td>0.83</td>\n",
       "      <td>0</td>\n",
       "      <td>2</td>\n",
       "      <td>248738</td>\n",
       "      <td>29.0000</td>\n",
       "      <td>NaN</td>\n",
       "      <td>S</td>\n",
       "    </tr>\n",
       "  </tbody>\n",
       "</table>\n",
       "</div>"
      ],
      "text/plain": [
       "     PassengerId  Survived  Pclass                             Name     Sex  \\\n",
       "803          804         1       3  Thomas, Master. Assad Alexander    male   \n",
       "755          756         1       2        Hamalainen, Master. Viljo    male   \n",
       "644          645         1       3           Baclini, Miss. Eugenie  female   \n",
       "469          470         1       3    Baclini, Miss. Helene Barbara  female   \n",
       "78            79         1       2    Caldwell, Master. Alden Gates    male   \n",
       "\n",
       "      Age  SibSp  Parch  Ticket     Fare Cabin Embarked  \n",
       "803  0.42      0      1    2625   8.5167   NaN        C  \n",
       "755  0.67      1      1  250649  14.5000   NaN        S  \n",
       "644  0.75      2      1    2666  19.2583   NaN        C  \n",
       "469  0.75      2      1    2666  19.2583   NaN        C  \n",
       "78   0.83      0      2  248738  29.0000   NaN        S  "
      ]
     },
     "execution_count": 61,
     "metadata": {},
     "output_type": "execute_result"
    }
   ],
   "source": [
    "df.head()"
   ]
  },
  {
   "cell_type": "code",
   "execution_count": 60,
   "metadata": {
    "pycharm": {
     "name": "#%%\n"
    }
   },
   "outputs": [],
   "source": [
    "df.sort_values(\"Age\", inplace=True)"
   ]
  },
  {
   "cell_type": "code",
   "execution_count": 62,
   "metadata": {
    "pycharm": {
     "name": "#%%\n"
    }
   },
   "outputs": [
    {
     "data": {
      "text/plain": [
       "PassengerId                   353\n",
       "Survived                        0\n",
       "Pclass                          3\n",
       "Name           Elias, Mr. Tannous\n",
       "Sex                          male\n",
       "Age                          15.0\n",
       "SibSp                           1\n",
       "Parch                           1\n",
       "Ticket                       2695\n",
       "Fare                       7.2292\n",
       "Cabin                         NaN\n",
       "Embarked                        C\n",
       "Name: 352, dtype: object"
      ]
     },
     "execution_count": 62,
     "metadata": {},
     "output_type": "execute_result"
    }
   ],
   "source": [
    "df.iloc[78]"
   ]
  },
  {
   "cell_type": "code",
   "execution_count": 63,
   "metadata": {
    "pycharm": {
     "name": "#%%\n"
    }
   },
   "outputs": [
    {
     "data": {
      "text/plain": [
       "PassengerId                               79\n",
       "Survived                                   1\n",
       "Pclass                                     2\n",
       "Name           Caldwell, Master. Alden Gates\n",
       "Sex                                     male\n",
       "Age                                     0.83\n",
       "SibSp                                      0\n",
       "Parch                                      2\n",
       "Ticket                                248738\n",
       "Fare                                    29.0\n",
       "Cabin                                    NaN\n",
       "Embarked                                   S\n",
       "Name: 78, dtype: object"
      ]
     },
     "execution_count": 63,
     "metadata": {},
     "output_type": "execute_result"
    }
   ],
   "source": [
    "df.loc[78]"
   ]
  },
  {
   "cell_type": "code",
   "execution_count": 64,
   "metadata": {
    "pycharm": {
     "name": "#%%\n"
    }
   },
   "outputs": [
    {
     "data": {
      "text/html": [
       "<div>\n",
       "<style scoped>\n",
       "    .dataframe tbody tr th:only-of-type {\n",
       "        vertical-align: middle;\n",
       "    }\n",
       "\n",
       "    .dataframe tbody tr th {\n",
       "        vertical-align: top;\n",
       "    }\n",
       "\n",
       "    .dataframe thead th {\n",
       "        text-align: right;\n",
       "    }\n",
       "</style>\n",
       "<table border=\"1\" class=\"dataframe\">\n",
       "  <thead>\n",
       "    <tr style=\"text-align: right;\">\n",
       "      <th></th>\n",
       "      <th>Age</th>\n",
       "      <th>Cabin</th>\n",
       "    </tr>\n",
       "  </thead>\n",
       "  <tbody>\n",
       "    <tr>\n",
       "      <th>78</th>\n",
       "      <td>0.83</td>\n",
       "      <td>NaN</td>\n",
       "    </tr>\n",
       "    <tr>\n",
       "      <th>79</th>\n",
       "      <td>30.00</td>\n",
       "      <td>NaN</td>\n",
       "    </tr>\n",
       "    <tr>\n",
       "      <th>100</th>\n",
       "      <td>28.00</td>\n",
       "      <td>NaN</td>\n",
       "    </tr>\n",
       "  </tbody>\n",
       "</table>\n",
       "</div>"
      ],
      "text/plain": [
       "       Age Cabin\n",
       "78    0.83   NaN\n",
       "79   30.00   NaN\n",
       "100  28.00   NaN"
      ]
     },
     "execution_count": 64,
     "metadata": {},
     "output_type": "execute_result"
    }
   ],
   "source": [
    "df.loc[[78, 79, 100], [\"Age\", \"Cabin\"]]"
   ]
  },
  {
   "cell_type": "markdown",
   "metadata": {
    "pycharm": {
     "name": "#%% md\n"
    }
   },
   "source": [
    "Если хотите модифицировать данные среза, не меняя основной таблицы, нужно сделать копию."
   ]
  },
  {
   "cell_type": "code",
   "execution_count": 123,
   "metadata": {
    "pycharm": {
     "name": "#%%\n"
    }
   },
   "outputs": [],
   "source": [
    "df_slice_copy = df.loc[[78, 79, 100], [\"Age\", \"Cabin\"]].copy()"
   ]
  },
  {
   "cell_type": "code",
   "execution_count": 124,
   "metadata": {
    "pycharm": {
     "name": "#%%\n"
    }
   },
   "outputs": [],
   "source": [
    "df_slice_copy[:] = 3"
   ]
  },
  {
   "cell_type": "code",
   "execution_count": 125,
   "metadata": {
    "pycharm": {
     "name": "#%%\n"
    }
   },
   "outputs": [
    {
     "data": {
      "text/html": [
       "<div>\n",
       "<style scoped>\n",
       "    .dataframe tbody tr th:only-of-type {\n",
       "        vertical-align: middle;\n",
       "    }\n",
       "\n",
       "    .dataframe tbody tr th {\n",
       "        vertical-align: top;\n",
       "    }\n",
       "\n",
       "    .dataframe thead th {\n",
       "        text-align: right;\n",
       "    }\n",
       "</style>\n",
       "<table border=\"1\" class=\"dataframe\">\n",
       "  <thead>\n",
       "    <tr style=\"text-align: right;\">\n",
       "      <th></th>\n",
       "      <th>Age</th>\n",
       "      <th>Cabin</th>\n",
       "    </tr>\n",
       "  </thead>\n",
       "  <tbody>\n",
       "    <tr>\n",
       "      <th>78</th>\n",
       "      <td>3</td>\n",
       "      <td>3</td>\n",
       "    </tr>\n",
       "    <tr>\n",
       "      <th>79</th>\n",
       "      <td>3</td>\n",
       "      <td>3</td>\n",
       "    </tr>\n",
       "    <tr>\n",
       "      <th>100</th>\n",
       "      <td>3</td>\n",
       "      <td>3</td>\n",
       "    </tr>\n",
       "  </tbody>\n",
       "</table>\n",
       "</div>"
      ],
      "text/plain": [
       "     Age  Cabin\n",
       "78     3      3\n",
       "79     3      3\n",
       "100    3      3"
      ]
     },
     "execution_count": 125,
     "metadata": {},
     "output_type": "execute_result"
    }
   ],
   "source": [
    "df_slice_copy"
   ]
  },
  {
   "cell_type": "markdown",
   "metadata": {
    "pycharm": {
     "name": "#%% md\n"
    }
   },
   "source": [
    "Если хотите менять основную таблицу, то используйте loc"
   ]
  },
  {
   "cell_type": "code",
   "execution_count": 67,
   "metadata": {
    "pycharm": {
     "name": "#%%\n"
    }
   },
   "outputs": [
    {
     "data": {
      "text/html": [
       "<div>\n",
       "<style scoped>\n",
       "    .dataframe tbody tr th:only-of-type {\n",
       "        vertical-align: middle;\n",
       "    }\n",
       "\n",
       "    .dataframe tbody tr th {\n",
       "        vertical-align: top;\n",
       "    }\n",
       "\n",
       "    .dataframe thead th {\n",
       "        text-align: right;\n",
       "    }\n",
       "</style>\n",
       "<table border=\"1\" class=\"dataframe\">\n",
       "  <thead>\n",
       "    <tr style=\"text-align: right;\">\n",
       "      <th></th>\n",
       "      <th>PassengerId</th>\n",
       "      <th>Survived</th>\n",
       "      <th>Pclass</th>\n",
       "      <th>Name</th>\n",
       "      <th>Sex</th>\n",
       "      <th>Age</th>\n",
       "      <th>SibSp</th>\n",
       "      <th>Parch</th>\n",
       "      <th>Ticket</th>\n",
       "      <th>Fare</th>\n",
       "      <th>Cabin</th>\n",
       "      <th>Embarked</th>\n",
       "    </tr>\n",
       "  </thead>\n",
       "  <tbody>\n",
       "    <tr>\n",
       "      <th>803</th>\n",
       "      <td>804</td>\n",
       "      <td>1</td>\n",
       "      <td>3</td>\n",
       "      <td>Thomas, Master. Assad Alexander</td>\n",
       "      <td>male</td>\n",
       "      <td>0.42</td>\n",
       "      <td>0</td>\n",
       "      <td>1</td>\n",
       "      <td>2625</td>\n",
       "      <td>8.5167</td>\n",
       "      <td>NaN</td>\n",
       "      <td>C</td>\n",
       "    </tr>\n",
       "    <tr>\n",
       "      <th>755</th>\n",
       "      <td>756</td>\n",
       "      <td>1</td>\n",
       "      <td>2</td>\n",
       "      <td>Hamalainen, Master. Viljo</td>\n",
       "      <td>male</td>\n",
       "      <td>0.67</td>\n",
       "      <td>1</td>\n",
       "      <td>1</td>\n",
       "      <td>250649</td>\n",
       "      <td>14.5000</td>\n",
       "      <td>NaN</td>\n",
       "      <td>S</td>\n",
       "    </tr>\n",
       "    <tr>\n",
       "      <th>644</th>\n",
       "      <td>645</td>\n",
       "      <td>1</td>\n",
       "      <td>3</td>\n",
       "      <td>Baclini, Miss. Eugenie</td>\n",
       "      <td>female</td>\n",
       "      <td>0.75</td>\n",
       "      <td>2</td>\n",
       "      <td>1</td>\n",
       "      <td>2666</td>\n",
       "      <td>19.2583</td>\n",
       "      <td>NaN</td>\n",
       "      <td>C</td>\n",
       "    </tr>\n",
       "    <tr>\n",
       "      <th>469</th>\n",
       "      <td>470</td>\n",
       "      <td>1</td>\n",
       "      <td>3</td>\n",
       "      <td>Baclini, Miss. Helene Barbara</td>\n",
       "      <td>female</td>\n",
       "      <td>0.75</td>\n",
       "      <td>2</td>\n",
       "      <td>1</td>\n",
       "      <td>2666</td>\n",
       "      <td>19.2583</td>\n",
       "      <td>NaN</td>\n",
       "      <td>C</td>\n",
       "    </tr>\n",
       "    <tr>\n",
       "      <th>78</th>\n",
       "      <td>79</td>\n",
       "      <td>1</td>\n",
       "      <td>2</td>\n",
       "      <td>Caldwell, Master. Alden Gates</td>\n",
       "      <td>male</td>\n",
       "      <td>0.83</td>\n",
       "      <td>0</td>\n",
       "      <td>2</td>\n",
       "      <td>248738</td>\n",
       "      <td>29.0000</td>\n",
       "      <td>NaN</td>\n",
       "      <td>S</td>\n",
       "    </tr>\n",
       "  </tbody>\n",
       "</table>\n",
       "</div>"
      ],
      "text/plain": [
       "     PassengerId  Survived  Pclass                             Name     Sex  \\\n",
       "803          804         1       3  Thomas, Master. Assad Alexander    male   \n",
       "755          756         1       2        Hamalainen, Master. Viljo    male   \n",
       "644          645         1       3           Baclini, Miss. Eugenie  female   \n",
       "469          470         1       3    Baclini, Miss. Helene Barbara  female   \n",
       "78            79         1       2    Caldwell, Master. Alden Gates    male   \n",
       "\n",
       "      Age  SibSp  Parch  Ticket     Fare Cabin Embarked  \n",
       "803  0.42      0      1    2625   8.5167   NaN        C  \n",
       "755  0.67      1      1  250649  14.5000   NaN        S  \n",
       "644  0.75      2      1    2666  19.2583   NaN        C  \n",
       "469  0.75      2      1    2666  19.2583   NaN        C  \n",
       "78   0.83      0      2  248738  29.0000   NaN        S  "
      ]
     },
     "execution_count": 67,
     "metadata": {},
     "output_type": "execute_result"
    }
   ],
   "source": [
    "df.head()"
   ]
  },
  {
   "cell_type": "code",
   "execution_count": 187,
   "metadata": {
    "pycharm": {
     "name": "#%%\n"
    }
   },
   "outputs": [],
   "source": [
    "some_slice = df[\"Age\"].isin([20, 25,30])\n",
    "df.loc[some_slice, \"Fare\"] = df.loc[some_slice, \"Fare\"] * 10"
   ]
  },
  {
   "cell_type": "markdown",
   "metadata": {
    "pycharm": {
     "name": "#%% md\n"
    }
   },
   "source": [
    "Так лучше не делать:"
   ]
  },
  {
   "cell_type": "code",
   "execution_count": 188,
   "metadata": {
    "pycharm": {
     "name": "#%%\n"
    }
   },
   "outputs": [
    {
     "name": "stderr",
     "output_type": "stream",
     "text": [
      "/Users/klunev/pyenv/lib/python2.7/site-packages/ipykernel_launcher.py:2: SettingWithCopyWarning: \n",
      "A value is trying to be set on a copy of a slice from a DataFrame.\n",
      "Try using .loc[row_indexer,col_indexer] = value instead\n",
      "\n",
      "See the caveats in the documentation: http://pandas.pydata.org/pandas-docs/stable/indexing.html#indexing-view-versus-copy\n",
      "  \n"
     ]
    }
   ],
   "source": [
    "slice_df = df[some_slice]\n",
    "slice_df[\"Fare\"] = slice_df[\"Fare\"] * 10"
   ]
  },
  {
   "cell_type": "markdown",
   "metadata": {
    "pycharm": {
     "name": "#%% md\n"
    }
   },
   "source": [
    "Получить значения только нужных столбцов можно передав в ```[]``` название столбца (или список названий столбцов).\n",
    "\n",
    "**Замечание:** Если передаём название одного столбца, то получаем объект класса [pandas.Series](http://pandas.pydata.org/pandas-docs/stable/generated/pandas.Series.html), а если список названий столбцов, то получаем  [pandas.DataFrame](http://pandas.pydata.org/pandas-docs/stable/generated/pandas.DataFrame.html), чтобы получить [numpy.array](https://docs.scipy.org/doc/numpy/reference/generated/numpy.array.html) обратитесь к полю **values**.\n",
    "\n",
    "Series и DataFrame имеют много общих методов"
   ]
  },
  {
   "cell_type": "code",
   "execution_count": 95,
   "metadata": {
    "pycharm": {
     "name": "#%%\n"
    }
   },
   "outputs": [
    {
     "data": {
      "text/plain": [
       "78     0.83\n",
       "119    2.00\n",
       "7      2.00\n",
       "16     2.00\n",
       "43     3.00\n",
       "Name: Age, dtype: float64"
      ]
     },
     "execution_count": 95,
     "metadata": {},
     "output_type": "execute_result"
    }
   ],
   "source": [
    "df[\"Age\"].head(5)"
   ]
  },
  {
   "cell_type": "code",
   "execution_count": 96,
   "metadata": {
    "pycharm": {
     "name": "#%%\n"
    }
   },
   "outputs": [
    {
     "data": {
      "text/html": [
       "<div>\n",
       "<style scoped>\n",
       "    .dataframe tbody tr th:only-of-type {\n",
       "        vertical-align: middle;\n",
       "    }\n",
       "\n",
       "    .dataframe tbody tr th {\n",
       "        vertical-align: top;\n",
       "    }\n",
       "\n",
       "    .dataframe thead th {\n",
       "        text-align: right;\n",
       "    }\n",
       "</style>\n",
       "<table border=\"1\" class=\"dataframe\">\n",
       "  <thead>\n",
       "    <tr style=\"text-align: right;\">\n",
       "      <th></th>\n",
       "      <th>Age</th>\n",
       "    </tr>\n",
       "  </thead>\n",
       "  <tbody>\n",
       "    <tr>\n",
       "      <th>78</th>\n",
       "      <td>0.83</td>\n",
       "    </tr>\n",
       "    <tr>\n",
       "      <th>119</th>\n",
       "      <td>2.00</td>\n",
       "    </tr>\n",
       "    <tr>\n",
       "      <th>7</th>\n",
       "      <td>2.00</td>\n",
       "    </tr>\n",
       "    <tr>\n",
       "      <th>16</th>\n",
       "      <td>2.00</td>\n",
       "    </tr>\n",
       "    <tr>\n",
       "      <th>43</th>\n",
       "      <td>3.00</td>\n",
       "    </tr>\n",
       "  </tbody>\n",
       "</table>\n",
       "</div>"
      ],
      "text/plain": [
       "      Age\n",
       "78   0.83\n",
       "119  2.00\n",
       "7    2.00\n",
       "16   2.00\n",
       "43   3.00"
      ]
     },
     "execution_count": 96,
     "metadata": {},
     "output_type": "execute_result"
    }
   ],
   "source": [
    "df[[\"Age\"]].head(5)"
   ]
  },
  {
   "cell_type": "markdown",
   "metadata": {
    "pycharm": {
     "name": "#%% md\n"
    },
    "slideshow": {
     "slide_type": "slide"
    }
   },
   "source": [
    "### pd.Series"
   ]
  },
  {
   "cell_type": "markdown",
   "metadata": {
    "pycharm": {
     "name": "#%% md\n"
    }
   },
   "source": [
    "Одномерные срезы датафреймов имеют тип pd.Series."
   ]
  },
  {
   "cell_type": "markdown",
   "metadata": {
    "pycharm": {
     "name": "#%% md\n"
    }
   },
   "source": [
    "Можно получить np.array из pd.Series, но вы не хотите этого делать."
   ]
  },
  {
   "cell_type": "code",
   "execution_count": 97,
   "metadata": {
    "pycharm": {
     "name": "#%%\n"
    }
   },
   "outputs": [
    {
     "data": {
      "text/plain": [
       "array([0.83, 2.  , 2.  , 2.  , 3.  ])"
      ]
     },
     "execution_count": 97,
     "metadata": {},
     "output_type": "execute_result"
    }
   ],
   "source": [
    "df[\"Age\"].head(5).values"
   ]
  },
  {
   "cell_type": "markdown",
   "metadata": {
    "pycharm": {
     "name": "#%% md\n"
    }
   },
   "source": [
    "Можно достать и индекс"
   ]
  },
  {
   "cell_type": "code",
   "execution_count": 99,
   "metadata": {
    "pycharm": {
     "name": "#%%\n"
    }
   },
   "outputs": [
    {
     "data": {
      "text/plain": [
       "Int64Index([78, 119, 7, 16, 43], dtype='int64')"
      ]
     },
     "execution_count": 99,
     "metadata": {},
     "output_type": "execute_result"
    }
   ],
   "source": [
    "df[\"Age\"].head(5).index"
   ]
  },
  {
   "cell_type": "markdown",
   "metadata": {
    "pycharm": {
     "name": "#%% md\n"
    }
   },
   "source": [
    "Создаются они примерно также, как np.array. Опционально указывается индекс"
   ]
  },
  {
   "cell_type": "code",
   "execution_count": 104,
   "metadata": {
    "pycharm": {
     "name": "#%%\n"
    }
   },
   "outputs": [
    {
     "data": {
      "text/plain": [
       "Red      1\n",
       "Green    2\n",
       "Blue     3\n",
       "dtype: int64"
      ]
     },
     "execution_count": 104,
     "metadata": {},
     "output_type": "execute_result"
    }
   ],
   "source": [
    "pd.Series([1, 2, 3], index=[\"Red\", \"Green\", \"Blue\"])"
   ]
  },
  {
   "cell_type": "code",
   "execution_count": 107,
   "metadata": {
    "pycharm": {
     "name": "#%%\n"
    }
   },
   "outputs": [
    {
     "data": {
      "text/plain": [
       "Red      1\n",
       "Green    1\n",
       "Blue     1\n",
       "dtype: int64"
      ]
     },
     "execution_count": 107,
     "metadata": {},
     "output_type": "execute_result"
    }
   ],
   "source": [
    "pd.Series(1, index=[\"Red\", \"Green\", \"Blue\"])"
   ]
  },
  {
   "cell_type": "code",
   "execution_count": 110,
   "metadata": {
    "pycharm": {
     "name": "#%%\n"
    }
   },
   "outputs": [
    {
     "data": {
      "text/plain": [
       "Red      [1, 2, 3]\n",
       "Green    [1, 2, 3]\n",
       "Blue     [1, 2, 3]\n",
       "dtype: object"
      ]
     },
     "execution_count": 110,
     "metadata": {},
     "output_type": "execute_result"
    }
   ],
   "source": [
    "pd.Series([[1, 2, 3]], index=[\"Red\", \"Green\", \"Blue\"])"
   ]
  },
  {
   "cell_type": "markdown",
   "metadata": {
    "pycharm": {
     "name": "#%% md\n"
    }
   },
   "source": [
    "Series можно перевести в DataFrame"
   ]
  },
  {
   "cell_type": "code",
   "execution_count": 113,
   "metadata": {
    "pycharm": {
     "name": "#%%\n"
    }
   },
   "outputs": [
    {
     "data": {
      "text/html": [
       "<div>\n",
       "<style scoped>\n",
       "    .dataframe tbody tr th:only-of-type {\n",
       "        vertical-align: middle;\n",
       "    }\n",
       "\n",
       "    .dataframe tbody tr th {\n",
       "        vertical-align: top;\n",
       "    }\n",
       "\n",
       "    .dataframe thead th {\n",
       "        text-align: right;\n",
       "    }\n",
       "</style>\n",
       "<table border=\"1\" class=\"dataframe\">\n",
       "  <thead>\n",
       "    <tr style=\"text-align: right;\">\n",
       "      <th></th>\n",
       "      <th>Values</th>\n",
       "    </tr>\n",
       "  </thead>\n",
       "  <tbody>\n",
       "    <tr>\n",
       "      <th>Red</th>\n",
       "      <td>1</td>\n",
       "    </tr>\n",
       "    <tr>\n",
       "      <th>Green</th>\n",
       "      <td>2</td>\n",
       "    </tr>\n",
       "    <tr>\n",
       "      <th>Blue</th>\n",
       "      <td>3</td>\n",
       "    </tr>\n",
       "  </tbody>\n",
       "</table>\n",
       "</div>"
      ],
      "text/plain": [
       "       Values\n",
       "Red         1\n",
       "Green       2\n",
       "Blue        3"
      ]
     },
     "execution_count": 113,
     "metadata": {},
     "output_type": "execute_result"
    }
   ],
   "source": [
    "s = pd.Series([1, 2, 3], index=[\"Red\", \"Green\", \"Blue\"])\n",
    "s.to_frame(\"Values\")"
   ]
  },
  {
   "cell_type": "code",
   "execution_count": 114,
   "metadata": {
    "pycharm": {
     "name": "#%%\n"
    }
   },
   "outputs": [
    {
     "data": {
      "text/plain": [
       "1"
      ]
     },
     "execution_count": 114,
     "metadata": {},
     "output_type": "execute_result"
    }
   ],
   "source": [
    "s.loc[\"Red\"]"
   ]
  },
  {
   "cell_type": "code",
   "execution_count": 115,
   "metadata": {
    "pycharm": {
     "name": "#%%\n"
    }
   },
   "outputs": [
    {
     "data": {
      "text/plain": [
       "1"
      ]
     },
     "execution_count": 115,
     "metadata": {},
     "output_type": "execute_result"
    }
   ],
   "source": [
    "s.iloc[0]"
   ]
  },
  {
   "cell_type": "markdown",
   "metadata": {
    "pycharm": {
     "name": "#%% md\n"
    },
    "slideshow": {
     "slide_type": "slide"
    }
   },
   "source": [
    "### [Объединение таблиц](http://pandas.pydata.org/pandas-docs/stable/merging.html)"
   ]
  },
  {
   "cell_type": "code",
   "execution_count": 130,
   "metadata": {
    "pycharm": {
     "name": "#%%\n"
    }
   },
   "outputs": [],
   "source": [
    "df1 = df[[\"Age\", \"Parch\"]].copy()\n",
    "df2 = df[[\"Ticket\", \"Fare\"]].copy()"
   ]
  },
  {
   "cell_type": "code",
   "execution_count": 132,
   "metadata": {
    "pycharm": {
     "name": "#%%\n"
    }
   },
   "outputs": [
    {
     "data": {
      "text/html": [
       "<div>\n",
       "<style scoped>\n",
       "    .dataframe tbody tr th:only-of-type {\n",
       "        vertical-align: middle;\n",
       "    }\n",
       "\n",
       "    .dataframe tbody tr th {\n",
       "        vertical-align: top;\n",
       "    }\n",
       "\n",
       "    .dataframe thead th {\n",
       "        text-align: right;\n",
       "    }\n",
       "</style>\n",
       "<table border=\"1\" class=\"dataframe\">\n",
       "  <thead>\n",
       "    <tr style=\"text-align: right;\">\n",
       "      <th></th>\n",
       "      <th>Age</th>\n",
       "      <th>Parch</th>\n",
       "      <th>Ticket</th>\n",
       "      <th>Fare</th>\n",
       "    </tr>\n",
       "  </thead>\n",
       "  <tbody>\n",
       "    <tr>\n",
       "      <th>78</th>\n",
       "      <td>0.83</td>\n",
       "      <td>2</td>\n",
       "      <td>248738</td>\n",
       "      <td>29.0000</td>\n",
       "    </tr>\n",
       "    <tr>\n",
       "      <th>119</th>\n",
       "      <td>2.00</td>\n",
       "      <td>2</td>\n",
       "      <td>347082</td>\n",
       "      <td>31.2750</td>\n",
       "    </tr>\n",
       "    <tr>\n",
       "      <th>7</th>\n",
       "      <td>2.00</td>\n",
       "      <td>1</td>\n",
       "      <td>349909</td>\n",
       "      <td>21.0750</td>\n",
       "    </tr>\n",
       "    <tr>\n",
       "      <th>16</th>\n",
       "      <td>2.00</td>\n",
       "      <td>1</td>\n",
       "      <td>382652</td>\n",
       "      <td>29.1250</td>\n",
       "    </tr>\n",
       "    <tr>\n",
       "      <th>43</th>\n",
       "      <td>3.00</td>\n",
       "      <td>2</td>\n",
       "      <td>SC/Paris 2123</td>\n",
       "      <td>41.5792</td>\n",
       "    </tr>\n",
       "  </tbody>\n",
       "</table>\n",
       "</div>"
      ],
      "text/plain": [
       "      Age  Parch         Ticket     Fare\n",
       "78   0.83      2         248738  29.0000\n",
       "119  2.00      2         347082  31.2750\n",
       "7    2.00      1         349909  21.0750\n",
       "16   2.00      1         382652  29.1250\n",
       "43   3.00      2  SC/Paris 2123  41.5792"
      ]
     },
     "execution_count": 132,
     "metadata": {},
     "output_type": "execute_result"
    }
   ],
   "source": [
    "df1.join(df2).head(5)"
   ]
  },
  {
   "cell_type": "code",
   "execution_count": 133,
   "metadata": {
    "pycharm": {
     "name": "#%%\n"
    }
   },
   "outputs": [],
   "source": [
    "df1 = df[[\"Age\", \"Parch\", \"PassengerId\"]].copy()\n",
    "df2 = df[[\"Ticket\", \"Fare\", \"PassengerId\"]].copy()"
   ]
  },
  {
   "cell_type": "code",
   "execution_count": 135,
   "metadata": {
    "pycharm": {
     "name": "#%%\n"
    }
   },
   "outputs": [
    {
     "data": {
      "text/html": [
       "<div>\n",
       "<style scoped>\n",
       "    .dataframe tbody tr th:only-of-type {\n",
       "        vertical-align: middle;\n",
       "    }\n",
       "\n",
       "    .dataframe tbody tr th {\n",
       "        vertical-align: top;\n",
       "    }\n",
       "\n",
       "    .dataframe thead th {\n",
       "        text-align: right;\n",
       "    }\n",
       "</style>\n",
       "<table border=\"1\" class=\"dataframe\">\n",
       "  <thead>\n",
       "    <tr style=\"text-align: right;\">\n",
       "      <th></th>\n",
       "      <th>Age</th>\n",
       "      <th>Parch</th>\n",
       "      <th>PassengerId</th>\n",
       "      <th>Ticket</th>\n",
       "      <th>Fare</th>\n",
       "    </tr>\n",
       "  </thead>\n",
       "  <tbody>\n",
       "    <tr>\n",
       "      <th>0</th>\n",
       "      <td>0.83</td>\n",
       "      <td>2</td>\n",
       "      <td>79</td>\n",
       "      <td>248738</td>\n",
       "      <td>29.0000</td>\n",
       "    </tr>\n",
       "    <tr>\n",
       "      <th>1</th>\n",
       "      <td>2.00</td>\n",
       "      <td>2</td>\n",
       "      <td>120</td>\n",
       "      <td>347082</td>\n",
       "      <td>31.2750</td>\n",
       "    </tr>\n",
       "    <tr>\n",
       "      <th>2</th>\n",
       "      <td>2.00</td>\n",
       "      <td>1</td>\n",
       "      <td>8</td>\n",
       "      <td>349909</td>\n",
       "      <td>21.0750</td>\n",
       "    </tr>\n",
       "    <tr>\n",
       "      <th>3</th>\n",
       "      <td>2.00</td>\n",
       "      <td>1</td>\n",
       "      <td>17</td>\n",
       "      <td>382652</td>\n",
       "      <td>29.1250</td>\n",
       "    </tr>\n",
       "    <tr>\n",
       "      <th>4</th>\n",
       "      <td>3.00</td>\n",
       "      <td>2</td>\n",
       "      <td>44</td>\n",
       "      <td>SC/Paris 2123</td>\n",
       "      <td>41.5792</td>\n",
       "    </tr>\n",
       "  </tbody>\n",
       "</table>\n",
       "</div>"
      ],
      "text/plain": [
       "    Age  Parch  PassengerId         Ticket     Fare\n",
       "0  0.83      2           79         248738  29.0000\n",
       "1  2.00      2          120         347082  31.2750\n",
       "2  2.00      1            8         349909  21.0750\n",
       "3  2.00      1           17         382652  29.1250\n",
       "4  3.00      2           44  SC/Paris 2123  41.5792"
      ]
     },
     "execution_count": 135,
     "metadata": {},
     "output_type": "execute_result"
    }
   ],
   "source": [
    "pd.merge(df1, df2, on=[\"PassengerId\"]).head(5)"
   ]
  },
  {
   "cell_type": "code",
   "execution_count": 136,
   "metadata": {
    "pycharm": {
     "name": "#%%\n"
    }
   },
   "outputs": [
    {
     "data": {
      "text/html": [
       "<div>\n",
       "<style scoped>\n",
       "    .dataframe tbody tr th:only-of-type {\n",
       "        vertical-align: middle;\n",
       "    }\n",
       "\n",
       "    .dataframe tbody tr th {\n",
       "        vertical-align: top;\n",
       "    }\n",
       "\n",
       "    .dataframe thead th {\n",
       "        text-align: right;\n",
       "    }\n",
       "</style>\n",
       "<table border=\"1\" class=\"dataframe\">\n",
       "  <thead>\n",
       "    <tr style=\"text-align: right;\">\n",
       "      <th></th>\n",
       "      <th>Age</th>\n",
       "      <th>Parch</th>\n",
       "      <th>PassengerId</th>\n",
       "      <th>Ticket</th>\n",
       "      <th>Fare</th>\n",
       "    </tr>\n",
       "  </thead>\n",
       "  <tbody>\n",
       "    <tr>\n",
       "      <th>0</th>\n",
       "      <td>0.83</td>\n",
       "      <td>2</td>\n",
       "      <td>79</td>\n",
       "      <td>248738</td>\n",
       "      <td>29.0000</td>\n",
       "    </tr>\n",
       "    <tr>\n",
       "      <th>1</th>\n",
       "      <td>2.00</td>\n",
       "      <td>2</td>\n",
       "      <td>120</td>\n",
       "      <td>347082</td>\n",
       "      <td>31.2750</td>\n",
       "    </tr>\n",
       "    <tr>\n",
       "      <th>2</th>\n",
       "      <td>2.00</td>\n",
       "      <td>1</td>\n",
       "      <td>8</td>\n",
       "      <td>349909</td>\n",
       "      <td>21.0750</td>\n",
       "    </tr>\n",
       "    <tr>\n",
       "      <th>3</th>\n",
       "      <td>2.00</td>\n",
       "      <td>1</td>\n",
       "      <td>17</td>\n",
       "      <td>382652</td>\n",
       "      <td>29.1250</td>\n",
       "    </tr>\n",
       "    <tr>\n",
       "      <th>4</th>\n",
       "      <td>3.00</td>\n",
       "      <td>2</td>\n",
       "      <td>44</td>\n",
       "      <td>SC/Paris 2123</td>\n",
       "      <td>41.5792</td>\n",
       "    </tr>\n",
       "  </tbody>\n",
       "</table>\n",
       "</div>"
      ],
      "text/plain": [
       "    Age  Parch  PassengerId         Ticket     Fare\n",
       "0  0.83      2           79         248738  29.0000\n",
       "1  2.00      2          120         347082  31.2750\n",
       "2  2.00      1            8         349909  21.0750\n",
       "3  2.00      1           17         382652  29.1250\n",
       "4  3.00      2           44  SC/Paris 2123  41.5792"
      ]
     },
     "execution_count": 136,
     "metadata": {},
     "output_type": "execute_result"
    }
   ],
   "source": [
    "pd.merge(df1, df2, on=[\"PassengerId\"], how=\"inner\").head(5)"
   ]
  },
  {
   "cell_type": "markdown",
   "metadata": {
    "pycharm": {
     "name": "#%% md\n"
    },
    "slideshow": {
     "slide_type": "slide"
    }
   },
   "source": [
    "### Группировка"
   ]
  },
  {
   "cell_type": "code",
   "execution_count": 190,
   "metadata": {
    "pycharm": {
     "name": "#%%\n"
    }
   },
   "outputs": [
    {
     "name": "stdout",
     "output_type": "stream",
     "text": [
      "('Pclass 1: ', 38.111111111111114)\n",
      "('Pclass 2: ', 28.114827586206893)\n",
      "('Pclass 3: ', 24.307142857142857)\n"
     ]
    }
   ],
   "source": [
    "print(\"Pclass 1: \", df[df[\"Pclass\"] == 1][\"Age\"].mean())\n",
    "print(\"Pclass 2: \", df[df[\"Pclass\"] == 2][\"Age\"].mean())\n",
    "print(\"Pclass 3: \", df[df[\"Pclass\"] == 3][\"Age\"].mean())"
   ]
  },
  {
   "cell_type": "code",
   "execution_count": 72,
   "metadata": {
    "pycharm": {
     "name": "#%%\n"
    }
   },
   "outputs": [
    {
     "data": {
      "text/html": [
       "<div>\n",
       "<style scoped>\n",
       "    .dataframe tbody tr th:only-of-type {\n",
       "        vertical-align: middle;\n",
       "    }\n",
       "\n",
       "    .dataframe tbody tr th {\n",
       "        vertical-align: top;\n",
       "    }\n",
       "\n",
       "    .dataframe thead th {\n",
       "        text-align: right;\n",
       "    }\n",
       "</style>\n",
       "<table border=\"1\" class=\"dataframe\">\n",
       "  <thead>\n",
       "    <tr style=\"text-align: right;\">\n",
       "      <th></th>\n",
       "      <th>Age</th>\n",
       "    </tr>\n",
       "    <tr>\n",
       "      <th>Pclass</th>\n",
       "      <th></th>\n",
       "    </tr>\n",
       "  </thead>\n",
       "  <tbody>\n",
       "    <tr>\n",
       "      <th>1</th>\n",
       "      <td>38.233441</td>\n",
       "    </tr>\n",
       "    <tr>\n",
       "      <th>2</th>\n",
       "      <td>29.877630</td>\n",
       "    </tr>\n",
       "    <tr>\n",
       "      <th>3</th>\n",
       "      <td>25.140620</td>\n",
       "    </tr>\n",
       "  </tbody>\n",
       "</table>\n",
       "</div>"
      ],
      "text/plain": [
       "              Age\n",
       "Pclass           \n",
       "1       38.233441\n",
       "2       29.877630\n",
       "3       25.140620"
      ]
     },
     "execution_count": 72,
     "metadata": {},
     "output_type": "execute_result"
    }
   ],
   "source": [
    "df.groupby([\"Pclass\"])[[\"Age\"]].mean()"
   ]
  },
  {
   "cell_type": "code",
   "execution_count": 73,
   "metadata": {
    "pycharm": {
     "name": "#%%\n"
    }
   },
   "outputs": [
    {
     "data": {
      "text/plain": [
       "<pandas.core.groupby.generic.DataFrameGroupBy object at 0x128c00bb0>"
      ]
     },
     "execution_count": 73,
     "metadata": {},
     "output_type": "execute_result"
    }
   ],
   "source": [
    "df.groupby([\"Survived\", \"Pclass\"])"
   ]
  },
  {
   "cell_type": "code",
   "execution_count": 76,
   "metadata": {
    "pycharm": {
     "name": "#%%\n"
    }
   },
   "outputs": [
    {
     "data": {
      "text/plain": [
       "Survived  Pclass\n",
       "0         1          80\n",
       "          2          97\n",
       "          3         372\n",
       "1         1         136\n",
       "          2          87\n",
       "          3         119\n",
       "Name: PassengerId, dtype: int64"
      ]
     },
     "execution_count": 76,
     "metadata": {},
     "output_type": "execute_result"
    }
   ],
   "source": [
    "df.groupby([\"Survived\", \"Pclass\"])[\"PassengerId\"].count()"
   ]
  },
  {
   "cell_type": "code",
   "execution_count": 77,
   "metadata": {
    "pycharm": {
     "name": "#%%\n"
    }
   },
   "outputs": [
    {
     "data": {
      "text/html": [
       "<div>\n",
       "<style scoped>\n",
       "    .dataframe tbody tr th:only-of-type {\n",
       "        vertical-align: middle;\n",
       "    }\n",
       "\n",
       "    .dataframe tbody tr th {\n",
       "        vertical-align: top;\n",
       "    }\n",
       "\n",
       "    .dataframe thead th {\n",
       "        text-align: right;\n",
       "    }\n",
       "</style>\n",
       "<table border=\"1\" class=\"dataframe\">\n",
       "  <thead>\n",
       "    <tr style=\"text-align: right;\">\n",
       "      <th></th>\n",
       "      <th></th>\n",
       "      <th>PassengerId</th>\n",
       "      <th>Cabin</th>\n",
       "    </tr>\n",
       "    <tr>\n",
       "      <th>Survived</th>\n",
       "      <th>Pclass</th>\n",
       "      <th></th>\n",
       "      <th></th>\n",
       "    </tr>\n",
       "  </thead>\n",
       "  <tbody>\n",
       "    <tr>\n",
       "      <th rowspan=\"3\" valign=\"top\">0</th>\n",
       "      <th>1</th>\n",
       "      <td>80</td>\n",
       "      <td>59</td>\n",
       "    </tr>\n",
       "    <tr>\n",
       "      <th>2</th>\n",
       "      <td>97</td>\n",
       "      <td>3</td>\n",
       "    </tr>\n",
       "    <tr>\n",
       "      <th>3</th>\n",
       "      <td>372</td>\n",
       "      <td>6</td>\n",
       "    </tr>\n",
       "    <tr>\n",
       "      <th rowspan=\"3\" valign=\"top\">1</th>\n",
       "      <th>1</th>\n",
       "      <td>136</td>\n",
       "      <td>117</td>\n",
       "    </tr>\n",
       "    <tr>\n",
       "      <th>2</th>\n",
       "      <td>87</td>\n",
       "      <td>13</td>\n",
       "    </tr>\n",
       "    <tr>\n",
       "      <th>3</th>\n",
       "      <td>119</td>\n",
       "      <td>6</td>\n",
       "    </tr>\n",
       "  </tbody>\n",
       "</table>\n",
       "</div>"
      ],
      "text/plain": [
       "                 PassengerId  Cabin\n",
       "Survived Pclass                    \n",
       "0        1                80     59\n",
       "         2                97      3\n",
       "         3               372      6\n",
       "1        1               136    117\n",
       "         2                87     13\n",
       "         3               119      6"
      ]
     },
     "execution_count": 77,
     "metadata": {},
     "output_type": "execute_result"
    }
   ],
   "source": [
    "df.groupby([\"Survived\", \"Pclass\"])[[\"PassengerId\", \"Cabin\"]].count()"
   ]
  },
  {
   "cell_type": "code",
   "execution_count": 144,
   "metadata": {
    "pycharm": {
     "name": "#%%\n"
    }
   },
   "outputs": [
    {
     "data": {
      "text/html": [
       "<div>\n",
       "<style scoped>\n",
       "    .dataframe tbody tr th:only-of-type {\n",
       "        vertical-align: middle;\n",
       "    }\n",
       "\n",
       "    .dataframe tbody tr th {\n",
       "        vertical-align: top;\n",
       "    }\n",
       "\n",
       "    .dataframe thead tr th {\n",
       "        text-align: left;\n",
       "    }\n",
       "\n",
       "    .dataframe thead tr:last-of-type th {\n",
       "        text-align: right;\n",
       "    }\n",
       "</style>\n",
       "<table border=\"1\" class=\"dataframe\">\n",
       "  <thead>\n",
       "    <tr>\n",
       "      <th></th>\n",
       "      <th></th>\n",
       "      <th colspan=\"8\" halign=\"left\">PassengerId</th>\n",
       "      <th colspan=\"8\" halign=\"left\">Fare</th>\n",
       "    </tr>\n",
       "    <tr>\n",
       "      <th></th>\n",
       "      <th></th>\n",
       "      <th>count</th>\n",
       "      <th>mean</th>\n",
       "      <th>std</th>\n",
       "      <th>min</th>\n",
       "      <th>25%</th>\n",
       "      <th>50%</th>\n",
       "      <th>75%</th>\n",
       "      <th>max</th>\n",
       "      <th>count</th>\n",
       "      <th>mean</th>\n",
       "      <th>std</th>\n",
       "      <th>min</th>\n",
       "      <th>25%</th>\n",
       "      <th>50%</th>\n",
       "      <th>75%</th>\n",
       "      <th>max</th>\n",
       "    </tr>\n",
       "    <tr>\n",
       "      <th>Survived</th>\n",
       "      <th>Pclass</th>\n",
       "      <th></th>\n",
       "      <th></th>\n",
       "      <th></th>\n",
       "      <th></th>\n",
       "      <th></th>\n",
       "      <th></th>\n",
       "      <th></th>\n",
       "      <th></th>\n",
       "      <th></th>\n",
       "      <th></th>\n",
       "      <th></th>\n",
       "      <th></th>\n",
       "      <th></th>\n",
       "      <th></th>\n",
       "      <th></th>\n",
       "      <th></th>\n",
       "    </tr>\n",
       "  </thead>\n",
       "  <tbody>\n",
       "    <tr>\n",
       "      <th rowspan=\"3\" valign=\"top\">0</th>\n",
       "      <th>1</th>\n",
       "      <td>18.0</td>\n",
       "      <td>82.555556</td>\n",
       "      <td>44.501450</td>\n",
       "      <td>7.0</td>\n",
       "      <td>40.75</td>\n",
       "      <td>88.5</td>\n",
       "      <td>117.00</td>\n",
       "      <td>156.0</td>\n",
       "      <td>18.0</td>\n",
       "      <td>80.035183</td>\n",
       "      <td>66.109719</td>\n",
       "      <td>27.7208</td>\n",
       "      <td>51.896875</td>\n",
       "      <td>61.27710</td>\n",
       "      <td>78.721875</td>\n",
       "      <td>263.0000</td>\n",
       "    </tr>\n",
       "    <tr>\n",
       "      <th>2</th>\n",
       "      <td>16.0</td>\n",
       "      <td>107.187500</td>\n",
       "      <td>44.842270</td>\n",
       "      <td>21.0</td>\n",
       "      <td>72.50</td>\n",
       "      <td>122.0</td>\n",
       "      <td>145.25</td>\n",
       "      <td>151.0</td>\n",
       "      <td>16.0</td>\n",
       "      <td>26.243225</td>\n",
       "      <td>20.039973</td>\n",
       "      <td>10.5000</td>\n",
       "      <td>12.881250</td>\n",
       "      <td>21.00000</td>\n",
       "      <td>27.017700</td>\n",
       "      <td>73.5000</td>\n",
       "    </tr>\n",
       "    <tr>\n",
       "      <th>3</th>\n",
       "      <td>68.0</td>\n",
       "      <td>80.161765</td>\n",
       "      <td>43.375352</td>\n",
       "      <td>1.0</td>\n",
       "      <td>46.75</td>\n",
       "      <td>84.0</td>\n",
       "      <td>114.25</td>\n",
       "      <td>155.0</td>\n",
       "      <td>68.0</td>\n",
       "      <td>13.545954</td>\n",
       "      <td>9.905474</td>\n",
       "      <td>6.7500</td>\n",
       "      <td>7.895800</td>\n",
       "      <td>8.05000</td>\n",
       "      <td>15.309350</td>\n",
       "      <td>46.9000</td>\n",
       "    </tr>\n",
       "    <tr>\n",
       "      <th rowspan=\"3\" valign=\"top\">1</th>\n",
       "      <th>1</th>\n",
       "      <td>12.0</td>\n",
       "      <td>60.083333</td>\n",
       "      <td>50.118874</td>\n",
       "      <td>2.0</td>\n",
       "      <td>21.00</td>\n",
       "      <td>54.5</td>\n",
       "      <td>91.25</td>\n",
       "      <td>152.0</td>\n",
       "      <td>12.0</td>\n",
       "      <td>78.702075</td>\n",
       "      <td>66.649342</td>\n",
       "      <td>26.2833</td>\n",
       "      <td>35.500000</td>\n",
       "      <td>64.97915</td>\n",
       "      <td>77.546900</td>\n",
       "      <td>263.0000</td>\n",
       "    </tr>\n",
       "    <tr>\n",
       "      <th>2</th>\n",
       "      <td>14.0</td>\n",
       "      <td>62.000000</td>\n",
       "      <td>39.240874</td>\n",
       "      <td>10.0</td>\n",
       "      <td>27.50</td>\n",
       "      <td>58.0</td>\n",
       "      <td>83.50</td>\n",
       "      <td>134.0</td>\n",
       "      <td>14.0</td>\n",
       "      <td>20.707143</td>\n",
       "      <td>9.671110</td>\n",
       "      <td>10.5000</td>\n",
       "      <td>13.000000</td>\n",
       "      <td>19.50000</td>\n",
       "      <td>27.312500</td>\n",
       "      <td>41.5792</td>\n",
       "    </tr>\n",
       "    <tr>\n",
       "      <th>3</th>\n",
       "      <td>28.0</td>\n",
       "      <td>71.607143</td>\n",
       "      <td>45.525198</td>\n",
       "      <td>3.0</td>\n",
       "      <td>32.00</td>\n",
       "      <td>72.0</td>\n",
       "      <td>108.50</td>\n",
       "      <td>147.0</td>\n",
       "      <td>28.0</td>\n",
       "      <td>13.182889</td>\n",
       "      <td>10.400539</td>\n",
       "      <td>7.1417</td>\n",
       "      <td>7.768750</td>\n",
       "      <td>7.97710</td>\n",
       "      <td>15.396850</td>\n",
       "      <td>56.4958</td>\n",
       "    </tr>\n",
       "  </tbody>\n",
       "</table>\n",
       "</div>"
      ],
      "text/plain": [
       "                PassengerId                                             \\\n",
       "                      count        mean        std   min    25%    50%   \n",
       "Survived Pclass                                                          \n",
       "0        1             18.0   82.555556  44.501450   7.0  40.75   88.5   \n",
       "         2             16.0  107.187500  44.842270  21.0  72.50  122.0   \n",
       "         3             68.0   80.161765  43.375352   1.0  46.75   84.0   \n",
       "1        1             12.0   60.083333  50.118874   2.0  21.00   54.5   \n",
       "         2             14.0   62.000000  39.240874  10.0  27.50   58.0   \n",
       "         3             28.0   71.607143  45.525198   3.0  32.00   72.0   \n",
       "\n",
       "                                Fare                                 \\\n",
       "                    75%    max count       mean        std      min   \n",
       "Survived Pclass                                                       \n",
       "0        1       117.00  156.0  18.0  80.035183  66.109719  27.7208   \n",
       "         2       145.25  151.0  16.0  26.243225  20.039973  10.5000   \n",
       "         3       114.25  155.0  68.0  13.545954   9.905474   6.7500   \n",
       "1        1        91.25  152.0  12.0  78.702075  66.649342  26.2833   \n",
       "         2        83.50  134.0  14.0  20.707143   9.671110  10.5000   \n",
       "         3       108.50  147.0  28.0  13.182889  10.400539   7.1417   \n",
       "\n",
       "                                                           \n",
       "                       25%       50%        75%       max  \n",
       "Survived Pclass                                            \n",
       "0        1       51.896875  61.27710  78.721875  263.0000  \n",
       "         2       12.881250  21.00000  27.017700   73.5000  \n",
       "         3        7.895800   8.05000  15.309350   46.9000  \n",
       "1        1       35.500000  64.97915  77.546900  263.0000  \n",
       "         2       13.000000  19.50000  27.312500   41.5792  \n",
       "         3        7.768750   7.97710  15.396850   56.4958  "
      ]
     },
     "execution_count": 144,
     "metadata": {},
     "output_type": "execute_result"
    }
   ],
   "source": [
    "df.groupby([\"Survived\", \"Pclass\"])[[\"PassengerId\", \"Fare\"]].describe()"
   ]
  },
  {
   "cell_type": "markdown",
   "metadata": {
    "pycharm": {
     "name": "#%% md\n"
    },
    "slideshow": {
     "slide_type": "slide"
    }
   },
   "source": [
    "### Работа с timestamp'ами"
   ]
  },
  {
   "cell_type": "code",
   "execution_count": 85,
   "metadata": {
    "pycharm": {
     "name": "#%%\n"
    }
   },
   "outputs": [],
   "source": [
    "tdf = df.copy()\n",
    "tdf[\"ts\"] = range(1560000000, 1560000000 + tdf.shape[0])"
   ]
  },
  {
   "cell_type": "code",
   "execution_count": 86,
   "metadata": {
    "pycharm": {
     "name": "#%%\n"
    }
   },
   "outputs": [
    {
     "data": {
      "text/html": [
       "<div>\n",
       "<style scoped>\n",
       "    .dataframe tbody tr th:only-of-type {\n",
       "        vertical-align: middle;\n",
       "    }\n",
       "\n",
       "    .dataframe tbody tr th {\n",
       "        vertical-align: top;\n",
       "    }\n",
       "\n",
       "    .dataframe thead th {\n",
       "        text-align: right;\n",
       "    }\n",
       "</style>\n",
       "<table border=\"1\" class=\"dataframe\">\n",
       "  <thead>\n",
       "    <tr style=\"text-align: right;\">\n",
       "      <th></th>\n",
       "      <th>PassengerId</th>\n",
       "      <th>Survived</th>\n",
       "      <th>Pclass</th>\n",
       "      <th>Name</th>\n",
       "      <th>Sex</th>\n",
       "      <th>Age</th>\n",
       "      <th>SibSp</th>\n",
       "      <th>Parch</th>\n",
       "      <th>Ticket</th>\n",
       "      <th>Fare</th>\n",
       "      <th>Cabin</th>\n",
       "      <th>Embarked</th>\n",
       "      <th>ts</th>\n",
       "    </tr>\n",
       "  </thead>\n",
       "  <tbody>\n",
       "    <tr>\n",
       "      <th>803</th>\n",
       "      <td>804</td>\n",
       "      <td>1</td>\n",
       "      <td>3</td>\n",
       "      <td>Thomas, Master. Assad Alexander</td>\n",
       "      <td>male</td>\n",
       "      <td>0.42</td>\n",
       "      <td>0</td>\n",
       "      <td>1</td>\n",
       "      <td>2625</td>\n",
       "      <td>8.5167</td>\n",
       "      <td>NaN</td>\n",
       "      <td>C</td>\n",
       "      <td>1560000000</td>\n",
       "    </tr>\n",
       "    <tr>\n",
       "      <th>755</th>\n",
       "      <td>756</td>\n",
       "      <td>1</td>\n",
       "      <td>2</td>\n",
       "      <td>Hamalainen, Master. Viljo</td>\n",
       "      <td>male</td>\n",
       "      <td>0.67</td>\n",
       "      <td>1</td>\n",
       "      <td>1</td>\n",
       "      <td>250649</td>\n",
       "      <td>14.5000</td>\n",
       "      <td>NaN</td>\n",
       "      <td>S</td>\n",
       "      <td>1560000001</td>\n",
       "    </tr>\n",
       "  </tbody>\n",
       "</table>\n",
       "</div>"
      ],
      "text/plain": [
       "     PassengerId  Survived  Pclass                             Name   Sex  \\\n",
       "803          804         1       3  Thomas, Master. Assad Alexander  male   \n",
       "755          756         1       2        Hamalainen, Master. Viljo  male   \n",
       "\n",
       "      Age  SibSp  Parch  Ticket     Fare Cabin Embarked          ts  \n",
       "803  0.42      0      1    2625   8.5167   NaN        C  1560000000  \n",
       "755  0.67      1      1  250649  14.5000   NaN        S  1560000001  "
      ]
     },
     "execution_count": 86,
     "metadata": {},
     "output_type": "execute_result"
    }
   ],
   "source": [
    "tdf.head(2)"
   ]
  },
  {
   "cell_type": "code",
   "execution_count": 87,
   "metadata": {
    "pycharm": {
     "name": "#%%\n"
    }
   },
   "outputs": [],
   "source": [
    "tdf[\"ts\"] = pd.to_datetime(tdf[\"ts\"], unit=\"s\")"
   ]
  },
  {
   "cell_type": "code",
   "execution_count": 88,
   "metadata": {
    "pycharm": {
     "name": "#%%\n"
    }
   },
   "outputs": [
    {
     "data": {
      "text/html": [
       "<div>\n",
       "<style scoped>\n",
       "    .dataframe tbody tr th:only-of-type {\n",
       "        vertical-align: middle;\n",
       "    }\n",
       "\n",
       "    .dataframe tbody tr th {\n",
       "        vertical-align: top;\n",
       "    }\n",
       "\n",
       "    .dataframe thead th {\n",
       "        text-align: right;\n",
       "    }\n",
       "</style>\n",
       "<table border=\"1\" class=\"dataframe\">\n",
       "  <thead>\n",
       "    <tr style=\"text-align: right;\">\n",
       "      <th></th>\n",
       "      <th>PassengerId</th>\n",
       "      <th>Survived</th>\n",
       "      <th>Pclass</th>\n",
       "      <th>Name</th>\n",
       "      <th>Sex</th>\n",
       "      <th>Age</th>\n",
       "      <th>SibSp</th>\n",
       "      <th>Parch</th>\n",
       "      <th>Ticket</th>\n",
       "      <th>Fare</th>\n",
       "      <th>Cabin</th>\n",
       "      <th>Embarked</th>\n",
       "      <th>ts</th>\n",
       "    </tr>\n",
       "  </thead>\n",
       "  <tbody>\n",
       "    <tr>\n",
       "      <th>803</th>\n",
       "      <td>804</td>\n",
       "      <td>1</td>\n",
       "      <td>3</td>\n",
       "      <td>Thomas, Master. Assad Alexander</td>\n",
       "      <td>male</td>\n",
       "      <td>0.42</td>\n",
       "      <td>0</td>\n",
       "      <td>1</td>\n",
       "      <td>2625</td>\n",
       "      <td>8.5167</td>\n",
       "      <td>NaN</td>\n",
       "      <td>C</td>\n",
       "      <td>2019-06-08 13:20:00</td>\n",
       "    </tr>\n",
       "    <tr>\n",
       "      <th>755</th>\n",
       "      <td>756</td>\n",
       "      <td>1</td>\n",
       "      <td>2</td>\n",
       "      <td>Hamalainen, Master. Viljo</td>\n",
       "      <td>male</td>\n",
       "      <td>0.67</td>\n",
       "      <td>1</td>\n",
       "      <td>1</td>\n",
       "      <td>250649</td>\n",
       "      <td>14.5000</td>\n",
       "      <td>NaN</td>\n",
       "      <td>S</td>\n",
       "      <td>2019-06-08 13:20:01</td>\n",
       "    </tr>\n",
       "  </tbody>\n",
       "</table>\n",
       "</div>"
      ],
      "text/plain": [
       "     PassengerId  Survived  Pclass                             Name   Sex  \\\n",
       "803          804         1       3  Thomas, Master. Assad Alexander  male   \n",
       "755          756         1       2        Hamalainen, Master. Viljo  male   \n",
       "\n",
       "      Age  SibSp  Parch  Ticket     Fare Cabin Embarked                  ts  \n",
       "803  0.42      0      1    2625   8.5167   NaN        C 2019-06-08 13:20:00  \n",
       "755  0.67      1      1  250649  14.5000   NaN        S 2019-06-08 13:20:01  "
      ]
     },
     "execution_count": 88,
     "metadata": {},
     "output_type": "execute_result"
    }
   ],
   "source": [
    "tdf.head(2)"
   ]
  },
  {
   "cell_type": "code",
   "execution_count": 89,
   "metadata": {
    "pycharm": {
     "name": "#%%\n"
    }
   },
   "outputs": [],
   "source": [
    "tdf.set_index(\"ts\", inplace=True)"
   ]
  },
  {
   "cell_type": "code",
   "execution_count": 90,
   "metadata": {
    "pycharm": {
     "name": "#%%\n"
    }
   },
   "outputs": [
    {
     "name": "stderr",
     "output_type": "stream",
     "text": [
      "/var/folders/r9/5px6351n6fx3yqdywn2tdlqs14pvmr/T/ipykernel_43230/3739912023.py:1: FutureWarning: The default value of numeric_only in DataFrameGroupBy.sum is deprecated. In a future version, numeric_only will default to False. Either specify numeric_only or select only columns which should be valid for the function.\n",
      "  tdf.resample(\"15s\").sum()\n"
     ]
    },
    {
     "data": {
      "text/html": [
       "<div>\n",
       "<style scoped>\n",
       "    .dataframe tbody tr th:only-of-type {\n",
       "        vertical-align: middle;\n",
       "    }\n",
       "\n",
       "    .dataframe tbody tr th {\n",
       "        vertical-align: top;\n",
       "    }\n",
       "\n",
       "    .dataframe thead th {\n",
       "        text-align: right;\n",
       "    }\n",
       "</style>\n",
       "<table border=\"1\" class=\"dataframe\">\n",
       "  <thead>\n",
       "    <tr style=\"text-align: right;\">\n",
       "      <th></th>\n",
       "      <th>PassengerId</th>\n",
       "      <th>Survived</th>\n",
       "      <th>Pclass</th>\n",
       "      <th>Age</th>\n",
       "      <th>SibSp</th>\n",
       "      <th>Parch</th>\n",
       "      <th>Fare</th>\n",
       "    </tr>\n",
       "    <tr>\n",
       "      <th>ts</th>\n",
       "      <th></th>\n",
       "      <th></th>\n",
       "      <th></th>\n",
       "      <th></th>\n",
       "      <th></th>\n",
       "      <th></th>\n",
       "      <th></th>\n",
       "    </tr>\n",
       "  </thead>\n",
       "  <tbody>\n",
       "    <tr>\n",
       "      <th>2019-06-08 13:20:00</th>\n",
       "      <td>7443</td>\n",
       "      <td>12</td>\n",
       "      <td>38</td>\n",
       "      <td>14.17</td>\n",
       "      <td>23</td>\n",
       "      <td>22</td>\n",
       "      <td>498.7750</td>\n",
       "    </tr>\n",
       "    <tr>\n",
       "      <th>2019-06-08 13:20:15</th>\n",
       "      <td>4458</td>\n",
       "      <td>8</td>\n",
       "      <td>38</td>\n",
       "      <td>36.00</td>\n",
       "      <td>29</td>\n",
       "      <td>19</td>\n",
       "      <td>502.1542</td>\n",
       "    </tr>\n",
       "    <tr>\n",
       "      <th>2019-06-08 13:20:30</th>\n",
       "      <td>6902</td>\n",
       "      <td>12</td>\n",
       "      <td>39</td>\n",
       "      <td>66.00</td>\n",
       "      <td>23</td>\n",
       "      <td>20</td>\n",
       "      <td>419.3041</td>\n",
       "    </tr>\n",
       "    <tr>\n",
       "      <th>2019-06-08 13:20:45</th>\n",
       "      <td>6875</td>\n",
       "      <td>4</td>\n",
       "      <td>42</td>\n",
       "      <td>119.00</td>\n",
       "      <td>39</td>\n",
       "      <td>23</td>\n",
       "      <td>439.0958</td>\n",
       "    </tr>\n",
       "    <tr>\n",
       "      <th>2019-06-08 13:21:00</th>\n",
       "      <td>6561</td>\n",
       "      <td>9</td>\n",
       "      <td>39</td>\n",
       "      <td>176.00</td>\n",
       "      <td>22</td>\n",
       "      <td>17</td>\n",
       "      <td>544.4084</td>\n",
       "    </tr>\n",
       "    <tr>\n",
       "      <th>2019-06-08 13:21:15</th>\n",
       "      <td>5707</td>\n",
       "      <td>5</td>\n",
       "      <td>42</td>\n",
       "      <td>229.50</td>\n",
       "      <td>15</td>\n",
       "      <td>8</td>\n",
       "      <td>462.3127</td>\n",
       "    </tr>\n",
       "    <tr>\n",
       "      <th>2019-06-08 13:21:30</th>\n",
       "      <td>7317</td>\n",
       "      <td>7</td>\n",
       "      <td>35</td>\n",
       "      <td>245.00</td>\n",
       "      <td>7</td>\n",
       "      <td>7</td>\n",
       "      <td>438.5625</td>\n",
       "    </tr>\n",
       "    <tr>\n",
       "      <th>2019-06-08 13:21:45</th>\n",
       "      <td>6412</td>\n",
       "      <td>5</td>\n",
       "      <td>37</td>\n",
       "      <td>262.00</td>\n",
       "      <td>9</td>\n",
       "      <td>6</td>\n",
       "      <td>364.0916</td>\n",
       "    </tr>\n",
       "    <tr>\n",
       "      <th>2019-06-08 13:22:00</th>\n",
       "      <td>8443</td>\n",
       "      <td>8</td>\n",
       "      <td>35</td>\n",
       "      <td>270.00</td>\n",
       "      <td>7</td>\n",
       "      <td>8</td>\n",
       "      <td>803.5459</td>\n",
       "    </tr>\n",
       "    <tr>\n",
       "      <th>2019-06-08 13:22:15</th>\n",
       "      <td>6006</td>\n",
       "      <td>5</td>\n",
       "      <td>35</td>\n",
       "      <td>281.00</td>\n",
       "      <td>6</td>\n",
       "      <td>4</td>\n",
       "      <td>526.4166</td>\n",
       "    </tr>\n",
       "    <tr>\n",
       "      <th>2019-06-08 13:22:30</th>\n",
       "      <td>5914</td>\n",
       "      <td>4</td>\n",
       "      <td>38</td>\n",
       "      <td>286.00</td>\n",
       "      <td>3</td>\n",
       "      <td>1</td>\n",
       "      <td>219.6833</td>\n",
       "    </tr>\n",
       "    <tr>\n",
       "      <th>2019-06-08 13:22:45</th>\n",
       "      <td>7245</td>\n",
       "      <td>3</td>\n",
       "      <td>45</td>\n",
       "      <td>300.50</td>\n",
       "      <td>3</td>\n",
       "      <td>1</td>\n",
       "      <td>132.6001</td>\n",
       "    </tr>\n",
       "    <tr>\n",
       "      <th>2019-06-08 13:23:00</th>\n",
       "      <td>5743</td>\n",
       "      <td>3</td>\n",
       "      <td>37</td>\n",
       "      <td>315.00</td>\n",
       "      <td>6</td>\n",
       "      <td>5</td>\n",
       "      <td>610.3791</td>\n",
       "    </tr>\n",
       "    <tr>\n",
       "      <th>2019-06-08 13:23:15</th>\n",
       "      <td>6313</td>\n",
       "      <td>4</td>\n",
       "      <td>41</td>\n",
       "      <td>321.00</td>\n",
       "      <td>2</td>\n",
       "      <td>0</td>\n",
       "      <td>322.9916</td>\n",
       "    </tr>\n",
       "    <tr>\n",
       "      <th>2019-06-08 13:23:30</th>\n",
       "      <td>4867</td>\n",
       "      <td>7</td>\n",
       "      <td>37</td>\n",
       "      <td>330.00</td>\n",
       "      <td>4</td>\n",
       "      <td>6</td>\n",
       "      <td>318.4916</td>\n",
       "    </tr>\n",
       "    <tr>\n",
       "      <th>2019-06-08 13:23:45</th>\n",
       "      <td>6779</td>\n",
       "      <td>4</td>\n",
       "      <td>34</td>\n",
       "      <td>339.00</td>\n",
       "      <td>6</td>\n",
       "      <td>3</td>\n",
       "      <td>653.2417</td>\n",
       "    </tr>\n",
       "    <tr>\n",
       "      <th>2019-06-08 13:24:00</th>\n",
       "      <td>6345</td>\n",
       "      <td>7</td>\n",
       "      <td>33</td>\n",
       "      <td>353.50</td>\n",
       "      <td>5</td>\n",
       "      <td>6</td>\n",
       "      <td>583.7417</td>\n",
       "    </tr>\n",
       "    <tr>\n",
       "      <th>2019-06-08 13:24:15</th>\n",
       "      <td>6394</td>\n",
       "      <td>6</td>\n",
       "      <td>35</td>\n",
       "      <td>360.00</td>\n",
       "      <td>7</td>\n",
       "      <td>6</td>\n",
       "      <td>607.6665</td>\n",
       "    </tr>\n",
       "    <tr>\n",
       "      <th>2019-06-08 13:24:30</th>\n",
       "      <td>7356</td>\n",
       "      <td>6</td>\n",
       "      <td>33</td>\n",
       "      <td>367.50</td>\n",
       "      <td>9</td>\n",
       "      <td>7</td>\n",
       "      <td>505.4542</td>\n",
       "    </tr>\n",
       "    <tr>\n",
       "      <th>2019-06-08 13:24:45</th>\n",
       "      <td>8909</td>\n",
       "      <td>5</td>\n",
       "      <td>38</td>\n",
       "      <td>375.00</td>\n",
       "      <td>4</td>\n",
       "      <td>4</td>\n",
       "      <td>274.2959</td>\n",
       "    </tr>\n",
       "    <tr>\n",
       "      <th>2019-06-08 13:25:00</th>\n",
       "      <td>5739</td>\n",
       "      <td>5</td>\n",
       "      <td>39</td>\n",
       "      <td>389.00</td>\n",
       "      <td>4</td>\n",
       "      <td>3</td>\n",
       "      <td>270.4375</td>\n",
       "    </tr>\n",
       "    <tr>\n",
       "      <th>2019-06-08 13:25:15</th>\n",
       "      <td>7938</td>\n",
       "      <td>10</td>\n",
       "      <td>36</td>\n",
       "      <td>401.00</td>\n",
       "      <td>4</td>\n",
       "      <td>2</td>\n",
       "      <td>320.2208</td>\n",
       "    </tr>\n",
       "    <tr>\n",
       "      <th>2019-06-08 13:25:30</th>\n",
       "      <td>9123</td>\n",
       "      <td>5</td>\n",
       "      <td>34</td>\n",
       "      <td>413.00</td>\n",
       "      <td>4</td>\n",
       "      <td>4</td>\n",
       "      <td>444.5041</td>\n",
       "    </tr>\n",
       "    <tr>\n",
       "      <th>2019-06-08 13:25:45</th>\n",
       "      <td>3870</td>\n",
       "      <td>4</td>\n",
       "      <td>34</td>\n",
       "      <td>420.00</td>\n",
       "      <td>5</td>\n",
       "      <td>0</td>\n",
       "      <td>364.2832</td>\n",
       "    </tr>\n",
       "    <tr>\n",
       "      <th>2019-06-08 13:26:00</th>\n",
       "      <td>5764</td>\n",
       "      <td>4</td>\n",
       "      <td>38</td>\n",
       "      <td>432.00</td>\n",
       "      <td>6</td>\n",
       "      <td>8</td>\n",
       "      <td>432.6416</td>\n",
       "    </tr>\n",
       "    <tr>\n",
       "      <th>2019-06-08 13:26:15</th>\n",
       "      <td>5477</td>\n",
       "      <td>6</td>\n",
       "      <td>36</td>\n",
       "      <td>441.00</td>\n",
       "      <td>4</td>\n",
       "      <td>1</td>\n",
       "      <td>327.7833</td>\n",
       "    </tr>\n",
       "    <tr>\n",
       "      <th>2019-06-08 13:26:30</th>\n",
       "      <td>6016</td>\n",
       "      <td>7</td>\n",
       "      <td>33</td>\n",
       "      <td>450.00</td>\n",
       "      <td>3</td>\n",
       "      <td>0</td>\n",
       "      <td>396.5625</td>\n",
       "    </tr>\n",
       "    <tr>\n",
       "      <th>2019-06-08 13:26:45</th>\n",
       "      <td>7631</td>\n",
       "      <td>6</td>\n",
       "      <td>32</td>\n",
       "      <td>460.00</td>\n",
       "      <td>6</td>\n",
       "      <td>4</td>\n",
       "      <td>528.3459</td>\n",
       "    </tr>\n",
       "    <tr>\n",
       "      <th>2019-06-08 13:27:00</th>\n",
       "      <td>8940</td>\n",
       "      <td>6</td>\n",
       "      <td>35</td>\n",
       "      <td>472.00</td>\n",
       "      <td>6</td>\n",
       "      <td>2</td>\n",
       "      <td>390.0625</td>\n",
       "    </tr>\n",
       "    <tr>\n",
       "      <th>2019-06-08 13:27:15</th>\n",
       "      <td>6233</td>\n",
       "      <td>8</td>\n",
       "      <td>39</td>\n",
       "      <td>483.00</td>\n",
       "      <td>6</td>\n",
       "      <td>1</td>\n",
       "      <td>302.5499</td>\n",
       "    </tr>\n",
       "    <tr>\n",
       "      <th>2019-06-08 13:27:30</th>\n",
       "      <td>8349</td>\n",
       "      <td>6</td>\n",
       "      <td>33</td>\n",
       "      <td>497.00</td>\n",
       "      <td>5</td>\n",
       "      <td>6</td>\n",
       "      <td>387.7708</td>\n",
       "    </tr>\n",
       "    <tr>\n",
       "      <th>2019-06-08 13:27:45</th>\n",
       "      <td>6618</td>\n",
       "      <td>6</td>\n",
       "      <td>34</td>\n",
       "      <td>511.50</td>\n",
       "      <td>5</td>\n",
       "      <td>3</td>\n",
       "      <td>251.3333</td>\n",
       "    </tr>\n",
       "    <tr>\n",
       "      <th>2019-06-08 13:28:00</th>\n",
       "      <td>7124</td>\n",
       "      <td>9</td>\n",
       "      <td>27</td>\n",
       "      <td>525.00</td>\n",
       "      <td>3</td>\n",
       "      <td>0</td>\n",
       "      <td>1508.2750</td>\n",
       "    </tr>\n",
       "    <tr>\n",
       "      <th>2019-06-08 13:28:15</th>\n",
       "      <td>6273</td>\n",
       "      <td>7</td>\n",
       "      <td>26</td>\n",
       "      <td>538.00</td>\n",
       "      <td>5</td>\n",
       "      <td>9</td>\n",
       "      <td>1103.5458</td>\n",
       "    </tr>\n",
       "    <tr>\n",
       "      <th>2019-06-08 13:28:30</th>\n",
       "      <td>5992</td>\n",
       "      <td>6</td>\n",
       "      <td>30</td>\n",
       "      <td>545.50</td>\n",
       "      <td>9</td>\n",
       "      <td>4</td>\n",
       "      <td>469.9500</td>\n",
       "    </tr>\n",
       "    <tr>\n",
       "      <th>2019-06-08 13:28:45</th>\n",
       "      <td>6271</td>\n",
       "      <td>5</td>\n",
       "      <td>29</td>\n",
       "      <td>572.00</td>\n",
       "      <td>3</td>\n",
       "      <td>12</td>\n",
       "      <td>799.2416</td>\n",
       "    </tr>\n",
       "    <tr>\n",
       "      <th>2019-06-08 13:29:00</th>\n",
       "      <td>6993</td>\n",
       "      <td>6</td>\n",
       "      <td>29</td>\n",
       "      <td>589.00</td>\n",
       "      <td>8</td>\n",
       "      <td>14</td>\n",
       "      <td>517.6874</td>\n",
       "    </tr>\n",
       "    <tr>\n",
       "      <th>2019-06-08 13:29:15</th>\n",
       "      <td>6667</td>\n",
       "      <td>6</td>\n",
       "      <td>35</td>\n",
       "      <td>605.00</td>\n",
       "      <td>5</td>\n",
       "      <td>16</td>\n",
       "      <td>514.4916</td>\n",
       "    </tr>\n",
       "    <tr>\n",
       "      <th>2019-06-08 13:29:30</th>\n",
       "      <td>6897</td>\n",
       "      <td>7</td>\n",
       "      <td>30</td>\n",
       "      <td>628.00</td>\n",
       "      <td>4</td>\n",
       "      <td>1</td>\n",
       "      <td>624.2584</td>\n",
       "    </tr>\n",
       "    <tr>\n",
       "      <th>2019-06-08 13:29:45</th>\n",
       "      <td>7259</td>\n",
       "      <td>4</td>\n",
       "      <td>32</td>\n",
       "      <td>656.00</td>\n",
       "      <td>7</td>\n",
       "      <td>10</td>\n",
       "      <td>650.2875</td>\n",
       "    </tr>\n",
       "    <tr>\n",
       "      <th>2019-06-08 13:30:00</th>\n",
       "      <td>5766</td>\n",
       "      <td>5</td>\n",
       "      <td>29</td>\n",
       "      <td>678.00</td>\n",
       "      <td>4</td>\n",
       "      <td>7</td>\n",
       "      <td>534.4459</td>\n",
       "    </tr>\n",
       "    <tr>\n",
       "      <th>2019-06-08 13:30:15</th>\n",
       "      <td>8483</td>\n",
       "      <td>4</td>\n",
       "      <td>26</td>\n",
       "      <td>709.00</td>\n",
       "      <td>3</td>\n",
       "      <td>1</td>\n",
       "      <td>399.7459</td>\n",
       "    </tr>\n",
       "    <tr>\n",
       "      <th>2019-06-08 13:30:30</th>\n",
       "      <td>8068</td>\n",
       "      <td>9</td>\n",
       "      <td>25</td>\n",
       "      <td>736.00</td>\n",
       "      <td>8</td>\n",
       "      <td>7</td>\n",
       "      <td>661.5418</td>\n",
       "    </tr>\n",
       "    <tr>\n",
       "      <th>2019-06-08 13:30:45</th>\n",
       "      <td>7144</td>\n",
       "      <td>6</td>\n",
       "      <td>24</td>\n",
       "      <td>763.00</td>\n",
       "      <td>7</td>\n",
       "      <td>3</td>\n",
       "      <td>926.6792</td>\n",
       "    </tr>\n",
       "    <tr>\n",
       "      <th>2019-06-08 13:31:00</th>\n",
       "      <td>6289</td>\n",
       "      <td>7</td>\n",
       "      <td>23</td>\n",
       "      <td>806.50</td>\n",
       "      <td>7</td>\n",
       "      <td>5</td>\n",
       "      <td>598.8459</td>\n",
       "    </tr>\n",
       "    <tr>\n",
       "      <th>2019-06-08 13:31:15</th>\n",
       "      <td>6904</td>\n",
       "      <td>5</td>\n",
       "      <td>21</td>\n",
       "      <td>866.00</td>\n",
       "      <td>1</td>\n",
       "      <td>5</td>\n",
       "      <td>754.5624</td>\n",
       "    </tr>\n",
       "    <tr>\n",
       "      <th>2019-06-08 13:31:30</th>\n",
       "      <td>6370</td>\n",
       "      <td>6</td>\n",
       "      <td>22</td>\n",
       "      <td>935.00</td>\n",
       "      <td>4</td>\n",
       "      <td>6</td>\n",
       "      <td>816.3833</td>\n",
       "    </tr>\n",
       "    <tr>\n",
       "      <th>2019-06-08 13:31:45</th>\n",
       "      <td>4231</td>\n",
       "      <td>4</td>\n",
       "      <td>32</td>\n",
       "      <td>637.50</td>\n",
       "      <td>1</td>\n",
       "      <td>1</td>\n",
       "      <td>299.9167</td>\n",
       "    </tr>\n",
       "    <tr>\n",
       "      <th>2019-06-08 13:32:00</th>\n",
       "      <td>848</td>\n",
       "      <td>7</td>\n",
       "      <td>39</td>\n",
       "      <td>0.00</td>\n",
       "      <td>5</td>\n",
       "      <td>1</td>\n",
       "      <td>332.6249</td>\n",
       "    </tr>\n",
       "    <tr>\n",
       "      <th>2019-06-08 13:32:15</th>\n",
       "      <td>2103</td>\n",
       "      <td>4</td>\n",
       "      <td>41</td>\n",
       "      <td>0.00</td>\n",
       "      <td>21</td>\n",
       "      <td>9</td>\n",
       "      <td>362.7416</td>\n",
       "    </tr>\n",
       "    <tr>\n",
       "      <th>2019-06-08 13:32:30</th>\n",
       "      <td>3310</td>\n",
       "      <td>4</td>\n",
       "      <td>40</td>\n",
       "      <td>0.00</td>\n",
       "      <td>15</td>\n",
       "      <td>3</td>\n",
       "      <td>338.4167</td>\n",
       "    </tr>\n",
       "    <tr>\n",
       "      <th>2019-06-08 13:32:45</th>\n",
       "      <td>4479</td>\n",
       "      <td>8</td>\n",
       "      <td>31</td>\n",
       "      <td>0.00</td>\n",
       "      <td>13</td>\n",
       "      <td>2</td>\n",
       "      <td>519.4541</td>\n",
       "    </tr>\n",
       "    <tr>\n",
       "      <th>2019-06-08 13:33:00</th>\n",
       "      <td>5595</td>\n",
       "      <td>6</td>\n",
       "      <td>41</td>\n",
       "      <td>0.00</td>\n",
       "      <td>6</td>\n",
       "      <td>1</td>\n",
       "      <td>250.4750</td>\n",
       "    </tr>\n",
       "    <tr>\n",
       "      <th>2019-06-08 13:33:15</th>\n",
       "      <td>6680</td>\n",
       "      <td>3</td>\n",
       "      <td>41</td>\n",
       "      <td>0.00</td>\n",
       "      <td>3</td>\n",
       "      <td>0</td>\n",
       "      <td>165.8125</td>\n",
       "    </tr>\n",
       "    <tr>\n",
       "      <th>2019-06-08 13:33:30</th>\n",
       "      <td>7612</td>\n",
       "      <td>2</td>\n",
       "      <td>38</td>\n",
       "      <td>0.00</td>\n",
       "      <td>4</td>\n",
       "      <td>3</td>\n",
       "      <td>459.1918</td>\n",
       "    </tr>\n",
       "    <tr>\n",
       "      <th>2019-06-08 13:33:45</th>\n",
       "      <td>8575</td>\n",
       "      <td>3</td>\n",
       "      <td>41</td>\n",
       "      <td>0.00</td>\n",
       "      <td>1</td>\n",
       "      <td>2</td>\n",
       "      <td>381.7417</td>\n",
       "    </tr>\n",
       "    <tr>\n",
       "      <th>2019-06-08 13:34:00</th>\n",
       "      <td>9541</td>\n",
       "      <td>4</td>\n",
       "      <td>39</td>\n",
       "      <td>0.00</td>\n",
       "      <td>3</td>\n",
       "      <td>0</td>\n",
       "      <td>251.8707</td>\n",
       "    </tr>\n",
       "    <tr>\n",
       "      <th>2019-06-08 13:34:15</th>\n",
       "      <td>10866</td>\n",
       "      <td>5</td>\n",
       "      <td>37</td>\n",
       "      <td>0.00</td>\n",
       "      <td>2</td>\n",
       "      <td>1</td>\n",
       "      <td>261.4415</td>\n",
       "    </tr>\n",
       "    <tr>\n",
       "      <th>2019-06-08 13:34:30</th>\n",
       "      <td>12148</td>\n",
       "      <td>2</td>\n",
       "      <td>39</td>\n",
       "      <td>0.00</td>\n",
       "      <td>17</td>\n",
       "      <td>6</td>\n",
       "      <td>339.8833</td>\n",
       "    </tr>\n",
       "    <tr>\n",
       "      <th>2019-06-08 13:34:45</th>\n",
       "      <td>5211</td>\n",
       "      <td>1</td>\n",
       "      <td>16</td>\n",
       "      <td>0.00</td>\n",
       "      <td>10</td>\n",
       "      <td>4</td>\n",
       "      <td>206.7292</td>\n",
       "    </tr>\n",
       "  </tbody>\n",
       "</table>\n",
       "</div>"
      ],
      "text/plain": [
       "                     PassengerId  Survived  Pclass     Age  SibSp  Parch  \\\n",
       "ts                                                                         \n",
       "2019-06-08 13:20:00         7443        12      38   14.17     23     22   \n",
       "2019-06-08 13:20:15         4458         8      38   36.00     29     19   \n",
       "2019-06-08 13:20:30         6902        12      39   66.00     23     20   \n",
       "2019-06-08 13:20:45         6875         4      42  119.00     39     23   \n",
       "2019-06-08 13:21:00         6561         9      39  176.00     22     17   \n",
       "2019-06-08 13:21:15         5707         5      42  229.50     15      8   \n",
       "2019-06-08 13:21:30         7317         7      35  245.00      7      7   \n",
       "2019-06-08 13:21:45         6412         5      37  262.00      9      6   \n",
       "2019-06-08 13:22:00         8443         8      35  270.00      7      8   \n",
       "2019-06-08 13:22:15         6006         5      35  281.00      6      4   \n",
       "2019-06-08 13:22:30         5914         4      38  286.00      3      1   \n",
       "2019-06-08 13:22:45         7245         3      45  300.50      3      1   \n",
       "2019-06-08 13:23:00         5743         3      37  315.00      6      5   \n",
       "2019-06-08 13:23:15         6313         4      41  321.00      2      0   \n",
       "2019-06-08 13:23:30         4867         7      37  330.00      4      6   \n",
       "2019-06-08 13:23:45         6779         4      34  339.00      6      3   \n",
       "2019-06-08 13:24:00         6345         7      33  353.50      5      6   \n",
       "2019-06-08 13:24:15         6394         6      35  360.00      7      6   \n",
       "2019-06-08 13:24:30         7356         6      33  367.50      9      7   \n",
       "2019-06-08 13:24:45         8909         5      38  375.00      4      4   \n",
       "2019-06-08 13:25:00         5739         5      39  389.00      4      3   \n",
       "2019-06-08 13:25:15         7938        10      36  401.00      4      2   \n",
       "2019-06-08 13:25:30         9123         5      34  413.00      4      4   \n",
       "2019-06-08 13:25:45         3870         4      34  420.00      5      0   \n",
       "2019-06-08 13:26:00         5764         4      38  432.00      6      8   \n",
       "2019-06-08 13:26:15         5477         6      36  441.00      4      1   \n",
       "2019-06-08 13:26:30         6016         7      33  450.00      3      0   \n",
       "2019-06-08 13:26:45         7631         6      32  460.00      6      4   \n",
       "2019-06-08 13:27:00         8940         6      35  472.00      6      2   \n",
       "2019-06-08 13:27:15         6233         8      39  483.00      6      1   \n",
       "2019-06-08 13:27:30         8349         6      33  497.00      5      6   \n",
       "2019-06-08 13:27:45         6618         6      34  511.50      5      3   \n",
       "2019-06-08 13:28:00         7124         9      27  525.00      3      0   \n",
       "2019-06-08 13:28:15         6273         7      26  538.00      5      9   \n",
       "2019-06-08 13:28:30         5992         6      30  545.50      9      4   \n",
       "2019-06-08 13:28:45         6271         5      29  572.00      3     12   \n",
       "2019-06-08 13:29:00         6993         6      29  589.00      8     14   \n",
       "2019-06-08 13:29:15         6667         6      35  605.00      5     16   \n",
       "2019-06-08 13:29:30         6897         7      30  628.00      4      1   \n",
       "2019-06-08 13:29:45         7259         4      32  656.00      7     10   \n",
       "2019-06-08 13:30:00         5766         5      29  678.00      4      7   \n",
       "2019-06-08 13:30:15         8483         4      26  709.00      3      1   \n",
       "2019-06-08 13:30:30         8068         9      25  736.00      8      7   \n",
       "2019-06-08 13:30:45         7144         6      24  763.00      7      3   \n",
       "2019-06-08 13:31:00         6289         7      23  806.50      7      5   \n",
       "2019-06-08 13:31:15         6904         5      21  866.00      1      5   \n",
       "2019-06-08 13:31:30         6370         6      22  935.00      4      6   \n",
       "2019-06-08 13:31:45         4231         4      32  637.50      1      1   \n",
       "2019-06-08 13:32:00          848         7      39    0.00      5      1   \n",
       "2019-06-08 13:32:15         2103         4      41    0.00     21      9   \n",
       "2019-06-08 13:32:30         3310         4      40    0.00     15      3   \n",
       "2019-06-08 13:32:45         4479         8      31    0.00     13      2   \n",
       "2019-06-08 13:33:00         5595         6      41    0.00      6      1   \n",
       "2019-06-08 13:33:15         6680         3      41    0.00      3      0   \n",
       "2019-06-08 13:33:30         7612         2      38    0.00      4      3   \n",
       "2019-06-08 13:33:45         8575         3      41    0.00      1      2   \n",
       "2019-06-08 13:34:00         9541         4      39    0.00      3      0   \n",
       "2019-06-08 13:34:15        10866         5      37    0.00      2      1   \n",
       "2019-06-08 13:34:30        12148         2      39    0.00     17      6   \n",
       "2019-06-08 13:34:45         5211         1      16    0.00     10      4   \n",
       "\n",
       "                          Fare  \n",
       "ts                              \n",
       "2019-06-08 13:20:00   498.7750  \n",
       "2019-06-08 13:20:15   502.1542  \n",
       "2019-06-08 13:20:30   419.3041  \n",
       "2019-06-08 13:20:45   439.0958  \n",
       "2019-06-08 13:21:00   544.4084  \n",
       "2019-06-08 13:21:15   462.3127  \n",
       "2019-06-08 13:21:30   438.5625  \n",
       "2019-06-08 13:21:45   364.0916  \n",
       "2019-06-08 13:22:00   803.5459  \n",
       "2019-06-08 13:22:15   526.4166  \n",
       "2019-06-08 13:22:30   219.6833  \n",
       "2019-06-08 13:22:45   132.6001  \n",
       "2019-06-08 13:23:00   610.3791  \n",
       "2019-06-08 13:23:15   322.9916  \n",
       "2019-06-08 13:23:30   318.4916  \n",
       "2019-06-08 13:23:45   653.2417  \n",
       "2019-06-08 13:24:00   583.7417  \n",
       "2019-06-08 13:24:15   607.6665  \n",
       "2019-06-08 13:24:30   505.4542  \n",
       "2019-06-08 13:24:45   274.2959  \n",
       "2019-06-08 13:25:00   270.4375  \n",
       "2019-06-08 13:25:15   320.2208  \n",
       "2019-06-08 13:25:30   444.5041  \n",
       "2019-06-08 13:25:45   364.2832  \n",
       "2019-06-08 13:26:00   432.6416  \n",
       "2019-06-08 13:26:15   327.7833  \n",
       "2019-06-08 13:26:30   396.5625  \n",
       "2019-06-08 13:26:45   528.3459  \n",
       "2019-06-08 13:27:00   390.0625  \n",
       "2019-06-08 13:27:15   302.5499  \n",
       "2019-06-08 13:27:30   387.7708  \n",
       "2019-06-08 13:27:45   251.3333  \n",
       "2019-06-08 13:28:00  1508.2750  \n",
       "2019-06-08 13:28:15  1103.5458  \n",
       "2019-06-08 13:28:30   469.9500  \n",
       "2019-06-08 13:28:45   799.2416  \n",
       "2019-06-08 13:29:00   517.6874  \n",
       "2019-06-08 13:29:15   514.4916  \n",
       "2019-06-08 13:29:30   624.2584  \n",
       "2019-06-08 13:29:45   650.2875  \n",
       "2019-06-08 13:30:00   534.4459  \n",
       "2019-06-08 13:30:15   399.7459  \n",
       "2019-06-08 13:30:30   661.5418  \n",
       "2019-06-08 13:30:45   926.6792  \n",
       "2019-06-08 13:31:00   598.8459  \n",
       "2019-06-08 13:31:15   754.5624  \n",
       "2019-06-08 13:31:30   816.3833  \n",
       "2019-06-08 13:31:45   299.9167  \n",
       "2019-06-08 13:32:00   332.6249  \n",
       "2019-06-08 13:32:15   362.7416  \n",
       "2019-06-08 13:32:30   338.4167  \n",
       "2019-06-08 13:32:45   519.4541  \n",
       "2019-06-08 13:33:00   250.4750  \n",
       "2019-06-08 13:33:15   165.8125  \n",
       "2019-06-08 13:33:30   459.1918  \n",
       "2019-06-08 13:33:45   381.7417  \n",
       "2019-06-08 13:34:00   251.8707  \n",
       "2019-06-08 13:34:15   261.4415  \n",
       "2019-06-08 13:34:30   339.8833  \n",
       "2019-06-08 13:34:45   206.7292  "
      ]
     },
     "execution_count": 90,
     "metadata": {},
     "output_type": "execute_result"
    }
   ],
   "source": [
    "tdf.resample(\"15s\").sum()"
   ]
  },
  {
   "cell_type": "code",
   "execution_count": 91,
   "metadata": {
    "pycharm": {
     "name": "#%%\n"
    }
   },
   "outputs": [
    {
     "name": "stderr",
     "output_type": "stream",
     "text": [
      "/var/folders/r9/5px6351n6fx3yqdywn2tdlqs14pvmr/T/ipykernel_43230/2046292963.py:1: FutureWarning: The default value of numeric_only in DataFrameGroupBy.sum is deprecated. In a future version, numeric_only will default to False. Either specify numeric_only or select only columns which should be valid for the function.\n",
      "  tdf.resample(\"1T\").sum()\n"
     ]
    },
    {
     "data": {
      "text/html": [
       "<div>\n",
       "<style scoped>\n",
       "    .dataframe tbody tr th:only-of-type {\n",
       "        vertical-align: middle;\n",
       "    }\n",
       "\n",
       "    .dataframe tbody tr th {\n",
       "        vertical-align: top;\n",
       "    }\n",
       "\n",
       "    .dataframe thead th {\n",
       "        text-align: right;\n",
       "    }\n",
       "</style>\n",
       "<table border=\"1\" class=\"dataframe\">\n",
       "  <thead>\n",
       "    <tr style=\"text-align: right;\">\n",
       "      <th></th>\n",
       "      <th>PassengerId</th>\n",
       "      <th>Survived</th>\n",
       "      <th>Pclass</th>\n",
       "      <th>Age</th>\n",
       "      <th>SibSp</th>\n",
       "      <th>Parch</th>\n",
       "      <th>Fare</th>\n",
       "    </tr>\n",
       "    <tr>\n",
       "      <th>ts</th>\n",
       "      <th></th>\n",
       "      <th></th>\n",
       "      <th></th>\n",
       "      <th></th>\n",
       "      <th></th>\n",
       "      <th></th>\n",
       "      <th></th>\n",
       "    </tr>\n",
       "  </thead>\n",
       "  <tbody>\n",
       "    <tr>\n",
       "      <th>2019-06-08 13:20:00</th>\n",
       "      <td>25678</td>\n",
       "      <td>36</td>\n",
       "      <td>157</td>\n",
       "      <td>235.17</td>\n",
       "      <td>114</td>\n",
       "      <td>84</td>\n",
       "      <td>1859.3291</td>\n",
       "    </tr>\n",
       "    <tr>\n",
       "      <th>2019-06-08 13:21:00</th>\n",
       "      <td>25997</td>\n",
       "      <td>26</td>\n",
       "      <td>153</td>\n",
       "      <td>912.50</td>\n",
       "      <td>53</td>\n",
       "      <td>38</td>\n",
       "      <td>1809.3752</td>\n",
       "    </tr>\n",
       "    <tr>\n",
       "      <th>2019-06-08 13:22:00</th>\n",
       "      <td>27608</td>\n",
       "      <td>20</td>\n",
       "      <td>153</td>\n",
       "      <td>1137.50</td>\n",
       "      <td>19</td>\n",
       "      <td>14</td>\n",
       "      <td>1682.2459</td>\n",
       "    </tr>\n",
       "    <tr>\n",
       "      <th>2019-06-08 13:23:00</th>\n",
       "      <td>23702</td>\n",
       "      <td>18</td>\n",
       "      <td>149</td>\n",
       "      <td>1305.00</td>\n",
       "      <td>18</td>\n",
       "      <td>14</td>\n",
       "      <td>1905.1040</td>\n",
       "    </tr>\n",
       "    <tr>\n",
       "      <th>2019-06-08 13:24:00</th>\n",
       "      <td>29004</td>\n",
       "      <td>24</td>\n",
       "      <td>139</td>\n",
       "      <td>1456.00</td>\n",
       "      <td>25</td>\n",
       "      <td>23</td>\n",
       "      <td>1971.1583</td>\n",
       "    </tr>\n",
       "    <tr>\n",
       "      <th>2019-06-08 13:25:00</th>\n",
       "      <td>26670</td>\n",
       "      <td>24</td>\n",
       "      <td>143</td>\n",
       "      <td>1623.00</td>\n",
       "      <td>17</td>\n",
       "      <td>9</td>\n",
       "      <td>1399.4456</td>\n",
       "    </tr>\n",
       "    <tr>\n",
       "      <th>2019-06-08 13:26:00</th>\n",
       "      <td>24888</td>\n",
       "      <td>23</td>\n",
       "      <td>139</td>\n",
       "      <td>1783.00</td>\n",
       "      <td>19</td>\n",
       "      <td>13</td>\n",
       "      <td>1685.3333</td>\n",
       "    </tr>\n",
       "    <tr>\n",
       "      <th>2019-06-08 13:27:00</th>\n",
       "      <td>30140</td>\n",
       "      <td>26</td>\n",
       "      <td>141</td>\n",
       "      <td>1963.50</td>\n",
       "      <td>22</td>\n",
       "      <td>12</td>\n",
       "      <td>1331.7165</td>\n",
       "    </tr>\n",
       "    <tr>\n",
       "      <th>2019-06-08 13:28:00</th>\n",
       "      <td>25660</td>\n",
       "      <td>27</td>\n",
       "      <td>112</td>\n",
       "      <td>2180.50</td>\n",
       "      <td>20</td>\n",
       "      <td>25</td>\n",
       "      <td>3881.0124</td>\n",
       "    </tr>\n",
       "    <tr>\n",
       "      <th>2019-06-08 13:29:00</th>\n",
       "      <td>27816</td>\n",
       "      <td>23</td>\n",
       "      <td>126</td>\n",
       "      <td>2478.00</td>\n",
       "      <td>24</td>\n",
       "      <td>41</td>\n",
       "      <td>2306.7249</td>\n",
       "    </tr>\n",
       "    <tr>\n",
       "      <th>2019-06-08 13:30:00</th>\n",
       "      <td>29461</td>\n",
       "      <td>24</td>\n",
       "      <td>104</td>\n",
       "      <td>2886.00</td>\n",
       "      <td>22</td>\n",
       "      <td>18</td>\n",
       "      <td>2522.4128</td>\n",
       "    </tr>\n",
       "    <tr>\n",
       "      <th>2019-06-08 13:31:00</th>\n",
       "      <td>23794</td>\n",
       "      <td>22</td>\n",
       "      <td>98</td>\n",
       "      <td>3245.00</td>\n",
       "      <td>13</td>\n",
       "      <td>17</td>\n",
       "      <td>2469.7083</td>\n",
       "    </tr>\n",
       "    <tr>\n",
       "      <th>2019-06-08 13:32:00</th>\n",
       "      <td>10740</td>\n",
       "      <td>23</td>\n",
       "      <td>151</td>\n",
       "      <td>0.00</td>\n",
       "      <td>54</td>\n",
       "      <td>15</td>\n",
       "      <td>1553.2373</td>\n",
       "    </tr>\n",
       "    <tr>\n",
       "      <th>2019-06-08 13:33:00</th>\n",
       "      <td>28462</td>\n",
       "      <td>14</td>\n",
       "      <td>161</td>\n",
       "      <td>0.00</td>\n",
       "      <td>14</td>\n",
       "      <td>6</td>\n",
       "      <td>1257.2210</td>\n",
       "    </tr>\n",
       "    <tr>\n",
       "      <th>2019-06-08 13:34:00</th>\n",
       "      <td>37766</td>\n",
       "      <td>12</td>\n",
       "      <td>131</td>\n",
       "      <td>0.00</td>\n",
       "      <td>32</td>\n",
       "      <td>11</td>\n",
       "      <td>1059.9247</td>\n",
       "    </tr>\n",
       "  </tbody>\n",
       "</table>\n",
       "</div>"
      ],
      "text/plain": [
       "                     PassengerId  Survived  Pclass      Age  SibSp  Parch  \\\n",
       "ts                                                                          \n",
       "2019-06-08 13:20:00        25678        36     157   235.17    114     84   \n",
       "2019-06-08 13:21:00        25997        26     153   912.50     53     38   \n",
       "2019-06-08 13:22:00        27608        20     153  1137.50     19     14   \n",
       "2019-06-08 13:23:00        23702        18     149  1305.00     18     14   \n",
       "2019-06-08 13:24:00        29004        24     139  1456.00     25     23   \n",
       "2019-06-08 13:25:00        26670        24     143  1623.00     17      9   \n",
       "2019-06-08 13:26:00        24888        23     139  1783.00     19     13   \n",
       "2019-06-08 13:27:00        30140        26     141  1963.50     22     12   \n",
       "2019-06-08 13:28:00        25660        27     112  2180.50     20     25   \n",
       "2019-06-08 13:29:00        27816        23     126  2478.00     24     41   \n",
       "2019-06-08 13:30:00        29461        24     104  2886.00     22     18   \n",
       "2019-06-08 13:31:00        23794        22      98  3245.00     13     17   \n",
       "2019-06-08 13:32:00        10740        23     151     0.00     54     15   \n",
       "2019-06-08 13:33:00        28462        14     161     0.00     14      6   \n",
       "2019-06-08 13:34:00        37766        12     131     0.00     32     11   \n",
       "\n",
       "                          Fare  \n",
       "ts                              \n",
       "2019-06-08 13:20:00  1859.3291  \n",
       "2019-06-08 13:21:00  1809.3752  \n",
       "2019-06-08 13:22:00  1682.2459  \n",
       "2019-06-08 13:23:00  1905.1040  \n",
       "2019-06-08 13:24:00  1971.1583  \n",
       "2019-06-08 13:25:00  1399.4456  \n",
       "2019-06-08 13:26:00  1685.3333  \n",
       "2019-06-08 13:27:00  1331.7165  \n",
       "2019-06-08 13:28:00  3881.0124  \n",
       "2019-06-08 13:29:00  2306.7249  \n",
       "2019-06-08 13:30:00  2522.4128  \n",
       "2019-06-08 13:31:00  2469.7083  \n",
       "2019-06-08 13:32:00  1553.2373  \n",
       "2019-06-08 13:33:00  1257.2210  \n",
       "2019-06-08 13:34:00  1059.9247  "
      ]
     },
     "execution_count": 91,
     "metadata": {},
     "output_type": "execute_result"
    }
   ],
   "source": [
    "tdf.resample(\"1T\").sum()"
   ]
  },
  {
   "cell_type": "markdown",
   "metadata": {
    "pycharm": {
     "name": "#%% md\n"
    },
    "slideshow": {
     "slide_type": "slide"
    }
   },
   "source": [
    "### Rolling функции"
   ]
  },
  {
   "cell_type": "code",
   "execution_count": 95,
   "metadata": {
    "pycharm": {
     "name": "#%%\n"
    }
   },
   "outputs": [
    {
     "data": {
      "text/html": [
       "<div>\n",
       "<style scoped>\n",
       "    .dataframe tbody tr th:only-of-type {\n",
       "        vertical-align: middle;\n",
       "    }\n",
       "\n",
       "    .dataframe tbody tr th {\n",
       "        vertical-align: top;\n",
       "    }\n",
       "\n",
       "    .dataframe thead th {\n",
       "        text-align: right;\n",
       "    }\n",
       "</style>\n",
       "<table border=\"1\" class=\"dataframe\">\n",
       "  <thead>\n",
       "    <tr style=\"text-align: right;\">\n",
       "      <th></th>\n",
       "      <th>Fare</th>\n",
       "    </tr>\n",
       "    <tr>\n",
       "      <th>ts</th>\n",
       "      <th></th>\n",
       "    </tr>\n",
       "  </thead>\n",
       "  <tbody>\n",
       "    <tr>\n",
       "      <th>2019-06-08 13:20:00</th>\n",
       "      <td>8.5167</td>\n",
       "    </tr>\n",
       "    <tr>\n",
       "      <th>2019-06-08 13:20:01</th>\n",
       "      <td>14.5000</td>\n",
       "    </tr>\n",
       "    <tr>\n",
       "      <th>2019-06-08 13:20:02</th>\n",
       "      <td>19.2583</td>\n",
       "    </tr>\n",
       "    <tr>\n",
       "      <th>2019-06-08 13:20:03</th>\n",
       "      <td>19.2583</td>\n",
       "    </tr>\n",
       "    <tr>\n",
       "      <th>2019-06-08 13:20:04</th>\n",
       "      <td>29.0000</td>\n",
       "    </tr>\n",
       "    <tr>\n",
       "      <th>2019-06-08 13:20:05</th>\n",
       "      <td>18.7500</td>\n",
       "    </tr>\n",
       "    <tr>\n",
       "      <th>2019-06-08 13:20:06</th>\n",
       "      <td>151.5500</td>\n",
       "    </tr>\n",
       "    <tr>\n",
       "      <th>2019-06-08 13:20:07</th>\n",
       "      <td>37.0042</td>\n",
       "    </tr>\n",
       "    <tr>\n",
       "      <th>2019-06-08 13:20:08</th>\n",
       "      <td>15.7417</td>\n",
       "    </tr>\n",
       "    <tr>\n",
       "      <th>2019-06-08 13:20:09</th>\n",
       "      <td>39.6875</td>\n",
       "    </tr>\n",
       "  </tbody>\n",
       "</table>\n",
       "</div>"
      ],
      "text/plain": [
       "                         Fare\n",
       "ts                           \n",
       "2019-06-08 13:20:00    8.5167\n",
       "2019-06-08 13:20:01   14.5000\n",
       "2019-06-08 13:20:02   19.2583\n",
       "2019-06-08 13:20:03   19.2583\n",
       "2019-06-08 13:20:04   29.0000\n",
       "2019-06-08 13:20:05   18.7500\n",
       "2019-06-08 13:20:06  151.5500\n",
       "2019-06-08 13:20:07   37.0042\n",
       "2019-06-08 13:20:08   15.7417\n",
       "2019-06-08 13:20:09   39.6875"
      ]
     },
     "execution_count": 95,
     "metadata": {},
     "output_type": "execute_result"
    }
   ],
   "source": [
    "tdf.sort_index(inplace=True)\n",
    "tdf.head(10)[[\"Fare\"]]"
   ]
  },
  {
   "cell_type": "code",
   "execution_count": 96,
   "metadata": {
    "pycharm": {
     "name": "#%%\n"
    }
   },
   "outputs": [
    {
     "data": {
      "text/html": [
       "<div>\n",
       "<style scoped>\n",
       "    .dataframe tbody tr th:only-of-type {\n",
       "        vertical-align: middle;\n",
       "    }\n",
       "\n",
       "    .dataframe tbody tr th {\n",
       "        vertical-align: top;\n",
       "    }\n",
       "\n",
       "    .dataframe thead th {\n",
       "        text-align: right;\n",
       "    }\n",
       "</style>\n",
       "<table border=\"1\" class=\"dataframe\">\n",
       "  <thead>\n",
       "    <tr style=\"text-align: right;\">\n",
       "      <th></th>\n",
       "      <th>Fare</th>\n",
       "    </tr>\n",
       "    <tr>\n",
       "      <th>ts</th>\n",
       "      <th></th>\n",
       "    </tr>\n",
       "  </thead>\n",
       "  <tbody>\n",
       "    <tr>\n",
       "      <th>2019-06-08 13:20:00</th>\n",
       "      <td>NaN</td>\n",
       "    </tr>\n",
       "    <tr>\n",
       "      <th>2019-06-08 13:20:01</th>\n",
       "      <td>NaN</td>\n",
       "    </tr>\n",
       "    <tr>\n",
       "      <th>2019-06-08 13:20:02</th>\n",
       "      <td>NaN</td>\n",
       "    </tr>\n",
       "    <tr>\n",
       "      <th>2019-06-08 13:20:03</th>\n",
       "      <td>NaN</td>\n",
       "    </tr>\n",
       "    <tr>\n",
       "      <th>2019-06-08 13:20:04</th>\n",
       "      <td>18.10666</td>\n",
       "    </tr>\n",
       "    <tr>\n",
       "      <th>2019-06-08 13:20:05</th>\n",
       "      <td>20.15332</td>\n",
       "    </tr>\n",
       "    <tr>\n",
       "      <th>2019-06-08 13:20:06</th>\n",
       "      <td>47.56332</td>\n",
       "    </tr>\n",
       "    <tr>\n",
       "      <th>2019-06-08 13:20:07</th>\n",
       "      <td>51.11250</td>\n",
       "    </tr>\n",
       "    <tr>\n",
       "      <th>2019-06-08 13:20:08</th>\n",
       "      <td>50.40918</td>\n",
       "    </tr>\n",
       "    <tr>\n",
       "      <th>2019-06-08 13:20:09</th>\n",
       "      <td>52.54668</td>\n",
       "    </tr>\n",
       "    <tr>\n",
       "      <th>2019-06-08 13:20:10</th>\n",
       "      <td>56.59668</td>\n",
       "    </tr>\n",
       "    <tr>\n",
       "      <th>2019-06-08 13:20:11</th>\n",
       "      <td>35.66668</td>\n",
       "    </tr>\n",
       "    <tr>\n",
       "      <th>2019-06-08 13:20:12</th>\n",
       "      <td>30.49250</td>\n",
       "    </tr>\n",
       "    <tr>\n",
       "      <th>2019-06-08 13:20:13</th>\n",
       "      <td>31.45916</td>\n",
       "    </tr>\n",
       "    <tr>\n",
       "      <th>2019-06-08 13:20:14</th>\n",
       "      <td>29.10166</td>\n",
       "    </tr>\n",
       "    <tr>\n",
       "      <th>2019-06-08 13:20:15</th>\n",
       "      <td>25.51666</td>\n",
       "    </tr>\n",
       "    <tr>\n",
       "      <th>2019-06-08 13:20:16</th>\n",
       "      <td>21.33666</td>\n",
       "    </tr>\n",
       "    <tr>\n",
       "      <th>2019-06-08 13:20:17</th>\n",
       "      <td>49.42000</td>\n",
       "    </tr>\n",
       "    <tr>\n",
       "      <th>2019-06-08 13:20:18</th>\n",
       "      <td>53.24250</td>\n",
       "    </tr>\n",
       "    <tr>\n",
       "      <th>2019-06-08 13:20:19</th>\n",
       "      <td>49.75500</td>\n",
       "    </tr>\n",
       "  </tbody>\n",
       "</table>\n",
       "</div>"
      ],
      "text/plain": [
       "                         Fare\n",
       "ts                           \n",
       "2019-06-08 13:20:00       NaN\n",
       "2019-06-08 13:20:01       NaN\n",
       "2019-06-08 13:20:02       NaN\n",
       "2019-06-08 13:20:03       NaN\n",
       "2019-06-08 13:20:04  18.10666\n",
       "2019-06-08 13:20:05  20.15332\n",
       "2019-06-08 13:20:06  47.56332\n",
       "2019-06-08 13:20:07  51.11250\n",
       "2019-06-08 13:20:08  50.40918\n",
       "2019-06-08 13:20:09  52.54668\n",
       "2019-06-08 13:20:10  56.59668\n",
       "2019-06-08 13:20:11  35.66668\n",
       "2019-06-08 13:20:12  30.49250\n",
       "2019-06-08 13:20:13  31.45916\n",
       "2019-06-08 13:20:14  29.10166\n",
       "2019-06-08 13:20:15  25.51666\n",
       "2019-06-08 13:20:16  21.33666\n",
       "2019-06-08 13:20:17  49.42000\n",
       "2019-06-08 13:20:18  53.24250\n",
       "2019-06-08 13:20:19  49.75500"
      ]
     },
     "execution_count": 96,
     "metadata": {},
     "output_type": "execute_result"
    }
   ],
   "source": [
    "tdf[[\"Fare\"]].rolling(window=5).mean().head(20)"
   ]
  },
  {
   "cell_type": "markdown",
   "metadata": {
    "pycharm": {
     "name": "#%% md\n"
    }
   },
   "source": [
    "Удобно делать вместе с groupby"
   ]
  },
  {
   "cell_type": "code",
   "execution_count": 175,
   "metadata": {
    "pycharm": {
     "name": "#%%\n"
    }
   },
   "outputs": [],
   "source": [
    "rol = tdf[[\"Sex\", \"Fare\"]].groupby([\"Sex\"]).rolling(window=5).mean()"
   ]
  },
  {
   "cell_type": "code",
   "execution_count": 178,
   "metadata": {
    "pycharm": {
     "name": "#%%\n"
    }
   },
   "outputs": [
    {
     "data": {
      "text/html": [
       "<div>\n",
       "<style scoped>\n",
       "    .dataframe tbody tr th:only-of-type {\n",
       "        vertical-align: middle;\n",
       "    }\n",
       "\n",
       "    .dataframe tbody tr th {\n",
       "        vertical-align: top;\n",
       "    }\n",
       "\n",
       "    .dataframe thead th {\n",
       "        text-align: right;\n",
       "    }\n",
       "</style>\n",
       "<table border=\"1\" class=\"dataframe\">\n",
       "  <thead>\n",
       "    <tr style=\"text-align: right;\">\n",
       "      <th></th>\n",
       "      <th></th>\n",
       "      <th>Sex</th>\n",
       "      <th>Fare</th>\n",
       "    </tr>\n",
       "    <tr>\n",
       "      <th>Sex</th>\n",
       "      <th>ts</th>\n",
       "      <th></th>\n",
       "      <th></th>\n",
       "    </tr>\n",
       "  </thead>\n",
       "  <tbody>\n",
       "    <tr>\n",
       "      <th rowspan=\"10\" valign=\"top\">female</th>\n",
       "      <th>2019-06-08 13:20:01</th>\n",
       "      <td>female</td>\n",
       "      <td>NaN</td>\n",
       "    </tr>\n",
       "    <tr>\n",
       "      <th>2019-06-08 13:20:04</th>\n",
       "      <td>female</td>\n",
       "      <td>NaN</td>\n",
       "    </tr>\n",
       "    <tr>\n",
       "      <th>2019-06-08 13:20:06</th>\n",
       "      <td>female</td>\n",
       "      <td>NaN</td>\n",
       "    </tr>\n",
       "    <tr>\n",
       "      <th>2019-06-08 13:20:07</th>\n",
       "      <td>female</td>\n",
       "      <td>NaN</td>\n",
       "    </tr>\n",
       "    <tr>\n",
       "      <th>2019-06-08 13:20:09</th>\n",
       "      <td>female</td>\n",
       "      <td>27.67584</td>\n",
       "    </tr>\n",
       "    <tr>\n",
       "      <th>2019-06-08 13:20:10</th>\n",
       "      <td>female</td>\n",
       "      <td>28.29584</td>\n",
       "    </tr>\n",
       "    <tr>\n",
       "      <th>2019-06-08 13:20:13</th>\n",
       "      <td>female</td>\n",
       "      <td>25.99416</td>\n",
       "    </tr>\n",
       "    <tr>\n",
       "      <th>2019-06-08 13:20:14</th>\n",
       "      <td>female</td>\n",
       "      <td>24.22500</td>\n",
       "    </tr>\n",
       "    <tr>\n",
       "      <th>2019-06-08 13:20:15</th>\n",
       "      <td>female</td>\n",
       "      <td>20.92334</td>\n",
       "    </tr>\n",
       "    <tr>\n",
       "      <th>2019-06-08 13:20:16</th>\n",
       "      <td>female</td>\n",
       "      <td>19.59918</td>\n",
       "    </tr>\n",
       "  </tbody>\n",
       "</table>\n",
       "</div>"
      ],
      "text/plain": [
       "                               Sex      Fare\n",
       "Sex    ts                                   \n",
       "female 2019-06-08 13:20:01  female       NaN\n",
       "       2019-06-08 13:20:04  female       NaN\n",
       "       2019-06-08 13:20:06  female       NaN\n",
       "       2019-06-08 13:20:07  female       NaN\n",
       "       2019-06-08 13:20:09  female  27.67584\n",
       "       2019-06-08 13:20:10  female  28.29584\n",
       "       2019-06-08 13:20:13  female  25.99416\n",
       "       2019-06-08 13:20:14  female  24.22500\n",
       "       2019-06-08 13:20:15  female  20.92334\n",
       "       2019-06-08 13:20:16  female  19.59918"
      ]
     },
     "execution_count": 178,
     "metadata": {},
     "output_type": "execute_result"
    }
   ],
   "source": [
    "rol.head(10)"
   ]
  },
  {
   "cell_type": "code",
   "execution_count": 181,
   "metadata": {
    "pycharm": {
     "name": "#%%\n"
    }
   },
   "outputs": [
    {
     "data": {
      "text/html": [
       "<div>\n",
       "<style scoped>\n",
       "    .dataframe tbody tr th:only-of-type {\n",
       "        vertical-align: middle;\n",
       "    }\n",
       "\n",
       "    .dataframe tbody tr th {\n",
       "        vertical-align: top;\n",
       "    }\n",
       "\n",
       "    .dataframe thead th {\n",
       "        text-align: right;\n",
       "    }\n",
       "</style>\n",
       "<table border=\"1\" class=\"dataframe\">\n",
       "  <thead>\n",
       "    <tr style=\"text-align: right;\">\n",
       "      <th></th>\n",
       "      <th></th>\n",
       "      <th>Sex</th>\n",
       "      <th>Fare</th>\n",
       "    </tr>\n",
       "    <tr>\n",
       "      <th>Sex</th>\n",
       "      <th>ts</th>\n",
       "      <th></th>\n",
       "      <th></th>\n",
       "    </tr>\n",
       "  </thead>\n",
       "  <tbody>\n",
       "    <tr>\n",
       "      <th rowspan=\"10\" valign=\"top\">male</th>\n",
       "      <th>2019-06-08 13:20:00</th>\n",
       "      <td>male</td>\n",
       "      <td>NaN</td>\n",
       "    </tr>\n",
       "    <tr>\n",
       "      <th>2019-06-08 13:20:02</th>\n",
       "      <td>male</td>\n",
       "      <td>NaN</td>\n",
       "    </tr>\n",
       "    <tr>\n",
       "      <th>2019-06-08 13:20:03</th>\n",
       "      <td>male</td>\n",
       "      <td>NaN</td>\n",
       "    </tr>\n",
       "    <tr>\n",
       "      <th>2019-06-08 13:20:05</th>\n",
       "      <td>male</td>\n",
       "      <td>NaN</td>\n",
       "    </tr>\n",
       "    <tr>\n",
       "      <th>2019-06-08 13:20:08</th>\n",
       "      <td>male</td>\n",
       "      <td>29.35750</td>\n",
       "    </tr>\n",
       "    <tr>\n",
       "      <th>2019-06-08 13:20:11</th>\n",
       "      <td>male</td>\n",
       "      <td>32.93750</td>\n",
       "    </tr>\n",
       "    <tr>\n",
       "      <th>2019-06-08 13:20:12</th>\n",
       "      <td>male</td>\n",
       "      <td>30.97084</td>\n",
       "    </tr>\n",
       "    <tr>\n",
       "      <th>2019-06-08 13:20:18</th>\n",
       "      <td>male</td>\n",
       "      <td>26.98918</td>\n",
       "    </tr>\n",
       "    <tr>\n",
       "      <th>2019-06-08 13:20:19</th>\n",
       "      <td>male</td>\n",
       "      <td>28.28418</td>\n",
       "    </tr>\n",
       "    <tr>\n",
       "      <th>2019-06-08 13:20:25</th>\n",
       "      <td>male</td>\n",
       "      <td>22.64668</td>\n",
       "    </tr>\n",
       "  </tbody>\n",
       "</table>\n",
       "</div>"
      ],
      "text/plain": [
       "                           Sex      Fare\n",
       "Sex  ts                                 \n",
       "male 2019-06-08 13:20:00  male       NaN\n",
       "     2019-06-08 13:20:02  male       NaN\n",
       "     2019-06-08 13:20:03  male       NaN\n",
       "     2019-06-08 13:20:05  male       NaN\n",
       "     2019-06-08 13:20:08  male  29.35750\n",
       "     2019-06-08 13:20:11  male  32.93750\n",
       "     2019-06-08 13:20:12  male  30.97084\n",
       "     2019-06-08 13:20:18  male  26.98918\n",
       "     2019-06-08 13:20:19  male  28.28418\n",
       "     2019-06-08 13:20:25  male  22.64668"
      ]
     },
     "execution_count": 181,
     "metadata": {},
     "output_type": "execute_result"
    }
   ],
   "source": [
    "rol[rol[\"Sex\"] == \"male\"].head(10)"
   ]
  },
  {
   "cell_type": "markdown",
   "metadata": {
    "pycharm": {
     "name": "#%% md\n"
    },
    "slideshow": {
     "slide_type": "slide"
    }
   },
   "source": [
    "### Работа со строками"
   ]
  },
  {
   "cell_type": "code",
   "execution_count": 97,
   "metadata": {
    "pycharm": {
     "name": "#%%\n"
    }
   },
   "outputs": [
    {
     "data": {
      "text/plain": [
       "803     assad alexander\n",
       "755               viljo\n",
       "644             eugenie\n",
       "469      helene barbara\n",
       "78          alden gates\n",
       "831       george sibley\n",
       "305       hudson trevor\n",
       "827               andre\n",
       "381      maria (\"mary\")\n",
       "164        eino viljami\n",
       "Name: Name, dtype: object"
      ]
     },
     "execution_count": 97,
     "metadata": {},
     "output_type": "execute_result"
    }
   ],
   "source": [
    "df[\"Name\"].str.lower()\\\n",
    "          .str.replace(\",\", \" \")\\\n",
    "          .str.split(\".\").str[1]\\\n",
    "          .head(10)"
   ]
  },
  {
   "cell_type": "markdown",
   "metadata": {
    "pycharm": {
     "name": "#%% md\n"
    },
    "slideshow": {
     "slide_type": "slide"
    }
   },
   "source": [
    "### Работа с NaN'ами"
   ]
  },
  {
   "cell_type": "code",
   "execution_count": 212,
   "metadata": {
    "pycharm": {
     "name": "#%%\n"
    }
   },
   "outputs": [
    {
     "data": {
      "text/plain": [
       "78     NaN\n",
       "119    NaN\n",
       "7      NaN\n",
       "16     NaN\n",
       "43     NaN\n",
       "63     NaN\n",
       "10      G6\n",
       "58     NaN\n",
       "50     NaN\n",
       "24     NaN\n",
       "147    NaN\n",
       "59     NaN\n",
       "125    NaN\n",
       "9      NaN\n",
       "14     NaN\n",
       "Name: Cabin, dtype: object"
      ]
     },
     "execution_count": 212,
     "metadata": {},
     "output_type": "execute_result"
    }
   ],
   "source": [
    "df[\"Cabin\"].head(15)"
   ]
  },
  {
   "cell_type": "code",
   "execution_count": 213,
   "metadata": {
    "pycharm": {
     "name": "#%%\n"
    }
   },
   "outputs": [
    {
     "data": {
      "text/plain": [
       "10              G6\n",
       "27     C23 C25 C27\n",
       "136            D47\n",
       "102            D26\n",
       "151             C2\n",
       "88     C23 C25 C27\n",
       "97         D10 D12\n",
       "118        B58 B60\n",
       "139            B86\n",
       "75           F G73\n",
       "23              A6\n",
       "66             F33\n",
       "123           E101\n",
       "21             D56\n",
       "3             C123\n",
       "Name: Cabin, dtype: object"
      ]
     },
     "execution_count": 213,
     "metadata": {},
     "output_type": "execute_result"
    }
   ],
   "source": [
    "df[\"Cabin\"].dropna().head(15)"
   ]
  },
  {
   "cell_type": "code",
   "execution_count": 215,
   "metadata": {
    "pycharm": {
     "name": "#%%\n"
    }
   },
   "outputs": [
    {
     "data": {
      "text/plain": [
       "78     3\n",
       "119    3\n",
       "7      3\n",
       "16     3\n",
       "43     3\n",
       "Name: Cabin, dtype: object"
      ]
     },
     "execution_count": 215,
     "metadata": {},
     "output_type": "execute_result"
    }
   ],
   "source": [
    "df[\"Cabin\"].fillna(3).head(5)"
   ]
  },
  {
   "cell_type": "code",
   "execution_count": 216,
   "metadata": {
    "pycharm": {
     "name": "#%%\n"
    }
   },
   "outputs": [
    {
     "data": {
      "text/plain": [
       "78              G6\n",
       "119             G6\n",
       "7               G6\n",
       "16              G6\n",
       "43              G6\n",
       "63              G6\n",
       "10              G6\n",
       "58     C23 C25 C27\n",
       "50     C23 C25 C27\n",
       "24     C23 C25 C27\n",
       "147    C23 C25 C27\n",
       "59     C23 C25 C27\n",
       "125    C23 C25 C27\n",
       "9      C23 C25 C27\n",
       "14     C23 C25 C27\n",
       "Name: Cabin, dtype: object"
      ]
     },
     "execution_count": 216,
     "metadata": {},
     "output_type": "execute_result"
    }
   ],
   "source": [
    "df[\"Cabin\"].fillna(method=\"bfill\").head(15)"
   ]
  },
  {
   "cell_type": "code",
   "execution_count": 218,
   "metadata": {
    "pycharm": {
     "name": "#%%\n"
    }
   },
   "outputs": [
    {
     "data": {
      "text/plain": [
       "78      True\n",
       "119     True\n",
       "7       True\n",
       "16      True\n",
       "43      True\n",
       "63      True\n",
       "10     False\n",
       "58      True\n",
       "50      True\n",
       "24      True\n",
       "Name: Cabin, dtype: bool"
      ]
     },
     "execution_count": 218,
     "metadata": {},
     "output_type": "execute_result"
    }
   ],
   "source": [
    "pd.isna(df[\"Cabin\"]).head(10)"
   ]
  },
  {
   "cell_type": "markdown",
   "metadata": {
    "pycharm": {
     "name": "#%% md\n"
    },
    "slideshow": {
     "slide_type": "slide"
    }
   },
   "source": [
    "### Визуализация"
   ]
  },
  {
   "cell_type": "code",
   "execution_count": 100,
   "metadata": {
    "pycharm": {
     "name": "#%%\n"
    }
   },
   "outputs": [
    {
     "data": {
      "text/plain": [
       "<AxesSubplot: xlabel='ts'>"
      ]
     },
     "execution_count": 100,
     "metadata": {},
     "output_type": "execute_result"
    },
    {
     "data": {
      "image/png": "[encoded data removed]",
      "text/plain": [
       "<Figure size 640x480 with 1 Axes>"
      ]
     },
     "metadata": {},
     "output_type": "display_data"
    }
   ],
   "source": [
    "%matplotlib inline\n",
    "\n",
    "tdf[\"Fare\"].plot()"
   ]
  },
  {
   "cell_type": "code",
   "execution_count": 105,
   "metadata": {
    "pycharm": {
     "name": "#%%\n"
    }
   },
   "outputs": [
    {
     "data": {
      "text/plain": [
       "<AxesSubplot: xlabel='ts'>"
      ]
     },
     "execution_count": 105,
     "metadata": {},
     "output_type": "execute_result"
    },
    {
     "data": {
      "image/png": "[encoded data removed]",
      "text/plain": [
       "<Figure size 640x480 with 1 Axes>"
      ]
     },
     "metadata": {},
     "output_type": "display_data"
    }
   ],
   "source": [
    "tdf[\"Fare\"].resample(\"10s\").mean().plot()"
   ]
  },
  {
   "cell_type": "code",
   "execution_count": 227,
   "metadata": {
    "pycharm": {
     "name": "#%%\n"
    }
   },
   "outputs": [
    {
     "data": {
      "text/plain": [
       "<matplotlib.axes._subplots.AxesSubplot at 0x11ac843d0>"
      ]
     },
     "execution_count": 227,
     "metadata": {},
     "output_type": "execute_result"
    },
    {
     "data": {
      "image/png": "[encoded data removed]",
      "text/plain": [
       "<matplotlib.figure.Figure at 0x117f11f90>"
      ]
     },
     "metadata": {},
     "output_type": "display_data"
    }
   ],
   "source": [
    "tdf[\"Sex\"].hist()"
   ]
  },
  {
   "cell_type": "code",
   "execution_count": null,
   "metadata": {
    "pycharm": {
     "name": "#%%\n"
    }
   },
   "outputs": [],
   "source": []
  }
 ],
 "metadata": {
  "celltoolbar": "Slideshow",
  "kernelspec": {
   "display_name": "Python 3 (ipykernel)",
   "language": "python",
   "name": "python3"
  },
  "language_info": {
   "codemirror_mode": {
    "name": "ipython",
    "version": 3
   },
   "file_extension": ".py",
   "mimetype": "text/x-python",
   "name": "python",
   "nbconvert_exporter": "python",
   "pygments_lexer": "ipython3",
   "version": "3.10.9"
  },
  "rise": {
   "enable_chalkboard": true,
   "footer": "<p style=\"margin: 5px; color: #a0a0a0\">YSDA Python Course</p>",
   "scroll": true,
   "start_slideshow_at": "selected",
   "theme": "serif"
  }
 },
 "nbformat": 4,
 "nbformat_minor": 2
}
