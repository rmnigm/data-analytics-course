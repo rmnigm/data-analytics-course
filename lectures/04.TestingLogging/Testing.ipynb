{
 "cells": [
  {
   "cell_type": "markdown",
   "metadata": {
    "pycharm": {
     "name": "#%% md\n"
    }
   },
   "source": [
    "<center>\n",
    "    <img src=\"https://upload.wikimedia.org/wikipedia/commons/a/a8/%D0%9B%D0%9E%D0%93%D0%9E_%D0%A8%D0%90%D0%94.png\" width=500px/>\n",
    "    <font>Python 2020</font><br/>\n",
    "    <br/>\n",
    "    <br/>\n",
    "    <b style=\"font-size: 2em\">Тестирование</b><br/>\n",
    "    <br/>\n",
    "    <font>Никита Путинцев</font><br/>\n",
    "</center>"
   ]
  },
  {
   "cell_type": "markdown",
   "metadata": {
    "pycharm": {
     "name": "#%% md\n"
    }
   },
   "source": [
    "# Тестирование и python\n",
    "\n",
    "В этой лекции мы познакомимся тестированием на `python` реализовав небольшую кату по TDD (test-driven developement)\n",
    "\n",
    "## 1. TDD и каты.\n",
    "\n",
    "TDD - test-driven developement или разработка через тестирование. Достигается соблюдением трех правил.\n",
    "\n",
    "**Три правила TDD**:\n",
    "\n",
    " - Продакшн-код можно писать только для починки падающего теста\n",
    " - В тесте нужно писать ровно столько кода, сколько необходимо чтобы он упал. Ошибки компиляции считаются падениями теста.\n",
    " - В прод можно написать ровно столько кода, сколько требуется для починки дного падающего теста.\n",
    "\n",
    "\n",
    "Получается следйющий пайплайн - пишем падающий тест, пишем код чтобы тест не падал, рефакторим код так, чтобы тесты не падали. Повторяем до сходимости.\n",
    "\n",
    "Есть пара книжек по теме:\n",
    "\n",
    "1. [Test Driven Development: By Example 1st Edition](https://www.eecs.yorku.ca/course_archive/2003-04/W/3311/sectionM/case_studies/money/KentBeck_TDD_byexample.pdf)\n",
    "2. [On Growing Object Oriented Software, Guided by Tests](https://www.amazon.com/Growing-Object-Oriented-Software-Guided-Tests/dp/0321503627)\n",
    "\n",
    "К прочтению рекомендуется вторая, т.к. она более приближена к разработческим реалиям.\n",
    "\n",
    "### Каты\n",
    "\n",
    "![kata.png](attachment:kata.png)\n",
    "\n",
    "Каты - упражнения по программированию, помогающие отточить навыки путем многократного повторнеия. Концепция взята из японских боевых искусств. Подробнее про них можно почитать в книжке [The Pragmatic Programmer](https://pragprog.com/titles/tpp20/the-pragmatic-programmer-20th-anniversary-edition/)\n",
    "\n",
    "\n",
    "\n",
    "**Ката Greeter**\n",
    "\n",
    "Данную кату надо выполнять строго по пунктам, не заглядывая вперед:\n",
    "\n",
    "- Создайте класс `Greeter`, у которого есть метод `greet` принимающий на вход имя и возвращающий \"Hello <имя>\".\n",
    "- Метод `greet` должен убирать лишние пробелы - в начале и в конце имени\n",
    "- Метод `greet` должен возвращать ошибку если имя - пустая строка (или строка с пробелами)\n",
    "- Метод `greet` возвращает \"Good evening <имя>\" если текущее время - 18:00-22:00"
   ]
  },
  {
   "cell_type": "markdown",
   "metadata": {
    "pycharm": {
     "name": "#%% md\n"
    }
   },
   "source": [
    "## 2. Первый тест\n",
    "\n",
    "Для автоматизированного тестирования написано много фреймворков на разных языках. Короткий список для python:\n",
    "\n",
    "* [unittest](https://docs.python.org/3/library/unittest.html)\n",
    "* [nose2](https://docs.nose2.io/en/latest/)\n",
    "* [pytest](https://docs.pytest.org/en/latest/)\n",
    "\n",
    "В рамках лекции мы остановимся на `pytest`."
   ]
  },
  {
   "cell_type": "code",
   "execution_count": 1,
   "metadata": {
    "pycharm": {
     "name": "#%%\n"
    }
   },
   "outputs": [],
   "source": [
    "# Настраиваем ноутбук\n",
    "import pytest\n",
    "import ipytest\n",
    "ipytest.config(rewrite_asserts=True, magics=True)\n",
    "__file__ = \"Testing.ipynb\""
   ]
  },
  {
   "cell_type": "markdown",
   "metadata": {
    "pycharm": {
     "name": "#%% md\n"
    }
   },
   "source": [
    "#### Как pytest находит тесты:\n",
    "\n",
    "1. Рекурсивно находит все python-файлы в текущей директории\n",
    "2. Оставляет только файлы вида `test_*.py` и `*_test.py`\n",
    "3. В этих файлах\n",
    "  1. Находит все функции с префиксом `test`\n",
    "  2. Находит все методв с префиксом `test` внутри классов с префиксом `Test`. У классов не должно быть метода `__init__`\n",
    "  \n",
    "Поведение можно модифицировать. [Подробнее в документации](https://docs.pytest.org/en/stable/goodpractices.html#test-discovery)\n",
    "\n",
    "Напишем минимальный тест "
   ]
  },
  {
   "cell_type": "code",
   "execution_count": 2,
   "metadata": {
    "pycharm": {
     "name": "#%%\n"
    }
   },
   "outputs": [
    {
     "name": "stdout",
     "output_type": "stream",
     "text": [
      "F                                                                                                                                                                                                           [100%]\n",
      "==================================================================================================== FAILURES =====================================================================================================\n",
      "__________________________________________________________________________________________________ test_greeter ___________________________________________________________________________________________________\n",
      "\n",
      "    def test_greeter():\n",
      ">       Greeter()\n",
      "E       NameError: name 'Greeter' is not defined\n",
      "\n",
      "<ipython-input-2-f0bf3d5080f2>:2: NameError\n",
      "============================================================================================= short test summary info =============================================================================================\n",
      "FAILED Testing.py::test_greeter - NameError: name 'Greeter' is not defined\n",
      "1 failed in 0.03s\n"
     ]
    }
   ],
   "source": [
    "%%run_pytest[clean] -q\n",
    "\n",
    "def test_greeter():\n",
    "    Greeter()"
   ]
  },
  {
   "cell_type": "markdown",
   "metadata": {
    "pycharm": {
     "name": "#%% md\n"
    }
   },
   "source": [
    "`pytest` выводит отчет, в котором можно посмотреть сколько у нас всего тестов, какие из них упали и по какой причине. \n",
    "\n",
    "Теперь сделаем так чтобы тест проходил"
   ]
  },
  {
   "cell_type": "code",
   "execution_count": 3,
   "metadata": {
    "pycharm": {
     "name": "#%%\n"
    }
   },
   "outputs": [],
   "source": [
    "class Greeter:\n",
    "    pass"
   ]
  },
  {
   "cell_type": "code",
   "execution_count": 4,
   "metadata": {
    "pycharm": {
     "name": "#%%\n"
    }
   },
   "outputs": [
    {
     "name": "stdout",
     "output_type": "stream",
     "text": [
      ".                                                                                                                                                                                                           [100%]\n",
      "1 passed in 0.00s\n"
     ]
    }
   ],
   "source": [
    "%%run_pytest[clean] -q\n",
    "\n",
    "def test_greeter():\n",
    "    Greeter()"
   ]
  },
  {
   "cell_type": "markdown",
   "metadata": {
    "pycharm": {
     "name": "#%% md\n"
    }
   },
   "source": [
    "Еще одна итерация tdd"
   ]
  },
  {
   "cell_type": "code",
   "execution_count": 5,
   "metadata": {
    "pycharm": {
     "name": "#%%\n"
    }
   },
   "outputs": [
    {
     "name": "stdout",
     "output_type": "stream",
     "text": [
      "F                                                                                                                                                                                                           [100%]\n",
      "==================================================================================================== FAILURES =====================================================================================================\n",
      "__________________________________________________________________________________________________ test_greeter ___________________________________________________________________________________________________\n",
      "\n",
      "    def test_greeter():\n",
      ">       Greeter().greet(\"Mike\")\n",
      "E       AttributeError: 'Greeter' object has no attribute 'greet'\n",
      "\n",
      "<ipython-input-5-86bee5d034fc>:2: AttributeError\n",
      "============================================================================================= short test summary info =============================================================================================\n",
      "FAILED Testing.py::test_greeter - AttributeError: 'Greeter' object has no attribute 'greet'\n",
      "1 failed in 0.01s\n"
     ]
    }
   ],
   "source": [
    "%%run_pytest[clean] -q\n",
    "\n",
    "def test_greeter():\n",
    "    Greeter().greet(\"Mike\")"
   ]
  },
  {
   "cell_type": "code",
   "execution_count": 6,
   "metadata": {
    "pycharm": {
     "name": "#%%\n"
    }
   },
   "outputs": [],
   "source": [
    "class Greeter:\n",
    "    def greet(self, name):\n",
    "        return \"\""
   ]
  },
  {
   "cell_type": "code",
   "execution_count": 7,
   "metadata": {
    "pycharm": {
     "name": "#%%\n"
    }
   },
   "outputs": [
    {
     "name": "stdout",
     "output_type": "stream",
     "text": [
      ".                                                                                                                                                                                                           [100%]\n",
      "1 passed in 0.00s\n"
     ]
    }
   ],
   "source": [
    "%%run_pytest[clean] -q\n",
    "\n",
    "def test_greeter():\n",
    "    Greeter().greet(\"Mike\")"
   ]
  },
  {
   "cell_type": "markdown",
   "metadata": {
    "pycharm": {
     "name": "#%% md\n"
    }
   },
   "source": [
    "Теперь наконец-то напишем нормальный тест, воспользовавшись основной фишкой `Pytest` - `assert`. `Pytest` находит все вызовы `assert` в коде тестов, а затем переписывает этот код так, чтобы в случае падения пользователь мог получить удобный дифф и трейсбек.\n",
    "\n",
    "- [Демки разных аасертов](https://docs.pytest.org/en/stable/example/reportingdemo.html#tbreportdemo)\n",
    "- [Цикл статей про то, как это работает](https://www.pythoninsight.com/2018/01/assertion-rewriting-in-pytest-part-1/)"
   ]
  },
  {
   "cell_type": "code",
   "execution_count": 8,
   "metadata": {
    "pycharm": {
     "name": "#%%\n"
    }
   },
   "outputs": [
    {
     "name": "stdout",
     "output_type": "stream",
     "text": [
      "F                                                                                                                                                                                                           [100%]\n",
      "==================================================================================================== FAILURES =====================================================================================================\n",
      "__________________________________________________________________________________________________ test_greeter ___________________________________________________________________________________________________\n",
      "\n",
      "    def test_greeter():\n",
      ">       assert Greeter().greet(\"Mike\") == \"Hello Mike\"\n",
      "E       AssertionError: assert '' == 'Hello Mike'\n",
      "E         - Hello Mike\n",
      "\n",
      "<ipython-input-8-bb8ac158b55d>:2: AssertionError\n",
      "============================================================================================= short test summary info =============================================================================================\n",
      "FAILED Testing.py::test_greeter - AssertionError: assert '' == 'Hello Mike'\n",
      "1 failed in 0.01s\n"
     ]
    }
   ],
   "source": [
    "%%run_pytest[clean] -q\n",
    "\n",
    "def test_greeter():\n",
    "    assert Greeter().greet(\"Mike\") == \"Hello Mike\""
   ]
  },
  {
   "cell_type": "markdown",
   "metadata": {
    "pycharm": {
     "name": "#%% md\n"
    }
   },
   "source": [
    "Починим тест"
   ]
  },
  {
   "cell_type": "code",
   "execution_count": 9,
   "metadata": {
    "pycharm": {
     "name": "#%%\n"
    }
   },
   "outputs": [],
   "source": [
    "class Greeter:\n",
    "    def greet(self, name):\n",
    "        return \"Hello Mike\""
   ]
  },
  {
   "cell_type": "code",
   "execution_count": 10,
   "metadata": {
    "pycharm": {
     "name": "#%%\n"
    }
   },
   "outputs": [
    {
     "name": "stdout",
     "output_type": "stream",
     "text": [
      ".                                                                                                                                                                                                           [100%]\n",
      "1 passed in 0.00s\n"
     ]
    }
   ],
   "source": [
    "%%run_pytest[clean] -q\n",
    "\n",
    "def test_greeter():\n",
    "    assert Greeter().greet(\"Mike\") == \"Hello Mike\""
   ]
  },
  {
   "cell_type": "markdown",
   "metadata": {
    "pycharm": {
     "name": "#%% md\n"
    }
   },
   "source": [
    "## 2. Параметризация"
   ]
  },
  {
   "cell_type": "markdown",
   "metadata": {
    "pycharm": {
     "name": "#%% md\n"
    }
   },
   "source": [
    "Наша реализация представляет собой немного не то что мы хотели. Наверное стоит добавить больше разных тестов.\n",
    "Чтобы не копировать один и тот же тест, можно воспользоваться параметризацией:"
   ]
  },
  {
   "cell_type": "code",
   "execution_count": 11,
   "metadata": {
    "pycharm": {
     "name": "#%%\n"
    }
   },
   "outputs": [
    {
     "name": "stdout",
     "output_type": "stream",
     "text": [
      ".FF                                                                                                                                                                                                         [100%]\n",
      "==================================================================================================== FAILURES =====================================================================================================\n",
      "__________________________________________________________________________________________ test_greeter[John-Hello John] __________________________________________________________________________________________\n",
      "\n",
      "name = 'John', greeting = 'Hello John'\n",
      "\n",
      "    @pytest.mark.parametrize(\"name, greeting\", test_cases)\n",
      "    def test_greeter(name, greeting):\n",
      ">       assert Greeter().greet(name) == greeting\n",
      "E       AssertionError: assert 'Hello Mike' == 'Hello John'\n",
      "E         - Hello John\n",
      "E         + Hello Mike\n",
      "\n",
      "<ipython-input-11-e1e045608403>:5: AssertionError\n",
      "__________________________________________________________________________________________ test_greeter[Greg-Hello Greg] __________________________________________________________________________________________\n",
      "\n",
      "name = 'Greg', greeting = 'Hello Greg'\n",
      "\n",
      "    @pytest.mark.parametrize(\"name, greeting\", test_cases)\n",
      "    def test_greeter(name, greeting):\n",
      ">       assert Greeter().greet(name) == greeting\n",
      "E       AssertionError: assert 'Hello Mike' == 'Hello Greg'\n",
      "E         - Hello Greg\n",
      "E         + Hello Mike\n",
      "\n",
      "<ipython-input-11-e1e045608403>:5: AssertionError\n",
      "============================================================================================= short test summary info =============================================================================================\n",
      "FAILED Testing.py::test_greeter[John-Hello John] - AssertionError: assert 'Hello Mike' == 'Hello John'\n",
      "FAILED Testing.py::test_greeter[Greg-Hello Greg] - AssertionError: assert 'Hello Mike' == 'Hello Greg'\n",
      "2 failed, 1 passed in 0.01s\n"
     ]
    }
   ],
   "source": [
    "%%run_pytest[clean] -q\n",
    "test_cases = [(\"Mike\", \"Hello Mike\"), (\"John\", \"Hello John\"), (\"Greg\", \"Hello Greg\")]\n",
    "\n",
    "@pytest.mark.parametrize(\"name, greeting\", test_cases)\n",
    "def test_greeter(name, greeting):\n",
    "    assert Greeter().greet(name) == greeting"
   ]
  },
  {
   "cell_type": "markdown",
   "metadata": {
    "pycharm": {
     "name": "#%% md\n"
    }
   },
   "source": [
    "Видим отчеты пайтеста во всей красе. Починим тесты:"
   ]
  },
  {
   "cell_type": "code",
   "execution_count": 12,
   "metadata": {
    "pycharm": {
     "name": "#%%\n"
    }
   },
   "outputs": [],
   "source": [
    "class Greeter:\n",
    "    def greet(self, name):\n",
    "        return \"Hello \" + name"
   ]
  },
  {
   "cell_type": "code",
   "execution_count": 13,
   "metadata": {
    "pycharm": {
     "name": "#%%\n"
    }
   },
   "outputs": [
    {
     "name": "stdout",
     "output_type": "stream",
     "text": [
      "...                                                                                                                                                                                                         [100%]\n",
      "3 passed in 0.01s\n"
     ]
    }
   ],
   "source": [
    "%%run_pytest[clean] -q\n",
    "test_cases = [(\"Mike\", \"Hello Mike\"), (\"John\", \"Hello John\"), (\"Greg\", \"Hello Greg\")]\n",
    "\n",
    "@pytest.mark.parametrize(\"name, greeting\", test_cases)\n",
    "def test_greeter(name, greeting):\n",
    "    assert Greeter().greet(name) == greeting"
   ]
  },
  {
   "cell_type": "markdown",
   "metadata": {
    "pycharm": {
     "name": "#%% md\n"
    }
   },
   "source": [
    "Перейдем к следующему пункту нашего задания:\n",
    "\n",
    "- Метод `greet` должен убирать лишние пробелы - в начале и в конце имени\n",
    "\n",
    "Опять же, напишем тест:"
   ]
  },
  {
   "cell_type": "code",
   "execution_count": 14,
   "metadata": {
    "pycharm": {
     "name": "#%%\n"
    }
   },
   "outputs": [
    {
     "name": "stdout",
     "output_type": "stream",
     "text": [
      ".                                                                                                                                                                                                           [100%]\n",
      "1 passed in 0.00s\n"
     ]
    }
   ],
   "source": [
    "%%run_pytest[clean] -q\n",
    "\n",
    "def test_spaces():\n",
    "    greeter = Greeter()\n",
    "    greeting = greeter.greet(\" Mike\")\n",
    "    assert not greeting.startswith(\" \")"
   ]
  },
  {
   "cell_type": "markdown",
   "metadata": {
    "pycharm": {
     "name": "#%% md\n"
    }
   },
   "source": [
    "Обратим внимание что тест проходит и возникает соблазн продолжить работу. Однако если посмотреть на тест внимательно - можно увидеть в нем ошибку.\n",
    "\n",
    "\n",
    "Чтобы не наступать на такие грабли существует **правило** - только что написанный тест должен падать, при чем именно из-за того поведения, которое этот тест должен было покрыть.\n",
    "\n",
    "\n",
    "Вы можете писать тесты на уже существующий код - в таком случае они могут не падать т.к. код уже работает как надо. Тогда есть два варианта:\n",
    "* Сделать в продовом коде баг чтобы тест упал\n",
    "* Обратить проверяемое условие в тесте\n",
    "\n",
    "Поправим наш тест:"
   ]
  },
  {
   "cell_type": "code",
   "execution_count": 15,
   "metadata": {
    "pycharm": {
     "name": "#%%\n"
    }
   },
   "outputs": [
    {
     "name": "stdout",
     "output_type": "stream",
     "text": [
      "F                                                                                                                                                                                                           [100%]\n",
      "==================================================================================================== FAILURES =====================================================================================================\n",
      "___________________________________________________________________________________________________ test_spaces ___________________________________________________________________________________________________\n",
      "\n",
      "    def test_spaces():\n",
      "        greeter = Greeter()\n",
      "        greeted_name = greeter.greet(\" Mike\").split(\" \", 1)[1]\n",
      "    \n",
      ">       assert not greeted_name.startswith(\" \")\n",
      "E       AssertionError: assert not True\n",
      "E        +  where True = <built-in method startswith of str object at 0x7f6f2e967470>(' ')\n",
      "E        +    where <built-in method startswith of str object at 0x7f6f2e967470> = ' Mike'.startswith\n",
      "\n",
      "<ipython-input-15-952847da0f49>:5: AssertionError\n",
      "============================================================================================= short test summary info =============================================================================================\n",
      "FAILED Testing.py::test_spaces - AssertionError: assert not True\n",
      "1 failed in 0.01s\n"
     ]
    }
   ],
   "source": [
    "%%run_pytest[clean] -q\n",
    "\n",
    "def test_spaces():\n",
    "    greeter = Greeter()\n",
    "    greeted_name = greeter.greet(\" Mike\").split(\" \", 1)[1]\n",
    "    \n",
    "    assert not greeted_name.startswith(\" \")"
   ]
  },
  {
   "cell_type": "markdown",
   "metadata": {
    "pycharm": {
     "name": "#%% md\n"
    }
   },
   "source": [
    "Починим тест"
   ]
  },
  {
   "cell_type": "code",
   "execution_count": 16,
   "metadata": {
    "pycharm": {
     "name": "#%%\n"
    }
   },
   "outputs": [],
   "source": [
    "class Greeter:\n",
    "    def greet(self, name):\n",
    "        if name.startswith(\" \"):\n",
    "            name = name[1:] \n",
    "        return \"Hello \" + name"
   ]
  },
  {
   "cell_type": "code",
   "execution_count": 17,
   "metadata": {
    "pycharm": {
     "name": "#%%\n"
    }
   },
   "outputs": [
    {
     "name": "stdout",
     "output_type": "stream",
     "text": [
      ".                                                                                                                                                                                                           [100%]\n",
      "1 passed in 0.00s\n"
     ]
    }
   ],
   "source": [
    "%%run_pytest[clean] -q\n",
    "\n",
    "def test_spaces():\n",
    "    greeter = Greeter()\n",
    "    greeted_name = greeter.greet(\" Mike\").split(\" \", 1)[1]\n",
    "    \n",
    "    assert not greeted_name.startswith(\" \")"
   ]
  },
  {
   "cell_type": "markdown",
   "metadata": {
    "pycharm": {
     "name": "#%% md\n"
    }
   },
   "source": [
    "Перечитаем наше задание:\n",
    "* Метод greet должен убирать лишние пробелы - в начале и **в конце имени**\n",
    "\n",
    "Видимо нам нужно расширить тест:"
   ]
  },
  {
   "cell_type": "code",
   "execution_count": 18,
   "metadata": {
    "pycharm": {
     "name": "#%%\n"
    }
   },
   "outputs": [
    {
     "name": "stdout",
     "output_type": "stream",
     "text": [
      "F                                                                                                                                                                                                           [100%]\n",
      "==================================================================================================== FAILURES =====================================================================================================\n",
      "___________________________________________________________________________________________________ test_spaces ___________________________________________________________________________________________________\n",
      "\n",
      "    def test_spaces():\n",
      "        greeter = Greeter()\n",
      "        greeted_name = greeter.greet(\" Mike \").split(\" \", 1)[1]\n",
      "    \n",
      ">       assert not greeted_name.startswith(\" \") and not greeted_name.endswith(\" \")\n",
      "E       AssertionError: assert (not False and not True)\n",
      "E        +  where False = <built-in method startswith of str object at 0x7f6f2e8fd230>(' ')\n",
      "E        +    where <built-in method startswith of str object at 0x7f6f2e8fd230> = 'Mike '.startswith\n",
      "E        +  and   True = <built-in method endswith of str object at 0x7f6f2e8fd230>(' ')\n",
      "E        +    where <built-in method endswith of str object at 0x7f6f2e8fd230> = 'Mike '.endswith\n",
      "\n",
      "<ipython-input-18-0b745d107b33>:5: AssertionError\n",
      "============================================================================================= short test summary info =============================================================================================\n",
      "FAILED Testing.py::test_spaces - AssertionError: assert (not False and not True)\n",
      "1 failed in 0.01s\n"
     ]
    }
   ],
   "source": [
    "%%run_pytest[clean] -q\n",
    "\n",
    "def test_spaces():\n",
    "    greeter = Greeter()\n",
    "    greeted_name = greeter.greet(\" Mike \").split(\" \", 1)[1]\n",
    "    \n",
    "    assert not greeted_name.startswith(\" \") and not greeted_name.endswith(\" \")"
   ]
  },
  {
   "cell_type": "markdown",
   "metadata": {
    "pycharm": {
     "name": "#%% md\n"
    }
   },
   "source": [
    "Починим тест"
   ]
  },
  {
   "cell_type": "code",
   "execution_count": 19,
   "metadata": {
    "pycharm": {
     "name": "#%%\n"
    }
   },
   "outputs": [],
   "source": [
    "class Greeter:\n",
    "    def greet(self, name):\n",
    "        if name.startswith(\" \"):\n",
    "            name = name[1:]\n",
    "        if name.endswith(\" \"):\n",
    "            name = name[:1]\n",
    "        return \"Hello \" + name"
   ]
  },
  {
   "cell_type": "code",
   "execution_count": 20,
   "metadata": {
    "pycharm": {
     "name": "#%%\n"
    }
   },
   "outputs": [
    {
     "name": "stdout",
     "output_type": "stream",
     "text": [
      ".                                                                                                                                                                                                           [100%]\n",
      "1 passed in 0.00s\n"
     ]
    }
   ],
   "source": [
    "%%run_pytest[clean] -q\n",
    "\n",
    "def test_spaces():\n",
    "    greeter = Greeter()\n",
    "    greeted_name = greeter.greet(\" Mike \").split(\" \", 1)[1]\n",
    "    \n",
    "    assert not greeted_name.startswith(\" \") and not greeted_name.endswith(\" \")"
   ]
  },
  {
   "cell_type": "markdown",
   "metadata": {
    "pycharm": {
     "name": "#%% md\n"
    }
   },
   "source": [
    "Наш тест все еще недостаточно хорош. Хороший набор тестов должен покрывать разные граничные условия и заходить во все ветки исполнения кода. Параметризуем наш тест так чтобы покрывал как можно ветвей исполнения кода:"
   ]
  },
  {
   "cell_type": "code",
   "execution_count": 21,
   "metadata": {
    "pycharm": {
     "name": "#%%\n"
    }
   },
   "outputs": [
    {
     "name": "stdout",
     "output_type": "stream",
     "text": [
      "....FF                                                                                                                                                                                                      [100%]\n",
      "==================================================================================================== FAILURES =====================================================================================================\n",
      "_______________________________________________________________________________________________ test_spaces[  Mike] _______________________________________________________________________________________________\n",
      "\n",
      "name = '  Mike'\n",
      "\n",
      "    @pytest.mark.parametrize(\"name\", [\"Mike\", \" Mike\", \"Mike \", \" Mike \", \"  Mike\", \"  Mike  \"])\n",
      "    def test_spaces(name):\n",
      "        greeter = Greeter()\n",
      "        greeted_name = greeter.greet(name).split(\" \", 1)[1]\n",
      "    \n",
      ">       assert not greeted_name.startswith(\" \") and not greeted_name.endswith(\" \")\n",
      "E       AssertionError: assert (not True)\n",
      "E        +  where True = <built-in method startswith of str object at 0x7f6f2e828370>(' ')\n",
      "E        +    where <built-in method startswith of str object at 0x7f6f2e828370> = ' Mike'.startswith\n",
      "\n",
      "<ipython-input-21-06978f9470a6>:6: AssertionError\n",
      "______________________________________________________________________________________________ test_spaces[  Mike  ] ______________________________________________________________________________________________\n",
      "\n",
      "name = '  Mike  '\n",
      "\n",
      "    @pytest.mark.parametrize(\"name\", [\"Mike\", \" Mike\", \"Mike \", \" Mike \", \"  Mike\", \"  Mike  \"])\n",
      "    def test_spaces(name):\n",
      "        greeter = Greeter()\n",
      "        greeted_name = greeter.greet(name).split(\" \", 1)[1]\n",
      "    \n",
      ">       assert not greeted_name.startswith(\" \") and not greeted_name.endswith(\" \")\n",
      "E       AssertionError: assert (not True)\n",
      "E        +  where True = <built-in method startswith of str object at 0x7f6f42dc71b0>(' ')\n",
      "E        +    where <built-in method startswith of str object at 0x7f6f42dc71b0> = ' '.startswith\n",
      "\n",
      "<ipython-input-21-06978f9470a6>:6: AssertionError\n",
      "============================================================================================= short test summary info =============================================================================================\n",
      "FAILED Testing.py::test_spaces[  Mike] - AssertionError: assert (not True)\n",
      "FAILED Testing.py::test_spaces[  Mike  ] - AssertionError: assert (not True)\n",
      "2 failed, 4 passed in 0.02s\n"
     ]
    }
   ],
   "source": [
    "%%run_pytest[clean] -q\n",
    "\n",
    "@pytest.mark.parametrize(\"name\", [\"Mike\", \" Mike\", \"Mike \", \" Mike \", \"  Mike\", \"  Mike  \"])\n",
    "def test_spaces(name):\n",
    "    greeter = Greeter()\n",
    "    greeted_name = greeter.greet(name).split(\" \", 1)[1]\n",
    "    \n",
    "    assert not greeted_name.startswith(\" \") and not greeted_name.endswith(\" \")"
   ]
  },
  {
   "cell_type": "markdown",
   "metadata": {
    "pycharm": {
     "name": "#%% md\n"
    }
   },
   "source": [
    "Можно давать имена отдельным наборам параметров - тогда будет удобнее читать вывод пайтеста"
   ]
  },
  {
   "cell_type": "code",
   "execution_count": 22,
   "metadata": {
    "pycharm": {
     "name": "#%%\n"
    }
   },
   "outputs": [
    {
     "name": "stdout",
     "output_type": "stream",
     "text": [
      "....FF                                                                                                                                                                                                      [100%]\n",
      "==================================================================================================== FAILURES =====================================================================================================\n",
      "____________________________________________________________________________________________ test_spaces[double space] ____________________________________________________________________________________________\n",
      "\n",
      "name = '  Mike'\n",
      "\n",
      "    @pytest.mark.parametrize(\"name\", [\"Mike\", \" Mike\", \"Mike \", \" Mike \", \"  Mike\", \"  Mike  \"],\n",
      "                             ids=[\"no spaces\", \"left space\", \"right space\",\n",
      "                                  \"two-side space\", \"double space\", \"two-sided double space\"])\n",
      "    def test_spaces(name):\n",
      "        greeter = Greeter()\n",
      "        greeted_name = greeter.greet(name).split(\" \", 1)[1]\n",
      "    \n",
      ">       assert not greeted_name.startswith(\" \") and not greeted_name.endswith(\" \")\n",
      "E       AssertionError: assert (not True)\n",
      "E        +  where True = <built-in method startswith of str object at 0x7f6f2e78e270>(' ')\n",
      "E        +    where <built-in method startswith of str object at 0x7f6f2e78e270> = ' Mike'.startswith\n",
      "\n",
      "<ipython-input-22-4545c8eb55a1>:8: AssertionError\n",
      "_______________________________________________________________________________________ test_spaces[two-sided double space] _______________________________________________________________________________________\n",
      "\n",
      "name = '  Mike  '\n",
      "\n",
      "    @pytest.mark.parametrize(\"name\", [\"Mike\", \" Mike\", \"Mike \", \" Mike \", \"  Mike\", \"  Mike  \"],\n",
      "                             ids=[\"no spaces\", \"left space\", \"right space\",\n",
      "                                  \"two-side space\", \"double space\", \"two-sided double space\"])\n",
      "    def test_spaces(name):\n",
      "        greeter = Greeter()\n",
      "        greeted_name = greeter.greet(name).split(\" \", 1)[1]\n",
      "    \n",
      ">       assert not greeted_name.startswith(\" \") and not greeted_name.endswith(\" \")\n",
      "E       AssertionError: assert (not True)\n",
      "E        +  where True = <built-in method startswith of str object at 0x7f6f42dc71b0>(' ')\n",
      "E        +    where <built-in method startswith of str object at 0x7f6f42dc71b0> = ' '.startswith\n",
      "\n",
      "<ipython-input-22-4545c8eb55a1>:8: AssertionError\n",
      "============================================================================================= short test summary info =============================================================================================\n",
      "FAILED Testing.py::test_spaces[double space] - AssertionError: assert (not True)\n",
      "FAILED Testing.py::test_spaces[two-sided double space] - AssertionError: assert (not True)\n",
      "2 failed, 4 passed in 0.02s\n"
     ]
    }
   ],
   "source": [
    "%%run_pytest[clean] -q\n",
    "\n",
    "@pytest.mark.parametrize(\"name\", [\"Mike\", \" Mike\", \"Mike \", \" Mike \", \"  Mike\", \"  Mike  \"],\n",
    "                         ids=[\"no spaces\", \"left space\", \"right space\", \n",
    "                              \"two-side space\", \"double space\", \"two-sided double space\"])\n",
    "def test_spaces(name):\n",
    "    greeter = Greeter()\n",
    "    greeted_name = greeter.greet(name).split(\" \", 1)[1]\n",
    "    \n",
    "    assert not greeted_name.startswith(\" \") and not greeted_name.endswith(\" \")"
   ]
  },
  {
   "cell_type": "markdown",
   "metadata": {
    "pycharm": {
     "name": "#%% md\n"
    }
   },
   "source": [
    "Починим тест"
   ]
  },
  {
   "cell_type": "code",
   "execution_count": 23,
   "metadata": {
    "pycharm": {
     "name": "#%%\n"
    }
   },
   "outputs": [],
   "source": [
    "class Greeter:\n",
    "    def greet(self, name):\n",
    "        while name.startswith(\" \"):\n",
    "            name = name[1:]\n",
    "        while name.endswith(\" \"):\n",
    "            name = name[:1]\n",
    "        return \"Hello \" + name"
   ]
  },
  {
   "cell_type": "code",
   "execution_count": 24,
   "metadata": {
    "pycharm": {
     "name": "#%%\n"
    }
   },
   "outputs": [
    {
     "name": "stdout",
     "output_type": "stream",
     "text": [
      "......                                                                                                                                                                                                      [100%]\n",
      "6 passed in 0.01s\n"
     ]
    }
   ],
   "source": [
    "%%run_pytest[clean] -q\n",
    "\n",
    "@pytest.mark.parametrize(\"name\", [\"Mike\", \" Mike\", \"Mike \", \" Mike \", \"  Mike\", \"  Mike  \"],\n",
    "                         ids=[\"no spaces\", \"left space\", \"right space\", \n",
    "                              \"two-side space\", \"double space\", \"two-sided double space\"])\n",
    "def test_spaces(name):\n",
    "    greeter = Greeter()\n",
    "    greeted_name = greeter.greet(name).split(\" \", 1)[1]\n",
    "    \n",
    "    assert not greeted_name.startswith(\" \") and not greeted_name.endswith(\" \")"
   ]
  },
  {
   "cell_type": "markdown",
   "metadata": {
    "pycharm": {
     "name": "#%% md\n"
    }
   },
   "source": [
    "Код кажется слишком многословным! Но, при наличии тестов можно безбоязненно его порефакторить:"
   ]
  },
  {
   "cell_type": "code",
   "execution_count": 25,
   "metadata": {
    "pycharm": {
     "name": "#%%\n"
    }
   },
   "outputs": [],
   "source": [
    "class Greeter:\n",
    "    def greet(self, name):\n",
    "        return \"Hello \" + name.strip()"
   ]
  },
  {
   "cell_type": "code",
   "execution_count": 26,
   "metadata": {
    "pycharm": {
     "name": "#%%\n"
    }
   },
   "outputs": [
    {
     "name": "stdout",
     "output_type": "stream",
     "text": [
      ".........                                                                                                                                                                                                   [100%]\n",
      "9 passed in 0.02s\n"
     ]
    }
   ],
   "source": [
    "%%run_pytest[clean] -q\n",
    "\n",
    "\n",
    "@pytest.mark.parametrize(\"name, greeting\", [(\"Mike\", \"Hello Mike\"), (\"John\", \"Hello John\"), (\"Greg\", \"Hello Greg\")])\n",
    "def test_greeter(name, greeting):\n",
    "    assert Greeter().greet(name) == greeting\n",
    "\n",
    "\n",
    "@pytest.mark.parametrize(\"name\", [\"Mike\", \" Mike\", \"Mike \", \" Mike \", \"  Mike\", \"  Mike  \"],\n",
    "                         ids=[\"no spaces\", \"left space\", \"right space\", \n",
    "                              \"two-side space\", \"double space\", \"two-sided double space\"])\n",
    "def test_spaces(name):\n",
    "    greeter = Greeter()\n",
    "    greeted_name = greeter.greet(name).split(\" \", 1)[1]\n",
    "    \n",
    "    assert not greeted_name.startswith(\" \") and not greeted_name.endswith(\" \")"
   ]
  },
  {
   "cell_type": "markdown",
   "metadata": {
    "pycharm": {
     "name": "#%% md\n"
    }
   },
   "source": [
    "## 3. Рефакторинг тестов и фикстуры"
   ]
  },
  {
   "cell_type": "markdown",
   "metadata": {
    "pycharm": {
     "name": "#%% md\n"
    }
   },
   "source": [
    "Сами тесты тоже надо рефакторить. У нас есть две проблемы.\n",
    "\n",
    "Во-первых - имена тестов не очень информативны. Если упадет тест `test_greater` - будет не совсем понятно что именно тестировалось и что надо чинить. В целом имена тестам надо давать как можно более подробные - тесты вызываются автоматически, автоматике длинна имени безразлична, а вот человеку, читающему выхлоп пайтеста, лучше предоставить как можно больше информации.\n",
    "\n",
    "[Статья на тему](https://enterprisecraftsmanship.com/posts/you-naming-tests-wrong)\n",
    "\n",
    "\n",
    "Переименуем наши тесты:"
   ]
  },
  {
   "cell_type": "code",
   "execution_count": 27,
   "metadata": {
    "pycharm": {
     "name": "#%%\n"
    }
   },
   "outputs": [
    {
     "name": "stdout",
     "output_type": "stream",
     "text": [
      ".........                                                                                                                                                                                                   [100%]\n",
      "9 passed in 0.02s\n"
     ]
    }
   ],
   "source": [
    "%%run_pytest[clean] -q\n",
    "\n",
    "\n",
    "@pytest.mark.parametrize(\"name\", [\"Mike\", \"John\", \"Greg\"])\n",
    "def test_greet_returns_name_with_greeting(name):\n",
    "    assert Greeter().greet(name) == \"Hello \" + name\n",
    "\n",
    "\n",
    "@pytest.mark.parametrize(\"name\", [\"Mike\", \" Mike\", \"Mike \", \" Mike \", \"  Mike\", \"  Mike  \"],\n",
    "                         ids=[\"no spaces\", \"left space\", \"right space\", \n",
    "                              \"two-side space\", \"double space\", \"two-sided double space\"])\n",
    "def test_greet_removes_leading_and_trailing_spaces_from_name(name):\n",
    "    greeter = Greeter()\n",
    "    greeted_name = greeter.greet(name).split(\" \", 1)[1]\n",
    "    \n",
    "    assert not greeted_name.startswith(\" \") and not greeted_name.endswith(\" \")"
   ]
  },
  {
   "cell_type": "markdown",
   "metadata": {
    "pycharm": {
     "name": "#%% md\n"
    }
   },
   "source": [
    "Вторая проблема - в обоих тестах мы создаем `greeter`. Это привожит к дублированию кода. Кроме того, на практике вместо `greeter` у нас может быть какой-нибудь тяжелый объект типа базы даных, который надо каждый раз инициализировать и чистить. Решить эти проблемы нам поможет механизм фикстур:"
   ]
  },
  {
   "cell_type": "code",
   "execution_count": 28,
   "metadata": {
    "pycharm": {
     "name": "#%%\n"
    }
   },
   "outputs": [
    {
     "name": "stdout",
     "output_type": "stream",
     "text": [
      ".........                                                                                                                                                                                                   [100%]\n",
      "9 passed in 0.02s\n"
     ]
    }
   ],
   "source": [
    "%%run_pytest[clean] -q\n",
    "\n",
    "@pytest.fixture(scope=\"module\")\n",
    "def greeter():\n",
    "    yield Greeter()\n",
    "\n",
    "@pytest.mark.parametrize(\"name\", [\"Mike\", \"John\", \"Greg\"])\n",
    "def test_greet_returns_name_with_greeting(greeter, name):\n",
    "    assert Greeter().greet(name) == \"Hello \" + name\n",
    "\n",
    "\n",
    "@pytest.mark.parametrize(\"name\", [\"Mike\", \" Mike\", \"Mike \", \" Mike \", \"  Mike\", \"  Mike  \"],\n",
    "                         ids=[\"no spaces\", \"left space\", \"right space\", \n",
    "                              \"two-side space\", \"double space\", \"two-sided double space\"])\n",
    "def test_greet_removes_leading_and_trailing_spaces_from_name(greeter, name):\n",
    "    greeted_name = greeter.greet(name).split(\" \", 1)[1]\n",
    "    assert not greeted_name.startswith(\" \") and not greeted_name.endswith(\" \")"
   ]
  },
  {
   "cell_type": "markdown",
   "metadata": {
    "pycharm": {
     "name": "#%% md\n"
    }
   },
   "source": [
    "Фикстуры так же могут прибираться за создаваемым объектом в конце теста и иметь разный скоуп - например создваться на каждый тест, модуль или тред, запускающий тесты. [Подробнее в документации](https://docs.pytest.org/en/stable/fixture.html).\n",
    "\n",
    "Для БД фикстура может выглядеть примерно так:"
   ]
  },
  {
   "cell_type": "code",
   "execution_count": 29,
   "metadata": {
    "pycharm": {
     "name": "#%%\n"
    }
   },
   "outputs": [
    {
     "name": "stdout",
     "output_type": "stream",
     "text": [
      "=============================================================================================== test session starts ===============================================================================================\n",
      "platform linux -- Python 3.7.5, pytest-6.1.2, py-1.9.0, pluggy-0.13.1\n",
      "rootdir: /home/npytincev/lectures-2020-fall/10.1.TestingAndLogging\n",
      "collected 2 items\n",
      "\n",
      "Testing.py init db\n",
      "..close db\n",
      "\n",
      "\n",
      "================================================================================================ 2 passed in 0.01s ================================================================================================\n"
     ]
    }
   ],
   "source": [
    "%%run_pytest[clean] -s\n",
    "\n",
    "class DBConnection:\n",
    "    pass\n",
    "\n",
    "class TestDB:\n",
    "    def init_db(self):\n",
    "        print(\"init db\")\n",
    "        \n",
    "    def get_connection(self):\n",
    "        return DBConnection()\n",
    "\n",
    "    def shutdown(self):\n",
    "        print(\"close db\")\n",
    "\n",
    "@pytest.fixture(scope=\"module\")\n",
    "def db_connection():\n",
    "    db = TestDB()\n",
    "    db.init_db()\n",
    "    try:\n",
    "        yield db.get_connection()\n",
    "    finally:\n",
    "        db.shutdown()\n",
    "    \n",
    "def test_db_1(db_connection):\n",
    "    assert db_connection\n",
    "    \n",
    "def test_db_2(db_connection):\n",
    "    assert db_connection"
   ]
  },
  {
   "cell_type": "markdown",
   "metadata": {
    "pycharm": {
     "name": "#%% md\n"
    }
   },
   "source": [
    "Так же в `pytest` есть разные встроенные фикстуры. [Список лежит здесь](https://docs.pytest.org/en/stable/fixture.html). Наиболее интересные:\n",
    "* monkeypatch - временно можифицирует методы классов, модулей и т.д.\n",
    "* testdir - создает верменную директорию для каждого теста, которую потом чистит\n",
    "\n"
   ]
  },
  {
   "cell_type": "markdown",
   "metadata": {
    "pycharm": {
     "name": "#%% md\n"
    }
   },
   "source": [
    "## 4. Тестирование исключений, сравнение флотов, манкипатчинг\n",
    "\n",
    "Следующий пункт нашей каты:\n",
    "- Метод `greet` должен возвращать ошибку если имя - пустая строка (или строка с пробелами)\n",
    "\n",
    "Для тестирования исключений есть специальная функциональность:"
   ]
  },
  {
   "cell_type": "code",
   "execution_count": 30,
   "metadata": {
    "pycharm": {
     "name": "#%%\n"
    }
   },
   "outputs": [
    {
     "name": "stdout",
     "output_type": "stream",
     "text": [
      "F                                                                                                                                                                                                           [100%]\n",
      "==================================================================================================== FAILURES =====================================================================================================\n",
      "__________________________________________________________________________________ test_greet_raises_value_error_on_empty_string __________________________________________________________________________________\n",
      "\n",
      "greeter = <__main__.Greeter object at 0x7f6f2e540890>\n",
      "\n",
      "    def test_greet_raises_value_error_on_empty_string(greeter):\n",
      "        with pytest.raises(ValueError):\n",
      ">           greeter.greet(\"\")\n",
      "E           Failed: DID NOT RAISE <class 'ValueError'>\n",
      "\n",
      "<ipython-input-30-5e9e4ef9f063>:7: Failed\n",
      "============================================================================================= short test summary info =============================================================================================\n",
      "FAILED Testing.py::test_greet_raises_value_error_on_empty_string - Failed: DID NOT RAISE <class 'ValueError'>\n",
      "1 failed in 0.01s\n"
     ]
    }
   ],
   "source": [
    "%%run_pytest[clean] -q\n",
    "\n",
    "@pytest.fixture(scope=\"module\")\n",
    "def greeter():\n",
    "    yield Greeter()\n",
    "\n",
    "def test_greet_raises_value_error_on_empty_string(greeter):\n",
    "    with pytest.raises(ValueError):\n",
    "        greeter.greet(\"\")"
   ]
  },
  {
   "cell_type": "markdown",
   "metadata": {
    "pycharm": {
     "name": "#%% md\n"
    }
   },
   "source": [
    "По тексту отчета видим, что тест ожидал исключения, но его не было. Починим тест:"
   ]
  },
  {
   "cell_type": "code",
   "execution_count": 31,
   "metadata": {
    "pycharm": {
     "name": "#%%\n"
    }
   },
   "outputs": [],
   "source": [
    "class Greeter:\n",
    "    def greet(self, name):\n",
    "        name = name.strip()\n",
    "        if not name:\n",
    "            raise ValueError(\"Empty name!\")\n",
    "        return \"Hello \" + name"
   ]
  },
  {
   "cell_type": "code",
   "execution_count": 32,
   "metadata": {
    "pycharm": {
     "name": "#%%\n"
    }
   },
   "outputs": [
    {
     "name": "stdout",
     "output_type": "stream",
     "text": [
      ".                                                                                                                                                                                                           [100%]\n",
      "1 passed in 0.00s\n"
     ]
    }
   ],
   "source": [
    "%%run_pytest[clean] -q\n",
    "\n",
    "@pytest.fixture(scope=\"module\")\n",
    "def greeter():\n",
    "    yield Greeter()\n",
    "\n",
    "def test_greet_raises_value_error_on_empty_string(greeter):\n",
    "    with pytest.raises(ValueError):\n",
    "        greeter.greet(\"\")"
   ]
  },
  {
   "cell_type": "markdown",
   "metadata": {
    "pycharm": {
     "name": "#%% md\n"
    }
   },
   "source": [
    "ок, остался последний пункт нашей каты:\n",
    " - Метод `greet` возвращает \"Good evening <имя>\" если текущее время - 18:00-22:00\n",
    "\n",
    "Реализация скорее всего будет вызывать `datetime.now()` где-то внутри. Чтобы обеспечить в тесте нужное нам поведение - используем специяльную фикстуру `monkeypatch`. Подробно про неё можно почитать [тут](https://docs.pytest.org/en/latest/monkeypatch.html)."
   ]
  },
  {
   "cell_type": "code",
   "execution_count": 33,
   "metadata": {
    "pycharm": {
     "name": "#%%\n"
    }
   },
   "outputs": [
    {
     "name": "stdout",
     "output_type": "stream",
     "text": [
      "F                                                                                                                                                                                                           [100%]\n",
      "==================================================================================================== FAILURES =====================================================================================================\n",
      "____________________________________________________________________________________ test_greeting_is_good_evening_in_evening _____________________________________________________________________________________\n",
      "\n",
      "monkeypatch = <_pytest.monkeypatch.MonkeyPatch object at 0x7f6f2e4be650>, greeter = <__main__.Greeter object at 0x7f6f2e4be4d0>\n",
      "\n",
      "    def test_greeting_is_good_evening_in_evening(monkeypatch, greeter):\n",
      "        fake_time =  datetime.datetime(2020, 11, 10, 19)\n",
      "        class mydatetime:\n",
      "            @classmethod\n",
      "            def now(cls):\n",
      "                return fake_time\n",
      "    \n",
      "        monkeypatch.setattr(datetime, 'datetime', mydatetime)\n",
      ">       assert greeter.greet(\"Mike\").startswith(\"Good evening\")\n",
      "E       AssertionError: assert False\n",
      "E        +  where False = <built-in method startswith of str object at 0x7f6f2e4bed70>('Good evening')\n",
      "E        +    where <built-in method startswith of str object at 0x7f6f2e4bed70> = 'Hello Mike'.startswith\n",
      "E        +      where 'Hello Mike' = <bound method Greeter.greet of <__main__.Greeter object at 0x7f6f2e4be4d0>>('Mike')\n",
      "E        +        where <bound method Greeter.greet of <__main__.Greeter object at 0x7f6f2e4be4d0>> = <__main__.Greeter object at 0x7f6f2e4be4d0>.greet\n",
      "\n",
      "<ipython-input-33-640258560748>:15: AssertionError\n",
      "============================================================================================= short test summary info =============================================================================================\n",
      "FAILED Testing.py::test_greeting_is_good_evening_in_evening - AssertionError: assert False\n",
      "1 failed in 0.01s\n"
     ]
    }
   ],
   "source": [
    "%%run_pytest[clean] -q\n",
    "\n",
    "import datetime\n",
    "\n",
    "@pytest.fixture(scope=\"module\")\n",
    "def greeter():\n",
    "    yield Greeter()\n",
    "\n",
    "def test_greeting_is_good_evening_in_evening(monkeypatch, greeter):\n",
    "    fake_time =  datetime.datetime(2020, 11, 10, 19)\n",
    "    class mydatetime:\n",
    "        @classmethod\n",
    "        def now(cls):\n",
    "            return fake_time\n",
    "\n",
    "    monkeypatch.setattr(datetime, 'datetime', mydatetime)\n",
    "    assert greeter.greet(\"Mike\").startswith(\"Good evening\")"
   ]
  },
  {
   "cell_type": "code",
   "execution_count": 34,
   "metadata": {
    "pycharm": {
     "name": "#%%\n"
    }
   },
   "outputs": [],
   "source": [
    "import datetime\n",
    "\n",
    "class Greeter:\n",
    "    def greet(self, name):\n",
    "        name = name.strip()\n",
    "        if not name:\n",
    "            raise ValueError(\"Empty name!\")\n",
    "        hour = datetime.datetime.now().hour\n",
    "        if 19 <= hour <= 22:\n",
    "            return \"Good evening \" + name\n",
    "        return \"Hello \" + name"
   ]
  },
  {
   "cell_type": "code",
   "execution_count": 35,
   "metadata": {
    "pycharm": {
     "name": "#%%\n"
    }
   },
   "outputs": [
    {
     "name": "stdout",
     "output_type": "stream",
     "text": [
      ".                                                                                                                                                                                                           [100%]\n",
      "1 passed in 0.00s\n"
     ]
    }
   ],
   "source": [
    "%%run_pytest[clean] -q\n",
    "\n",
    "import datetime\n",
    "\n",
    "@pytest.fixture(scope=\"module\")\n",
    "def greeter():\n",
    "    yield Greeter()\n",
    "\n",
    "def test_greeting_is_good_evening_in_evening(monkeypatch, greeter):\n",
    "    fake_time =  datetime.datetime(2020, 11, 10, 19)\n",
    "    class mydatetime:\n",
    "        @classmethod\n",
    "        def now(cls):\n",
    "            return fake_time\n",
    "\n",
    "    monkeypatch.setattr(datetime, 'datetime', mydatetime)\n",
    "    assert greeter.greet(\"Mike\").startswith(\"Good evening\")"
   ]
  },
  {
   "cell_type": "markdown",
   "metadata": {
    "pycharm": {
     "name": "#%% md\n"
    }
   },
   "source": [
    "Посмотрим, что со старыми тестами"
   ]
  },
  {
   "cell_type": "code",
   "execution_count": 36,
   "metadata": {
    "pycharm": {
     "name": "#%%\n"
    }
   },
   "outputs": [
    {
     "name": "stdout",
     "output_type": "stream",
     "text": [
      ".........                                                                                                                                                                                                   [100%]\n",
      "9 passed in 0.02s\n"
     ]
    }
   ],
   "source": [
    "%%run_pytest[clean] -q\n",
    "\n",
    "@pytest.fixture(scope=\"module\")\n",
    "def greeter():\n",
    "    yield Greeter()\n",
    "\n",
    "@pytest.mark.parametrize(\"name\", [\"Mike\", \"John\", \"Greg\"])\n",
    "def test_greet_returns_name_with_greeting(greeter, name):\n",
    "    assert Greeter().greet(name) == \"Hello \" + name\n",
    "\n",
    "\n",
    "@pytest.mark.parametrize(\"name\", [\"Mike\", \" Mike\", \"Mike \", \" Mike \", \"  Mike\", \"  Mike  \"],\n",
    "                         ids=[\"no spaces\", \"left space\", \"right space\", \n",
    "                              \"two-side space\", \"double space\", \"two-sided double space\"])\n",
    "def test_greet_removes_leading_and_trailing_spaces_from_name(greeter, name):\n",
    "    greeted_name = greeter.greet(name).split(\" \", 1)[1]\n",
    "    assert not greeted_name.startswith(\" \") and not greeted_name.endswith(\" \")"
   ]
  },
  {
   "cell_type": "markdown",
   "metadata": {
    "pycharm": {
     "name": "#%% md\n"
    }
   },
   "source": [
    "Всё падает, потому что cейчас вечер. Выставим для тестов дефолтное время при помощи фикстур:"
   ]
  },
  {
   "cell_type": "code",
   "execution_count": 37,
   "metadata": {
    "pycharm": {
     "name": "#%%\n"
    }
   },
   "outputs": [
    {
     "name": "stdout",
     "output_type": "stream",
     "text": [
      "..........                                                                                                                                                                                                  [100%]\n",
      "10 passed in 0.03s\n"
     ]
    }
   ],
   "source": [
    "%%run_pytest[clean] -q\n",
    "\n",
    "import datetime\n",
    "\n",
    "\n",
    "@pytest.fixture(scope=\"function\")\n",
    "def set_time(monkeypatch):\n",
    "    def set_time_(time):\n",
    "        class mydatetime:\n",
    "            @classmethod\n",
    "            def now(cls):\n",
    "                return time\n",
    "\n",
    "        monkeypatch.setattr(datetime, 'datetime', mydatetime)\n",
    "    yield set_time_\n",
    "\n",
    "    \n",
    "@pytest.fixture(scope=\"function\")\n",
    "def set_day_time(set_time):\n",
    "    yield set_time(datetime.datetime(2020, 10, 10, 10))\n",
    "    \n",
    "\n",
    "@pytest.mark.parametrize(\"name\", [\"Mike\", \"John\", \"Greg\"])\n",
    "def test_greet_returns_name_with_greeting(set_day_time, greeter, name):\n",
    "    assert Greeter().greet(name) == \"Hello \" + name\n",
    "\n",
    "\n",
    "@pytest.mark.parametrize(\"name\", [\"Mike\", \" Mike\", \"Mike \", \" Mike \", \"  Mike\", \"  Mike  \"],\n",
    "                         ids=[\"no spaces\", \"left space\", \"right space\", \n",
    "                              \"two-side space\", \"double space\", \"two-sided double space\"])\n",
    "def test_greet_removes_leading_and_trailing_spaces_from_name(set_day_time, greeter, name):\n",
    "    greeted_name = greeter.greet(name).split(\" \", 1)[1]\n",
    "    assert not greeted_name.startswith(\" \") and not greeted_name.endswith(\" \")\n",
    "    \n",
    "\n",
    "def test_greeting_is_good_evening_in_evening(set_time, monkeypatch, greeter):\n",
    "    set_time(datetime.datetime(2020, 11, 10, 19))\n",
    "    assert greeter.greet(\"Mike\").startswith(\"Good evening\")"
   ]
  },
  {
   "cell_type": "markdown",
   "metadata": {
    "pycharm": {
     "name": "#%% md\n"
    }
   },
   "source": [
    "#### Сравнение float"
   ]
  },
  {
   "cell_type": "markdown",
   "metadata": {
    "pycharm": {
     "name": "#%% md\n"
    }
   },
   "source": [
    " Сравнение `float` сталось за кадром - разберем его отдельно.\n",
    " Из-за ошибок округления `float` трудно сравнивать через `==`"
   ]
  },
  {
   "cell_type": "code",
   "execution_count": 38,
   "metadata": {
    "pycharm": {
     "name": "#%%\n"
    }
   },
   "outputs": [
    {
     "name": "stdout",
     "output_type": "stream",
     "text": [
      "F                                                                                                                                                                                                           [100%]\n",
      "==================================================================================================== FAILURES =====================================================================================================\n",
      "___________________________________________________________________________________________________ test_float ____________________________________________________________________________________________________\n",
      "\n",
      "    def test_float():\n",
      ">       assert 0.1 + 0.2 == 0.3\n",
      "E       assert (0.1 + 0.2) == 0.3\n",
      "\n",
      "<ipython-input-38-d4fdc5effe72>:2: AssertionError\n",
      "============================================================================================= short test summary info =============================================================================================\n",
      "FAILED Testing.py::test_float - assert (0.1 + 0.2) == 0.3\n",
      "1 failed in 0.01s\n"
     ]
    }
   ],
   "source": [
    "%%run_pytest[clean] -q\n",
    "def test_float():\n",
    "    assert 0.1 + 0.2 == 0.3"
   ]
  },
  {
   "cell_type": "markdown",
   "metadata": {
    "pycharm": {
     "name": "#%% md\n"
    }
   },
   "source": [
    "Исправить ситуацию поможет `pytest.approx`"
   ]
  },
  {
   "cell_type": "code",
   "execution_count": 39,
   "metadata": {
    "pycharm": {
     "name": "#%%\n"
    }
   },
   "outputs": [
    {
     "name": "stdout",
     "output_type": "stream",
     "text": [
      ".                                                                                                                                                                                                           [100%]\n",
      "1 passed in 0.00s\n"
     ]
    }
   ],
   "source": [
    "%%run_pytest[clean] -q\n",
    "def test_float():\n",
    "    assert 0.1 + 0.2 == pytest.approx(0.3)"
   ]
  },
  {
   "cell_type": "markdown",
   "metadata": {
    "pycharm": {
     "name": "#%% md\n"
    }
   },
   "source": [
    "`pytest.approx` так же работает и с коллекциями:"
   ]
  },
  {
   "cell_type": "code",
   "execution_count": 40,
   "metadata": {
    "pycharm": {
     "name": "#%%\n"
    }
   },
   "outputs": [
    {
     "name": "stdout",
     "output_type": "stream",
     "text": [
      ".                                                                                                                                                                                                           [100%]\n",
      "1 passed in 0.00s\n"
     ]
    }
   ],
   "source": [
    "%%run_pytest[clean] -q\n",
    "def test_float():\n",
    "    assert [0.1 + 0.2, 0.5] == pytest.approx([0.3, 0.5])"
   ]
  },
  {
   "cell_type": "markdown",
   "metadata": {
    "pycharm": {
     "name": "#%% md\n"
    }
   },
   "source": [
    "#### Манкипатчинг модуля requests"
   ]
  },
  {
   "cell_type": "code",
   "execution_count": 41,
   "metadata": {
    "pycharm": {
     "name": "#%%\n"
    }
   },
   "outputs": [],
   "source": [
    "import requests\n",
    "\n",
    "\n",
    "def get_json(url):\n",
    "    \"\"\"Takes a URL, and returns the JSON.\"\"\"\n",
    "    r = requests.get(url)\n",
    "    return r.json()"
   ]
  },
  {
   "cell_type": "markdown",
   "metadata": {
    "pycharm": {
     "name": "#%% md\n"
    }
   },
   "source": [
    "Внутри тест очень не хочется ходить по сети, при этом тест написать надо. Воспользуемся `monkeypatch`"
   ]
  },
  {
   "cell_type": "code",
   "execution_count": 42,
   "metadata": {
    "pycharm": {
     "name": "#%%\n"
    }
   },
   "outputs": [
    {
     "name": "stdout",
     "output_type": "stream",
     "text": [
      "=============================================================================================== test session starts ===============================================================================================\n",
      "platform linux -- Python 3.7.5, pytest-6.1.2, py-1.9.0, pluggy-0.13.1\n",
      "rootdir: /home/npytincev/lectures-2020-fall/10.1.TestingAndLogging\n",
      "collected 1 item\n",
      "\n",
      "Testing.py .\n",
      "\n",
      "================================================================================================ 1 passed in 0.00s ================================================================================================\n"
     ]
    }
   ],
   "source": [
    "%%run_pytest[clean] -s\n",
    "\n",
    "# импортим модуль requests чтобы потом его модифицировать\n",
    "import requests\n",
    "\n",
    "# делаем mock на  response-объект библиотеки requests\n",
    "class MockResponse:\n",
    "    @staticmethod\n",
    "    def json():\n",
    "        return {\"mock_key\": \"mock_response\"}\n",
    "\n",
    "\n",
    "def test_get_json(monkeypatch):\n",
    "\n",
    "    # Делаем фальшивый метод get\n",
    "    def mock_get(*args, **kwargs):\n",
    "        return MockResponse()\n",
    "\n",
    "    # Подменяем настоящий get на фальшивый\n",
    "    monkeypatch.setattr(requests, \"get\", mock_get)\n",
    "\n",
    "    # Тестируем наш метод\n",
    "    result = get_json(\"https://fakeurl\")\n",
    "    assert result[\"mock_key\"] == \"mock_response\""
   ]
  },
  {
   "cell_type": "markdown",
   "metadata": {
    "pycharm": {
     "name": "#%% md\n"
    }
   },
   "source": [
    "Для манкипатчинга модуля requests есть отдельная библиотека - [requests-mock](https://requests-mock.readthedocs.io/en/latest/)"
   ]
  },
  {
   "cell_type": "markdown",
   "metadata": {
    "pycharm": {
     "name": "#%% md\n"
    }
   },
   "source": [
    "## Итого\n",
    "\n",
    "Мы сделали небольшую кату, познакомились с TDD и основной функциональностью `pytest`:\n",
    "\n",
    "* Как пайтест находит тесты\n",
    "* Ассерты `pyteset`\n",
    "* Параметризация тестов\n",
    "* Фикстуры \n",
    "* Тестирование исключений\n",
    "* Манкипатчинг\n",
    "\n",
    "Какие в итоге профиты у тестов:\n",
    " - Тесты помогают следить за тем что код соответствует спецификации\n",
    " - Тесты позволяют рефакторить код и не бояться при этом посадить баг\n",
    " - Тесты документируют код\n",
    " \n",
    "Что осталось за кадром:\n",
    " - Виды тестов - юнит, интеграционные и т.д.\n",
    " - Настройка тестов в ci/cd\n",
    " - Плагины pytest"
   ]
  },
  {
   "cell_type": "code",
   "execution_count": null,
   "metadata": {
    "pycharm": {
     "name": "#%%\n"
    }
   },
   "outputs": [],
   "source": []
  }
 ],
 "metadata": {
  "celltoolbar": "Slideshow",
  "kernelspec": {
   "display_name": "Python 3 (ipykernel)",
   "language": "python",
   "name": "python3"
  },
  "language_info": {
   "codemirror_mode": {
    "name": "ipython",
    "version": 3
   },
   "file_extension": ".py",
   "mimetype": "text/x-python",
   "name": "python",
   "nbconvert_exporter": "python",
   "pygments_lexer": "ipython3",
   "version": "3.9.12"
  },
  "rise": {
   "enable_chalkboard": true,
   "footer": "<p style=\"margin: 5px; color: #a0a0a0\">YSDA Python Course</p>",
   "scroll": true,
   "start_slideshow_at": "selected",
   "theme": "serif"
  }
 },
 "nbformat": 4,
 "nbformat_minor": 2
}
