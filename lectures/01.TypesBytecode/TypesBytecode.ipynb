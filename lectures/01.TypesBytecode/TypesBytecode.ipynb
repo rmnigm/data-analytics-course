{
 "cells": [
  {
   "cell_type": "markdown",
   "metadata": {
    "pycharm": {
     "name": "#%% md\n"
    },
    "slideshow": {
     "slide_type": "slide"
    }
   },
   "source": [
    "<center>\n",
    "    <img src=\"https://www.hse.ru/data/2020/11/16/1367273515/HSE_University_blue.png\" width=500px/>\n",
    "    <font> Студенческий кружок<font><br/>\n",
    "    <br/>\n",
    "    <br/>\n",
    "    <b style=\"font-size: 2em\">Типы данных</b><br/>\n",
    "    <br/>\n",
    "    <font>Нигматуллин Роман, по материалам ШАД</font><br/>\n",
    "</center>"
   ]
  },
  {
   "cell_type": "markdown",
   "metadata": {
    "pycharm": {
     "name": "#%% md\n"
    },
    "slideshow": {
     "slide_type": "slide"
    }
   },
   "source": [
    "### План лекции"
   ]
  },
  {
   "cell_type": "markdown",
   "metadata": {
    "pycharm": {
     "name": "#%% md\n"
    },
    "slideshow": {
     "slide_type": "-"
    }
   },
   "source": [
    "**Первая часть: (~1h)**\n",
    "Устройство базовых типов данных: int, bool, float, str\n",
    "\n",
    "**Вторая часть: (~0.5h)**\n",
    "Внутреннее устройство языка, байткод, stack-based virtual machine\n",
    "\n",
    "За материалы лекций благодарим команду Школы Анализа данных."
   ]
  },
  {
   "cell_type": "markdown",
   "metadata": {
    "pycharm": {
     "name": "#%% md\n"
    },
    "slideshow": {
     "slide_type": "slide"
    }
   },
   "source": [
    "### Определения → Объекты, ссылки, типы, значения, операции"
   ]
  },
  {
   "cell_type": "code",
   "execution_count": 1,
   "metadata": {
    "hide_input": false,
    "pycharm": {
     "name": "#%%\n"
    }
   },
   "outputs": [
    {
     "data": {
      "text/plain": [
       "(1, 4345970928, int)"
      ]
     },
     "execution_count": 1,
     "metadata": {},
     "output_type": "execute_result"
    }
   ],
   "source": [
    "# All data in a Python program is represented by objects or by relations between objects\n",
    "\n",
    "a = 1       # `имя` = `значение`. Имени `a` присваивается ссылка на объект со значением 1\n",
    "A = id(a)   # `id`. Ссылка, где лежит объект в памяти\n",
    "t = type(a) # `тип`. Какими свойствами обладает\n",
    "a, A, t"
   ]
  },
  {
   "cell_type": "code",
   "execution_count": 2,
   "metadata": {
    "pycharm": {
     "name": "#%%\n"
    }
   },
   "outputs": [],
   "source": [
    "b = 1\n",
    "c = 2\n",
    "a = b + c   # Операция над объектами"
   ]
  },
  {
   "cell_type": "markdown",
   "metadata": {
    "hide_input": true,
    "pycharm": {
     "name": "#%% md\n"
    },
    "slideshow": {
     "slide_type": "slide"
    }
   },
   "source": [
    "### \"Магия\" Python "
   ]
  },
  {
   "cell_type": "code",
   "execution_count": 3,
   "metadata": {
    "scrolled": true
   },
   "outputs": [
    {
     "name": "stdout",
     "output_type": "stream",
     "text": [
      "[0, 1, 2, 3, 4]\n",
      "[[1], [1], [1]]\n",
      "[[1], [1], [1]]\n"
     ]
    }
   ],
   "source": [
    "list_of_immutables = list(range(5))\n",
    "print(list_of_immutables)\n",
    "\n",
    "list_of_mutables = [[1], [1], [1]]\n",
    "print(list_of_mutables)\n",
    "\n",
    "ref_list_of_mutables = [[1]] * 3\n",
    "print(ref_list_of_mutables)"
   ]
  },
  {
   "cell_type": "code",
   "execution_count": 4,
   "metadata": {
    "code_folding": []
   },
   "outputs": [
    {
     "name": "stdout",
     "output_type": "stream",
     "text": [
      "[0, 1, 2, 3, 4]\n",
      "1 2 3 4 5 [0, 1, 2, 3, 4]\n"
     ]
    }
   ],
   "source": [
    "print(list_of_immutables)\n",
    "\n",
    "for elem in list_of_immutables:\n",
    "    elem = elem + 1\n",
    "    # do something else\n",
    "    print(elem, end=' ')\n",
    "    \n",
    "print(list_of_immutables)"
   ]
  },
  {
   "cell_type": "code",
   "execution_count": 5,
   "metadata": {},
   "outputs": [
    {
     "name": "stdout",
     "output_type": "stream",
     "text": [
      "[[1, 0], [1, 1], [1, 2]]\n"
     ]
    }
   ],
   "source": [
    "for idx, elem in enumerate(list_of_mutables):\n",
    "    elem.append(idx)\n",
    "    \n",
    "print(list_of_mutables)"
   ]
  },
  {
   "cell_type": "code",
   "execution_count": 6,
   "metadata": {},
   "outputs": [
    {
     "name": "stdout",
     "output_type": "stream",
     "text": [
      "[[1, 0, 1, 2], [1, 0, 1, 2], [1, 0, 1, 2]]\n"
     ]
    }
   ],
   "source": [
    "for idx, elem in enumerate(ref_list_of_mutables):\n",
    "    elem.append(idx)\n",
    "    \n",
    "print(ref_list_of_mutables)"
   ]
  },
  {
   "cell_type": "markdown",
   "metadata": {
    "slideshow": {
     "slide_type": "slide"
    }
   },
   "source": [
    "### Определения → Мутабельность/иммутабельность объектов"
   ]
  },
  {
   "cell_type": "code",
   "execution_count": 7,
   "metadata": {
    "cell_style": "split",
    "hide_input": false,
    "pycharm": {
     "name": "#%%\n"
    }
   },
   "outputs": [
    {
     "data": {
      "text/plain": [
       "(3, 1)"
      ]
     },
     "execution_count": 7,
     "metadata": {},
     "output_type": "execute_result"
    }
   ],
   "source": [
    "# Иммутабельные - не меняют значение по ссылке\n",
    "# Примеры: int, float, str, tuple, frozenset\n",
    "a = 1\n",
    "b = a\n",
    "a += 2\n",
    "a, b"
   ]
  },
  {
   "cell_type": "code",
   "execution_count": 8,
   "metadata": {
    "cell_style": "split",
    "pycharm": {
     "name": "#%%\n"
    }
   },
   "outputs": [
    {
     "data": {
      "text/plain": [
       "([1, 2], [1, 2])"
      ]
     },
     "execution_count": 8,
     "metadata": {},
     "output_type": "execute_result"
    }
   ],
   "source": [
    "# Мутабельные - меняют значение по ссылке\n",
    "# Примеры: list, set, dict\n",
    "a = [1]\n",
    "b = a\n",
    "a += [2]\n",
    "a, b"
   ]
  },
  {
   "cell_type": "markdown",
   "metadata": {
    "pycharm": {
     "name": "#%% md\n"
    },
    "slideshow": {
     "slide_type": "slide"
    }
   },
   "source": [
    "### Ⅰ. Устройство базовых типов данных → int (1/8)"
   ]
  },
  {
   "cell_type": "code",
   "execution_count": 9,
   "metadata": {
    "pycharm": {
     "name": "#%%\n"
    }
   },
   "outputs": [
    {
     "data": {
      "text/plain": [
       "(322, 4399890192, int)"
      ]
     },
     "execution_count": 9,
     "metadata": {},
     "output_type": "execute_result"
    }
   ],
   "source": [
    "a = 322     \n",
    "A = id(a)   \n",
    "t = type(a)\n",
    "a, A, t"
   ]
  },
  {
   "cell_type": "code",
   "execution_count": 10,
   "metadata": {
    "pycharm": {
     "name": "#%%\n"
    },
    "slideshow": {
     "slide_type": "-"
    }
   },
   "outputs": [
    {
     "data": {
      "text/plain": [
       "(True, False)"
      ]
     },
     "execution_count": 10,
     "metadata": {},
     "output_type": "execute_result"
    }
   ],
   "source": [
    "a = 322\n",
    "b = 322\n",
    "a == b, id(a) == id(b)"
   ]
  },
  {
   "cell_type": "markdown",
   "metadata": {
    "pycharm": {
     "name": "#%% md\n"
    },
    "slideshow": {
     "slide_type": "slide"
    }
   },
   "source": [
    "### Ⅰ. Устройство базовых типов данных → int  (2/8)"
   ]
  },
  {
   "cell_type": "code",
   "execution_count": 11,
   "metadata": {
    "pycharm": {
     "name": "#%%\n"
    },
    "slideshow": {
     "slide_type": "-"
    }
   },
   "outputs": [
    {
     "data": {
      "text/plain": [
       "False"
      ]
     },
     "execution_count": 11,
     "metadata": {},
     "output_type": "execute_result"
    }
   ],
   "source": [
    "a = 322\n",
    "A = id(a)\n",
    "a = 323\n",
    "id(a) == A"
   ]
  },
  {
   "cell_type": "markdown",
   "metadata": {
    "pycharm": {
     "name": "#%% md\n"
    },
    "slideshow": {
     "slide_type": "slide"
    }
   },
   "source": [
    "### Ⅰ. Устройство базовых типов данных → int  (3/8)"
   ]
  },
  {
   "cell_type": "code",
   "execution_count": 12,
   "metadata": {
    "pycharm": {
     "name": "#%%\n"
    },
    "slideshow": {
     "slide_type": "-"
    }
   },
   "outputs": [
    {
     "data": {
      "text/plain": [
       "(True, True)"
      ]
     },
     "execution_count": 12,
     "metadata": {},
     "output_type": "execute_result"
    }
   ],
   "source": [
    "a = 322\n",
    "b = a\n",
    "a == b, id(a) == id(b)  # В чём разница со случаем 1?"
   ]
  },
  {
   "cell_type": "markdown",
   "metadata": {
    "pycharm": {
     "name": "#%% md\n"
    },
    "slideshow": {
     "slide_type": "slide"
    }
   },
   "source": [
    "### Ⅰ. Устройство базовых типов данных → int  (4/8)"
   ]
  },
  {
   "cell_type": "code",
   "execution_count": 13,
   "metadata": {
    "pycharm": {
     "name": "#%%\n"
    },
    "slideshow": {
     "slide_type": "-"
    }
   },
   "outputs": [
    {
     "data": {
      "text/plain": [
       "False"
      ]
     },
     "execution_count": 13,
     "metadata": {},
     "output_type": "execute_result"
    }
   ],
   "source": [
    "a = 322\n",
    "b = a\n",
    "b = b + 1\n",
    "\n",
    "id(a) == id(b)"
   ]
  },
  {
   "cell_type": "code",
   "execution_count": 14,
   "metadata": {
    "pycharm": {
     "name": "#%%\n"
    }
   },
   "outputs": [
    {
     "data": {
      "text/plain": [
       "False"
      ]
     },
     "execution_count": 14,
     "metadata": {},
     "output_type": "execute_result"
    }
   ],
   "source": [
    "a = 322\n",
    "b = a\n",
    "b += 1\n",
    "\n",
    "id(a) == id(b)"
   ]
  },
  {
   "cell_type": "markdown",
   "metadata": {
    "pycharm": {
     "name": "#%% md\n"
    },
    "slideshow": {
     "slide_type": "slide"
    }
   },
   "source": [
    "### Ⅰ. Устройство базовых типов данных → int (5/8)"
   ]
  },
  {
   "cell_type": "code",
   "execution_count": 15,
   "metadata": {
    "pycharm": {
     "name": "#%%\n"
    },
    "slideshow": {
     "slide_type": "-"
    }
   },
   "outputs": [
    {
     "name": "stdout",
     "output_type": "stream",
     "text": [
      "True True\n",
      "True True\n",
      "False False\n"
     ]
    }
   ],
   "source": [
    "# Немножко оптимизации: малые значения инта\n",
    "a = 1\n",
    "b = 1\n",
    "print(id(a) == id(b), a is b)\n",
    "\n",
    "a = 256\n",
    "b = 256\n",
    "print(id(a) == id(b), a is b)\n",
    "\n",
    "a = 257\n",
    "b = 257\n",
    "print(id(a) == id(b), a is b)"
   ]
  },
  {
   "cell_type": "code",
   "execution_count": 16,
   "metadata": {
    "pycharm": {
     "name": "#%%\n"
    }
   },
   "outputs": [
    {
     "name": "stdout",
     "output_type": "stream",
     "text": [
      "False\n",
      "True\n"
     ]
    }
   ],
   "source": [
    "# Немножко оптимизации: константы\n",
    "a = 257\n",
    "b = 257\n",
    "print(id(a) == id(b))\n",
    "\n",
    "def f():\n",
    "    a = 257\n",
    "    b = 257\n",
    "    print(id(a) == id(b))\n",
    "f()"
   ]
  },
  {
   "cell_type": "markdown",
   "metadata": {
    "pycharm": {
     "name": "#%% md\n"
    },
    "slideshow": {
     "slide_type": "slide"
    }
   },
   "source": [
    "### Ⅰ. Устройство базовых типов данных → int (6/8)"
   ]
  },
  {
   "cell_type": "code",
   "execution_count": 20,
   "metadata": {},
   "outputs": [
    {
     "data": {
      "text/plain": [
       "True"
      ]
     },
     "execution_count": 20,
     "metadata": {},
     "output_type": "execute_result"
    }
   ],
   "source": [
    "# id можно вызвать и от типа\n",
    "a = 322\n",
    "b = 322\n",
    "id(type(a)) == id(type(b))"
   ]
  },
  {
   "cell_type": "code",
   "execution_count": 21,
   "metadata": {},
   "outputs": [
    {
     "name": "stdout",
     "output_type": "stream",
     "text": [
      "True False\n"
     ]
    }
   ],
   "source": [
    "# При желании можно переприсвоить и int\n",
    "int = 1\n",
    "print(id(1) == id(int), id(1) == id(type(1)))\n",
    "import builtins; int = builtins.int"
   ]
  },
  {
   "cell_type": "code",
   "execution_count": 22,
   "metadata": {},
   "outputs": [
    {
     "name": "stdout",
     "output_type": "stream",
     "text": [
      "False False\n"
     ]
    }
   ],
   "source": [
    "int = 1337\n",
    "print(id(1337) == id(int), id(1337) == id(type(1337)))\n",
    "import builtins; int = builtins.int"
   ]
  },
  {
   "cell_type": "markdown",
   "metadata": {
    "pycharm": {
     "name": "#%% md\n"
    },
    "slideshow": {
     "slide_type": "slide"
    }
   },
   "source": [
    "###  Ⅰ. Устройство базовых типов данных → int (7/8)"
   ]
  },
  {
   "cell_type": "code",
   "execution_count": 23,
   "metadata": {
    "pycharm": {
     "name": "#%%\n"
    },
    "slideshow": {
     "slide_type": "-"
    }
   },
   "outputs": [
    {
     "data": {
      "text/plain": [
       "28"
      ]
     },
     "execution_count": 23,
     "metadata": {},
     "output_type": "execute_result"
    }
   ],
   "source": [
    "# Сколько занимает int памяти?\n",
    "import sys\n",
    "a = 1\n",
    "sys.getsizeof(a) #, sys.int_info"
   ]
  },
  {
   "cell_type": "code",
   "execution_count": 24,
   "metadata": {
    "pycharm": {
     "name": "#%%\n"
    }
   },
   "outputs": [
    {
     "data": {
      "text/plain": [
       "28"
      ]
     },
     "execution_count": 24,
     "metadata": {},
     "output_type": "execute_result"
    }
   ],
   "source": [
    "# А такой?\n",
    "a = (1 << 30) - 1\n",
    "sys.getsizeof(a)"
   ]
  },
  {
   "cell_type": "code",
   "execution_count": 25,
   "metadata": {
    "pycharm": {
     "name": "#%%\n"
    }
   },
   "outputs": [
    {
     "data": {
      "text/plain": [
       "32"
      ]
     },
     "execution_count": 25,
     "metadata": {},
     "output_type": "execute_result"
    }
   ],
   "source": [
    "# А такой?\n",
    "a = (1 << 30)\n",
    "sys.getsizeof(a)"
   ]
  },
  {
   "cell_type": "code",
   "execution_count": 26,
   "metadata": {
    "pycharm": {
     "name": "#%%\n"
    }
   },
   "outputs": [
    {
     "data": {
      "text/plain": [
       "36"
      ]
     },
     "execution_count": 26,
     "metadata": {},
     "output_type": "execute_result"
    }
   ],
   "source": [
    "# А такой?\n",
    "a = (1 << 30) * (1 << 30)\n",
    "sys.getsizeof(a)"
   ]
  },
  {
   "cell_type": "code",
   "execution_count": null,
   "metadata": {},
   "outputs": [],
   "source": [
    "# INT БЕСКОНЕЧНЫЙ"
   ]
  },
  {
   "cell_type": "markdown",
   "metadata": {
    "pycharm": {
     "name": "#%% md\n"
    },
    "slideshow": {
     "slide_type": "slide"
    }
   },
   "source": [
    "<b>Ⅰ. Устройство базовых типов данных → int (8/8)</b>\n",
    "<table>\n",
    "<tr>\n",
    "<td> Счетчик ссылок </td> <td>8 байт</td> <td> L - unsigned long </td>\n",
    "<tr/>\n",
    "<tr> \n",
    "<td> Ссылка на тип </td> <td>8 байт</td> <td> L - unsigned long </td>\n",
    "</tr>\n",
    "<tr> \n",
    "<td>Знак числа + его размер по основанию 2<sup>30</sup></td> <td>8 байт</td> <td> l - signed long </td>\n",
    "</tr>\n",
    "<tr> \n",
    "<td> Каждый кусочек инта </td> <td>4 байта</td> <td> i - int </td>\n",
    "</tr>\n",
    "</table>\n"
   ]
  },
  {
   "cell_type": "code",
   "execution_count": 31,
   "metadata": {
    "pycharm": {
     "name": "#%%\n"
    }
   },
   "outputs": [
    {
     "data": {
      "text/plain": [
       "36"
      ]
     },
     "execution_count": 31,
     "metadata": {},
     "output_type": "execute_result"
    }
   ],
   "source": [
    "# Какой размер у a?\n",
    "import sys\n",
    "a = - (437976919 + 87719511 * 2**30 + 107 * (2**30) ** 2)\n",
    "sys.getsizeof(a)"
   ]
  },
  {
   "cell_type": "code",
   "execution_count": 32,
   "metadata": {
    "pycharm": {
     "name": "#%%\n"
    }
   },
   "outputs": [
    {
     "name": "stdout",
     "output_type": "stream",
     "text": [
      "(1, 4355248528, -3, 437976919, 87719511, 107)\n"
     ]
    }
   ],
   "source": [
    "# Немного глянем во внутренности питона\n",
    "\n",
    "import ctypes  # Библиотека, позволяющая работать напрямую с памятью\n",
    "import struct  # Библиотека, связывающая питоновские объекты с их репрезентацией в памяти\n",
    "\n",
    "print(struct.unpack(\"LLliii\", ctypes.string_at(id(a), 36)))\n",
    "# a = 437976919 + 87719511 * 2**30 + 107 * (2**30) ** 2"
   ]
  },
  {
   "cell_type": "code",
   "execution_count": 33,
   "metadata": {
    "pycharm": {
     "name": "#%%\n"
    }
   },
   "outputs": [
    {
     "name": "stdout",
     "output_type": "stream",
     "text": [
      "(1, 4355248528, -3, 437976919, 87719511, 107)\n"
     ]
    }
   ],
   "source": [
    "# Поменять каждую из цифр разложения числа a\n",
    "print(struct.unpack(\"LLliii\", ctypes.string_at(id(a), 36)))"
   ]
  },
  {
   "cell_type": "markdown",
   "metadata": {
    "pycharm": {
     "name": "#%% md\n"
    },
    "slideshow": {
     "slide_type": "slide"
    }
   },
   "source": [
    "### Ⅰ. Устройство базовых типов данных → bool (1/2)"
   ]
  },
  {
   "cell_type": "code",
   "execution_count": 34,
   "metadata": {
    "pycharm": {
     "name": "#%%\n"
    }
   },
   "outputs": [
    {
     "data": {
      "text/plain": [
       "(True, True)"
      ]
     },
     "execution_count": 34,
     "metadata": {},
     "output_type": "execute_result"
    }
   ],
   "source": [
    "a = True\n",
    "b = True\n",
    "a == b, id(a) == id(b)"
   ]
  },
  {
   "cell_type": "code",
   "execution_count": 35,
   "metadata": {
    "pycharm": {
     "name": "#%%\n"
    }
   },
   "outputs": [
    {
     "data": {
      "text/plain": [
       "(False, True, False, False)"
      ]
     },
     "execution_count": 35,
     "metadata": {},
     "output_type": "execute_result"
    }
   ],
   "source": [
    "a = True\n",
    "b = a\n",
    "a &= False\n",
    "a, b, a == b, id(a) == id(b)"
   ]
  },
  {
   "cell_type": "markdown",
   "metadata": {
    "pycharm": {
     "name": "#%% md\n"
    },
    "slideshow": {
     "slide_type": "slide"
    }
   },
   "source": [
    "### Ⅰ. Устройство базовых типов данных → bool (2/2)\n",
    "\n",
    "<table>\n",
    "<tr>\n",
    "<td> Счетчик ссылок </td> <td>8 байт</td> <td> L - unsigned long </td>\n",
    "<tr/>\n",
    "<tr> \n",
    "<td> Ссылка на тип </td> <td>8 байт</td> <td> L - unsigned long </td>\n",
    "</tr>\n",
    "<tr> \n",
    "<td>0 или 1</td> <td>8 байт</td> <td> L - unsigned long </td>\n",
    "</tr>\n",
    "<tr> \n",
    "<td> Значение bool </td> <td>4 байта</td> <td> i - int </td>\n",
    "</tr>\n",
    "</table>\n"
   ]
  },
  {
   "cell_type": "code",
   "execution_count": 36,
   "metadata": {
    "pycharm": {
     "name": "#%%\n"
    }
   },
   "outputs": [
    {
     "data": {
      "text/plain": [
       "28"
      ]
     },
     "execution_count": 36,
     "metadata": {},
     "output_type": "execute_result"
    }
   ],
   "source": [
    "# Какой размер у a?\n",
    "import sys\n",
    "a = True\n",
    "sys.getsizeof(a)"
   ]
  },
  {
   "cell_type": "code",
   "execution_count": 37,
   "metadata": {
    "pycharm": {
     "name": "#%%\n"
    }
   },
   "outputs": [
    {
     "data": {
      "text/plain": [
       "(7146, 4355246184, 1, 1)"
      ]
     },
     "execution_count": 37,
     "metadata": {},
     "output_type": "execute_result"
    }
   ],
   "source": [
    "# Немного глянем inside\n",
    "import ctypes\n",
    "import struct\n",
    "\n",
    "struct.unpack(\"LLli\", ctypes.string_at(id(a), 28))"
   ]
  },
  {
   "cell_type": "markdown",
   "metadata": {
    "pycharm": {
     "name": "#%% md\n"
    },
    "slideshow": {
     "slide_type": "slide"
    }
   },
   "source": [
    "### Ⅰ. Устройство базовых типов данных → float (1/7)"
   ]
  },
  {
   "cell_type": "code",
   "execution_count": 38,
   "metadata": {
    "pycharm": {
     "name": "#%%\n"
    }
   },
   "outputs": [
    {
     "data": {
      "text/plain": [
       "False"
      ]
     },
     "execution_count": 38,
     "metadata": {},
     "output_type": "execute_result"
    }
   ],
   "source": [
    "a = 1.1\n",
    "b = 1.1\n",
    "id(a) == id(b)"
   ]
  },
  {
   "cell_type": "code",
   "execution_count": 39,
   "metadata": {
    "pycharm": {
     "name": "#%%\n"
    }
   },
   "outputs": [
    {
     "data": {
      "text/plain": [
       "True"
      ]
     },
     "execution_count": 39,
     "metadata": {},
     "output_type": "execute_result"
    }
   ],
   "source": [
    "a = 1.1\n",
    "b = a\n",
    "id(a) == id(b)"
   ]
  },
  {
   "cell_type": "markdown",
   "metadata": {
    "pycharm": {
     "name": "#%% md\n"
    },
    "slideshow": {
     "slide_type": "slide"
    }
   },
   "source": [
    "### Ⅰ. Устройство базовых типов данных → float (2/7)"
   ]
  },
  {
   "cell_type": "code",
   "execution_count": 40,
   "metadata": {
    "pycharm": {
     "name": "#%%\n"
    },
    "slideshow": {
     "slide_type": "-"
    }
   },
   "outputs": [
    {
     "data": {
      "text/plain": [
       "(False, False)"
      ]
     },
     "execution_count": 40,
     "metadata": {},
     "output_type": "execute_result"
    }
   ],
   "source": [
    "a = 1.1\n",
    "b = a\n",
    "b = b + 1.45\n",
    "\n",
    "a == b, id(a) == id(b)"
   ]
  },
  {
   "cell_type": "code",
   "execution_count": 41,
   "metadata": {
    "pycharm": {
     "name": "#%%\n"
    }
   },
   "outputs": [
    {
     "data": {
      "text/plain": [
       "(False, False)"
      ]
     },
     "execution_count": 41,
     "metadata": {},
     "output_type": "execute_result"
    }
   ],
   "source": [
    "a = 1.1\n",
    "b = a\n",
    "b += 1.45\n",
    "\n",
    "a == b, id(a) == id(b)"
   ]
  },
  {
   "cell_type": "markdown",
   "metadata": {
    "pycharm": {
     "name": "#%% md\n"
    },
    "slideshow": {
     "slide_type": "slide"
    }
   },
   "source": [
    "### Ⅰ. Устройство базовых типов данных → float (3/7)"
   ]
  },
  {
   "cell_type": "code",
   "execution_count": 42,
   "metadata": {
    "pycharm": {
     "name": "#%%\n"
    },
    "slideshow": {
     "slide_type": "-"
    }
   },
   "outputs": [
    {
     "data": {
      "text/plain": [
       "True"
      ]
     },
     "execution_count": 42,
     "metadata": {},
     "output_type": "execute_result"
    }
   ],
   "source": [
    "# А что в случае типов?\n",
    "a = 1.45\n",
    "b = 1.47\n",
    "id(type(a)) == id(type(b))"
   ]
  },
  {
   "cell_type": "markdown",
   "metadata": {
    "pycharm": {
     "name": "#%% md\n"
    },
    "slideshow": {
     "slide_type": "slide"
    }
   },
   "source": [
    "### Ⅰ. Устройство базовых типов данных → float (4/7)"
   ]
  },
  {
   "cell_type": "code",
   "execution_count": 45,
   "metadata": {
    "pycharm": {
     "name": "#%%\n"
    }
   },
   "outputs": [
    {
     "data": {
      "text/plain": [
       "True"
      ]
     },
     "execution_count": 45,
     "metadata": {},
     "output_type": "execute_result"
    }
   ],
   "source": [
    "# Потеря точности\n",
    "float(10**16 - 1) == 10**16"
   ]
  },
  {
   "cell_type": "code",
   "execution_count": 49,
   "metadata": {
    "pycharm": {
     "name": "#%%\n"
    }
   },
   "outputs": [
    {
     "data": {
      "text/plain": [
       "(True, False)"
      ]
     },
     "execution_count": 49,
     "metadata": {},
     "output_type": "execute_result"
    }
   ],
   "source": [
    "a = 1.7976931348623157e+308 + 228\n",
    "b = 1.7976931348623157e+308 + 777777\n",
    "a == b, id(a) == id(b)"
   ]
  },
  {
   "cell_type": "markdown",
   "metadata": {
    "pycharm": {
     "name": "#%% md\n"
    },
    "slideshow": {
     "slide_type": "slide"
    }
   },
   "source": [
    "### Ⅰ. Устройство базовых типов данных → float (5/7)"
   ]
  },
  {
   "cell_type": "code",
   "execution_count": 52,
   "metadata": {
    "pycharm": {
     "name": "#%%\n"
    }
   },
   "outputs": [
    {
     "name": "stdout",
     "output_type": "stream",
     "text": [
      "1.7976931348623157e+308\n",
      "10000000000000000000000000000000000000000000000000000000000000000000000000000000000000000000000000000000000000000000000000000000000000000000000000000000000000000000000000000000000000000000000000000000000000000000000000000000000000000000000000000000000000000000000000000000000000000000000000000\n",
      "inf\n"
     ]
    }
   ],
   "source": [
    "a = 1.7976931348623157e+308; b = 10 ** 292  # 10.\n",
    "print(a)\n",
    "print(b) \n",
    "print(a+b)"
   ]
  },
  {
   "cell_type": "code",
   "execution_count": 53,
   "metadata": {},
   "outputs": [
    {
     "data": {
      "text/plain": [
       "True"
      ]
     },
     "execution_count": 53,
     "metadata": {},
     "output_type": "execute_result"
    }
   ],
   "source": [
    "1.7976931348623157e+308 * 2 == float('inf')"
   ]
  },
  {
   "cell_type": "code",
   "execution_count": 54,
   "metadata": {
    "pycharm": {
     "name": "#%%\n"
    },
    "slideshow": {
     "slide_type": "-"
    }
   },
   "outputs": [
    {
     "data": {
      "text/plain": [
       "(True, False)"
      ]
     },
     "execution_count": 54,
     "metadata": {},
     "output_type": "execute_result"
    }
   ],
   "source": [
    "a = float('inf')\n",
    "b = float('inf')\n",
    "a == b, id(a) == id(b)"
   ]
  },
  {
   "cell_type": "code",
   "execution_count": 55,
   "metadata": {
    "pycharm": {
     "name": "#%%\n"
    }
   },
   "outputs": [
    {
     "data": {
      "text/plain": [
       "(False, False)"
      ]
     },
     "execution_count": 55,
     "metadata": {},
     "output_type": "execute_result"
    }
   ],
   "source": [
    "a = float('nan')\n",
    "b = float('nan')\n",
    "a == b, id(a) == id(b)"
   ]
  },
  {
   "cell_type": "markdown",
   "metadata": {
    "pycharm": {
     "name": "#%% md\n"
    },
    "slideshow": {
     "slide_type": "slide"
    }
   },
   "source": [
    "### Ⅰ. Устройство базовых типов данных → float (6/7)"
   ]
  },
  {
   "cell_type": "code",
   "execution_count": 58,
   "metadata": {
    "pycharm": {
     "name": "#%%\n"
    },
    "slideshow": {
     "slide_type": "-"
    }
   },
   "outputs": [
    {
     "data": {
      "text/plain": [
       "(28, 24)"
      ]
     },
     "execution_count": 58,
     "metadata": {},
     "output_type": "execute_result"
    }
   ],
   "source": [
    "import sys\n",
    "sys.getsizeof(1), sys.getsizeof(1.0)"
   ]
  },
  {
   "cell_type": "code",
   "execution_count": 59,
   "metadata": {
    "pycharm": {
     "name": "#%%\n"
    }
   },
   "outputs": [
    {
     "data": {
      "text/plain": [
       "24"
      ]
     },
     "execution_count": 59,
     "metadata": {},
     "output_type": "execute_result"
    }
   ],
   "source": [
    "sys.getsizeof(sys.float_info.max)"
   ]
  },
  {
   "cell_type": "code",
   "execution_count": 60,
   "metadata": {
    "pycharm": {
     "name": "#%%\n"
    }
   },
   "outputs": [
    {
     "data": {
      "text/plain": [
       "24"
      ]
     },
     "execution_count": 60,
     "metadata": {},
     "output_type": "execute_result"
    }
   ],
   "source": [
    "sys.getsizeof(float('inf'))"
   ]
  },
  {
   "cell_type": "markdown",
   "metadata": {
    "pycharm": {
     "name": "#%% md\n"
    },
    "slideshow": {
     "slide_type": "slide"
    }
   },
   "source": [
    "<b>Ⅰ. Устройство базовых типов данных → float (7/7)</b>\n",
    "<table>\n",
    "<tr>\n",
    "<td> Счетчик ссылок </td> <td>8 байт</td> <td> L - unsigned long </td>\n",
    "<tr/>\n",
    "<tr> \n",
    "<td> Ссылка на тип </td> <td>8 байт</td> <td> L - unsigned long </td>\n",
    "</tr>\n",
    "<tr> \n",
    "<td> double со значением </td> <td>8 байт</td> <td> d - double </td>\n",
    "</tr>\n",
    "</table>\n"
   ]
  },
  {
   "cell_type": "code",
   "execution_count": 61,
   "metadata": {
    "pycharm": {
     "name": "#%%\n"
    }
   },
   "outputs": [
    {
     "data": {
      "text/plain": [
       "24"
      ]
     },
     "execution_count": 61,
     "metadata": {},
     "output_type": "execute_result"
    }
   ],
   "source": [
    "# Какой размер у a?\n",
    "import sys\n",
    "a = 1.45\n",
    "sys.getsizeof(a)"
   ]
  },
  {
   "cell_type": "code",
   "execution_count": 62,
   "metadata": {
    "pycharm": {
     "name": "#%%\n"
    }
   },
   "outputs": [
    {
     "data": {
      "text/plain": [
       "(1, 4355201352, 1.45)"
      ]
     },
     "execution_count": 62,
     "metadata": {},
     "output_type": "execute_result"
    }
   ],
   "source": [
    "# Немного глянем inside\n",
    "import ctypes\n",
    "import struct\n",
    "\n",
    "struct.unpack(\"LLd\", ctypes.string_at(id(a), 24))"
   ]
  },
  {
   "cell_type": "code",
   "execution_count": null,
   "metadata": {
    "pycharm": {
     "name": "#%%\n"
    }
   },
   "outputs": [],
   "source": [
    "# Playground"
   ]
  },
  {
   "cell_type": "markdown",
   "metadata": {
    "pycharm": {
     "name": "#%% md\n"
    },
    "slideshow": {
     "slide_type": "slide"
    }
   },
   "source": [
    "### Ⅰ. Устройство базовых типов данных → str (1/6)"
   ]
  },
  {
   "cell_type": "code",
   "execution_count": 63,
   "metadata": {
    "pycharm": {
     "name": "#%%\n"
    },
    "slideshow": {
     "slide_type": "-"
    }
   },
   "outputs": [
    {
     "data": {
      "text/plain": [
       "(True, False)"
      ]
     },
     "execution_count": 63,
     "metadata": {},
     "output_type": "execute_result"
    }
   ],
   "source": [
    "a = \"hello+world\"\n",
    "b = \"hello+world\"\n",
    "a == b, id(a) == id(b)"
   ]
  },
  {
   "cell_type": "markdown",
   "metadata": {
    "pycharm": {
     "name": "#%% md\n"
    },
    "slideshow": {
     "slide_type": "slide"
    }
   },
   "source": [
    "### Ⅰ. Устройство базовых типов данных → str (2/6)"
   ]
  },
  {
   "cell_type": "code",
   "execution_count": 64,
   "metadata": {
    "pycharm": {
     "name": "#%%\n"
    },
    "slideshow": {
     "slide_type": "-"
    }
   },
   "outputs": [
    {
     "data": {
      "text/plain": [
       "(False, False)"
      ]
     },
     "execution_count": 64,
     "metadata": {},
     "output_type": "execute_result"
    }
   ],
   "source": [
    "a = \"hello\"\n",
    "b = a\n",
    "b = b + \" world\"\n",
    "\n",
    "a == b, id(a) == id(b)"
   ]
  },
  {
   "cell_type": "code",
   "execution_count": 65,
   "metadata": {
    "pycharm": {
     "name": "#%%\n"
    }
   },
   "outputs": [
    {
     "data": {
      "text/plain": [
       "(False, False)"
      ]
     },
     "execution_count": 65,
     "metadata": {},
     "output_type": "execute_result"
    }
   ],
   "source": [
    "a = \"hello\"\n",
    "b = a\n",
    "b += \" world\"\n",
    "\n",
    "a == b, id(a) == id(b)"
   ]
  },
  {
   "cell_type": "markdown",
   "metadata": {
    "pycharm": {
     "name": "#%% md\n"
    },
    "slideshow": {
     "slide_type": "slide"
    }
   },
   "source": [
    "### Ⅰ. Устройство базовых типов данных → str (3/6)"
   ]
  },
  {
   "cell_type": "code",
   "execution_count": 66,
   "metadata": {
    "pycharm": {
     "name": "#%%\n"
    },
    "slideshow": {
     "slide_type": "-"
    }
   },
   "outputs": [
    {
     "data": {
      "text/plain": [
       "True"
      ]
     },
     "execution_count": 66,
     "metadata": {},
     "output_type": "execute_result"
    }
   ],
   "source": [
    "# А что в случае типов?\n",
    "\n",
    "a = \"hello\"\n",
    "b = \"world\"\n",
    "id(type(a)) == id(type(b))"
   ]
  },
  {
   "cell_type": "markdown",
   "metadata": {
    "pycharm": {
     "name": "#%% md\n"
    },
    "slideshow": {
     "slide_type": "slide"
    }
   },
   "source": [
    "### Ⅰ. Устройство базовых типов данных → str (4/6)"
   ]
  },
  {
   "cell_type": "code",
   "execution_count": 70,
   "metadata": {
    "pycharm": {
     "name": "#%%\n"
    }
   },
   "outputs": [
    {
     "data": {
      "text/plain": [
       "True"
      ]
     },
     "execution_count": 70,
     "metadata": {},
     "output_type": "execute_result"
    }
   ],
   "source": [
    "# Немного оптимизации: интернирование\n",
    "\n",
    "a = \"helloworld\"\n",
    "b = \"helloworld\"\n",
    "id(a) == id(b)"
   ]
  },
  {
   "cell_type": "code",
   "execution_count": 68,
   "metadata": {
    "pycharm": {
     "name": "#%%\n"
    }
   },
   "outputs": [
    {
     "data": {
      "text/plain": [
       "False"
      ]
     },
     "execution_count": 68,
     "metadata": {},
     "output_type": "execute_result"
    }
   ],
   "source": [
    "a = \"a\" * 100500\n",
    "b = \"a\" * 100500\n",
    "id(a) == id(b)"
   ]
  },
  {
   "cell_type": "code",
   "execution_count": 71,
   "metadata": {
    "pycharm": {
     "name": "#%%\n"
    },
    "slideshow": {
     "slide_type": "-"
    }
   },
   "outputs": [
    {
     "data": {
      "text/plain": [
       "True"
      ]
     },
     "execution_count": 71,
     "metadata": {},
     "output_type": "execute_result"
    }
   ],
   "source": [
    "# Интернирование\n",
    "import sys\n",
    "a = sys.intern(\"a\" * 100500)\n",
    "b = sys.intern(\"a\" * 100500)\n",
    "id(a) == id(b)"
   ]
  },
  {
   "cell_type": "markdown",
   "metadata": {
    "pycharm": {
     "name": "#%% md\n"
    },
    "slideshow": {
     "slide_type": "slide"
    }
   },
   "source": [
    "<b> Ⅰ. Устройство базовых типов данных → str (5/6) </b>\n",
    "<table>\n",
    "<tr>\n",
    "<td> Счетчик ссылок </td> <td>8 байт</td> <td> L - unsigned long </td>\n",
    "<tr/>\n",
    "<tr> \n",
    "<td> Ссылка на тип </td> <td>8 байт</td> <td> L - unsigned long </td>\n",
    "</tr>\n",
    "<tr> \n",
    "<td> Число символов </td> <td>8 байт</td> <td> L - unsigned long </td>\n",
    "</tr>\n",
    "<tr> \n",
    "<td> Хэш </td> <td>8 байт</td> <td> l - signed long </td>\n",
    "</tr>\n",
    "<tr> \n",
    "<td> Флаги, включая интернирование; служебная информация </td> <td>16 байт</td> <td> s - char[] </td>\n",
    "</tr>\n",
    "<tr> \n",
    "<td> Байты строки, заканчивающейся на \\00 </td> <td> >= 1 байт </td> <td> s - char[] <td> \n",
    "</tr>\n",
    "</table>"
   ]
  },
  {
   "cell_type": "code",
   "execution_count": 76,
   "metadata": {
    "pycharm": {
     "name": "#%%\n"
    }
   },
   "outputs": [
    {
     "data": {
      "text/plain": [
       "57"
      ]
     },
     "execution_count": 76,
     "metadata": {},
     "output_type": "execute_result"
    }
   ],
   "source": [
    "# Какой размер у a?\n",
    "import sys\n",
    "a = \"shad2022\"\n",
    "sys.getsizeof(a)"
   ]
  },
  {
   "cell_type": "code",
   "execution_count": 75,
   "metadata": {
    "pycharm": {
     "name": "#%%\n"
    }
   },
   "outputs": [
    {
     "data": {
      "text/plain": [
       "(1,\n",
       " 4355229904,\n",
       " 8,\n",
       " -3761793850940897023,\n",
       " b'\\xe5\\xac\\x13\\x03\\x01\\x00\\x00\\x00\\x00\\x00\\x00\\x00\\x00\\x00\\x00\\x00',\n",
       " b'shad2022')"
      ]
     },
     "execution_count": 75,
     "metadata": {},
     "output_type": "execute_result"
    }
   ],
   "source": [
    "# Немного глянем inside\n",
    "\n",
    "import ctypes\n",
    "import struct\n",
    "\n",
    "struct.unpack(\"3Ll16s8s\", ctypes.string_at(id(a), 56))"
   ]
  },
  {
   "cell_type": "code",
   "execution_count": null,
   "metadata": {
    "pycharm": {
     "name": "#%%\n"
    }
   },
   "outputs": [],
   "source": [
    "# Playground"
   ]
  },
  {
   "cell_type": "markdown",
   "metadata": {
    "pycharm": {
     "name": "#%% md\n"
    },
    "slideshow": {
     "slide_type": "slide"
    }
   },
   "source": [
    "### Ⅰ. Устройство базовых типов данных → str (6/6)"
   ]
  },
  {
   "cell_type": "markdown",
   "metadata": {
    "pycharm": {
     "name": "#%% md\n"
    },
    "slideshow": {
     "slide_type": "-"
    }
   },
   "source": [
    "1. Вставка буквы в начало/середину/конец строки?\n",
    "2. Взятие длины от строки?\n",
    "3. Поиск буквы в строке?\n",
    "4. Поиск подстроки в строке?\n",
    "5. Удаление буквы из строки?\n",
    "6. Добавление строки к строке?"
   ]
  },
  {
   "cell_type": "markdown",
   "metadata": {
    "pycharm": {
     "name": "#%% md\n"
    },
    "slideshow": {
     "slide_type": "slide"
    }
   },
   "source": [
    "### Ⅱ. Исполнение программ, байткод"
   ]
  },
  {
   "cell_type": "markdown",
   "metadata": {
    "slideshow": {
     "slide_type": "slide"
    }
   },
   "source": [
    "#### Простенькая программа\n",
    "Что будет по результату выполнения?"
   ]
  },
  {
   "cell_type": "code",
   "execution_count": 77,
   "metadata": {},
   "outputs": [],
   "source": [
    "program = \"\"\"\\\n",
    "x = 1\n",
    "y = 2\n",
    "print(3*(x+y))\n",
    "\"\"\""
   ]
  },
  {
   "cell_type": "code",
   "execution_count": 78,
   "metadata": {},
   "outputs": [
    {
     "name": "stdout",
     "output_type": "stream",
     "text": [
      "9\n"
     ]
    }
   ],
   "source": [
    "exec(program)"
   ]
  },
  {
   "cell_type": "markdown",
   "metadata": {},
   "source": [
    "Как интерпретатор её выполняет?"
   ]
  },
  {
   "cell_type": "markdown",
   "metadata": {
    "slideshow": {
     "slide_type": "slide"
    }
   },
   "source": [
    "Шаг 1: Токенизация"
   ]
  },
  {
   "cell_type": "code",
   "execution_count": 79,
   "metadata": {},
   "outputs": [
    {
     "data": {
      "text/plain": [
       "[TokenInfo(type=1 (NAME), string='x', start=(1, 0), end=(1, 1), line='x = 1\\n'),\n",
       " TokenInfo(type=54 (OP), string='=', start=(1, 2), end=(1, 3), line='x = 1\\n'),\n",
       " TokenInfo(type=2 (NUMBER), string='1', start=(1, 4), end=(1, 5), line='x = 1\\n'),\n",
       " TokenInfo(type=4 (NEWLINE), string='\\n', start=(1, 5), end=(1, 6), line='x = 1\\n'),\n",
       " TokenInfo(type=1 (NAME), string='y', start=(2, 0), end=(2, 1), line='y = 2\\n'),\n",
       " TokenInfo(type=54 (OP), string='=', start=(2, 2), end=(2, 3), line='y = 2\\n'),\n",
       " TokenInfo(type=2 (NUMBER), string='2', start=(2, 4), end=(2, 5), line='y = 2\\n'),\n",
       " TokenInfo(type=4 (NEWLINE), string='\\n', start=(2, 5), end=(2, 6), line='y = 2\\n'),\n",
       " TokenInfo(type=1 (NAME), string='print', start=(3, 0), end=(3, 5), line='print(3*(x+y))\\n'),\n",
       " TokenInfo(type=54 (OP), string='(', start=(3, 5), end=(3, 6), line='print(3*(x+y))\\n'),\n",
       " TokenInfo(type=2 (NUMBER), string='3', start=(3, 6), end=(3, 7), line='print(3*(x+y))\\n'),\n",
       " TokenInfo(type=54 (OP), string='*', start=(3, 7), end=(3, 8), line='print(3*(x+y))\\n'),\n",
       " TokenInfo(type=54 (OP), string='(', start=(3, 8), end=(3, 9), line='print(3*(x+y))\\n'),\n",
       " TokenInfo(type=1 (NAME), string='x', start=(3, 9), end=(3, 10), line='print(3*(x+y))\\n'),\n",
       " TokenInfo(type=54 (OP), string='+', start=(3, 10), end=(3, 11), line='print(3*(x+y))\\n'),\n",
       " TokenInfo(type=1 (NAME), string='y', start=(3, 11), end=(3, 12), line='print(3*(x+y))\\n'),\n",
       " TokenInfo(type=54 (OP), string=')', start=(3, 12), end=(3, 13), line='print(3*(x+y))\\n'),\n",
       " TokenInfo(type=54 (OP), string=')', start=(3, 13), end=(3, 14), line='print(3*(x+y))\\n'),\n",
       " TokenInfo(type=4 (NEWLINE), string='\\n', start=(3, 14), end=(3, 15), line='print(3*(x+y))\\n'),\n",
       " TokenInfo(type=0 (ENDMARKER), string='', start=(4, 0), end=(4, 0), line='')]"
      ]
     },
     "execution_count": 79,
     "metadata": {},
     "output_type": "execute_result"
    }
   ],
   "source": [
    "import io\n",
    "import tokenize\n",
    "\n",
    "list(tokenize.generate_tokens(io.StringIO(program).readline))"
   ]
  },
  {
   "cell_type": "markdown",
   "metadata": {
    "pycharm": {
     "name": "#%% md\n"
    },
    "slideshow": {
     "slide_type": "slide"
    }
   },
   "source": [
    "Шаг 2: Построение дерева разбора"
   ]
  },
  {
   "cell_type": "markdown",
   "metadata": {
    "pycharm": {
     "name": "#%% md\n"
    }
   },
   "source": [
    "Грамматика языка: https://docs.python.org/3/reference/grammar.html"
   ]
  },
  {
   "cell_type": "markdown",
   "metadata": {},
   "source": [
    "<div class=\"alert alert-warning\">\n",
    "На самом деле c версии 3.9 промежуточное дерево разбора не строится, строится сразу AST.\n",
    "\n",
    "До версии 3.10 в стандартной библиотеке был модуль `parser`, с помощью которого можно было построить дерево разбора. Он устарел, и с версии 3.10 был удалён. На следующем слайде дерево разбора, построенное в версии 3.9.\n",
    "</div>"
   ]
  },
  {
   "cell_type": "code",
   "execution_count": 80,
   "metadata": {
    "pycharm": {
     "name": "#%%\n"
    },
    "slideshow": {
     "slide_type": "slide"
    }
   },
   "outputs": [
    {
     "ename": "ModuleNotFoundError",
     "evalue": "No module named 'symbol'",
     "output_type": "error",
     "traceback": [
      "\u001b[0;31m---------------------------------------------------------------------------\u001b[0m",
      "\u001b[0;31mModuleNotFoundError\u001b[0m                       Traceback (most recent call last)",
      "Cell \u001b[0;32mIn [80], line 1\u001b[0m\n\u001b[0;32m----> 1\u001b[0m \u001b[38;5;28;01mimport\u001b[39;00m \u001b[38;5;21;01msymbol\u001b[39;00m\n\u001b[1;32m      2\u001b[0m \u001b[38;5;28;01mimport\u001b[39;00m \u001b[38;5;21;01mtoken\u001b[39;00m\n\u001b[1;32m      3\u001b[0m \u001b[38;5;28;01mimport\u001b[39;00m \u001b[38;5;21;01mparser\u001b[39;00m\n",
      "\u001b[0;31mModuleNotFoundError\u001b[0m: No module named 'symbol'"
     ]
    }
   ],
   "source": [
    "import symbol\n",
    "import token\n",
    "import parser\n",
    "\n",
    "# хелпер для вывода дерева разбора в читаемом виде\n",
    "# https://realpython.com/cpython-source-code-guide/#lexing-and-parsing\n",
    "def lex(expression):\n",
    "    symbols = {v: k for k, v in symbol.__dict__.items() if isinstance(v, int)}\n",
    "    tokens = {v: k for k, v in token.__dict__.items() if isinstance(v, int)}\n",
    "    lexicon = {**symbols, **tokens}\n",
    "    st = parser.expr(expression)\n",
    "    st_list = parser.st2list(st)\n",
    "\n",
    "    def replace(l: list):\n",
    "        r = []\n",
    "        for i in l:\n",
    "            if isinstance(i, list):\n",
    "                r.append(replace(i))\n",
    "            else:\n",
    "                if i in lexicon:\n",
    "                    r.append(lexicon[i])\n",
    "                else:\n",
    "                    r.append(i)\n",
    "        return r\n",
    "\n",
    "    return replace(st_list)"
   ]
  },
  {
   "cell_type": "markdown",
   "metadata": {
    "pycharm": {
     "name": "#%% md\n"
    },
    "slideshow": {
     "slide_type": "slide"
    }
   },
   "source": [
    "Шаг 2: Построение дерева разбора (python 3.9)"
   ]
  },
  {
   "cell_type": "code",
   "execution_count": 19,
   "metadata": {
    "pycharm": {
     "name": "#%%\n"
    }
   },
   "outputs": [
    {
     "data": {
      "text/plain": [
       "['eval_input',\n",
       " ['testlist',\n",
       "  ['test',\n",
       "   ['or_test',\n",
       "    ['and_test',\n",
       "     ['not_test',\n",
       "      ['comparison',\n",
       "       ['expr',\n",
       "        ['xor_expr',\n",
       "         ['and_expr',\n",
       "          ['shift_expr',\n",
       "           ['arith_expr',\n",
       "            ['term',\n",
       "             ['factor', ['power', ['atom_expr', ['atom', ['NUMBER', '3']]]]],\n",
       "             ['STAR', '*'],\n",
       "             ['factor',\n",
       "              ['power',\n",
       "               ['atom_expr',\n",
       "                ['atom',\n",
       "                 ['LPAR', '('],\n",
       "                 ['testlist_comp',\n",
       "                  ['namedexpr_test',\n",
       "                   ['test',\n",
       "                    ['or_test',\n",
       "                     ['and_test',\n",
       "                      ['not_test',\n",
       "                       ['comparison',\n",
       "                        ['expr',\n",
       "                         ['xor_expr',\n",
       "                          ['and_expr',\n",
       "                           ['shift_expr',\n",
       "                            ['arith_expr',\n",
       "                             ['term',\n",
       "                              ['factor',\n",
       "                               ['power',\n",
       "                                ['atom_expr', ['atom', ['NAME', 'x']]]]]],\n",
       "                             ['PLUS', '+'],\n",
       "                             ['term',\n",
       "                              ['factor',\n",
       "                               ['power',\n",
       "                                ['atom_expr',\n",
       "                                 ['atom', ['NAME', 'y']]]]]]]]]]]]]]]]]],\n",
       "                 ['RPAR', ')']]]]]]]]]]]]]]]]],\n",
       " ['NEWLINE', ''],\n",
       " ['ENDMARKER', '']]"
      ]
     },
     "execution_count": 19,
     "metadata": {},
     "output_type": "execute_result"
    }
   ],
   "source": [
    "lex('3*(x+y)')"
   ]
  },
  {
   "cell_type": "markdown",
   "metadata": {
    "pycharm": {
     "name": "#%% md\n"
    },
    "slideshow": {
     "slide_type": "slide"
    }
   },
   "source": [
    "Шаг 3: Абстрактное синтаксическое дерево (AST)"
   ]
  },
  {
   "cell_type": "code",
   "execution_count": 81,
   "metadata": {
    "pycharm": {
     "name": "#%%\n"
    }
   },
   "outputs": [
    {
     "name": "stdout",
     "output_type": "stream",
     "text": [
      "Module(\n",
      "    body=[\n",
      "        Assign(\n",
      "            targets=[\n",
      "                Name(id='x', ctx=Store())],\n",
      "            value=Constant(value=1)),\n",
      "        Assign(\n",
      "            targets=[\n",
      "                Name(id='y', ctx=Store())],\n",
      "            value=Constant(value=2)),\n",
      "        Expr(\n",
      "            value=Call(\n",
      "                func=Name(id='print', ctx=Load()),\n",
      "                args=[\n",
      "                    BinOp(\n",
      "                        left=Constant(value=3),\n",
      "                        op=Mult(),\n",
      "                        right=BinOp(\n",
      "                            left=Name(id='x', ctx=Load()),\n",
      "                            op=Add(),\n",
      "                            right=Name(id='y', ctx=Load())))],\n",
      "                keywords=[]))],\n",
      "    type_ignores=[])\n"
     ]
    }
   ],
   "source": [
    "import ast\n",
    "print(ast.dump(ast.parse(program), indent=4))"
   ]
  },
  {
   "cell_type": "markdown",
   "metadata": {
    "pycharm": {
     "name": "#%% md\n"
    },
    "slideshow": {
     "slide_type": "slide"
    }
   },
   "source": [
    "Шаг 4: Компиляция в байткод"
   ]
  },
  {
   "cell_type": "code",
   "execution_count": 82,
   "metadata": {
    "pycharm": {
     "name": "#%%\n"
    }
   },
   "outputs": [],
   "source": [
    "code = compile(program, '<string>', 'exec')"
   ]
  },
  {
   "cell_type": "code",
   "execution_count": 83,
   "metadata": {},
   "outputs": [
    {
     "data": {
      "text/plain": [
       "<code object <module> at 0x107bb5370, file \"<string>\", line 1>"
      ]
     },
     "execution_count": 83,
     "metadata": {},
     "output_type": "execute_result"
    }
   ],
   "source": [
    "code"
   ]
  },
  {
   "cell_type": "code",
   "execution_count": 84,
   "metadata": {
    "pycharm": {
     "name": "#%%\n"
    }
   },
   "outputs": [
    {
     "data": {
      "text/plain": [
       "b'd\\x00Z\\x00d\\x01Z\\x01e\\x02d\\x02e\\x00e\\x01\\x17\\x00\\x14\\x00\\x83\\x01\\x01\\x00d\\x03S\\x00'"
      ]
     },
     "execution_count": 84,
     "metadata": {},
     "output_type": "execute_result"
    }
   ],
   "source": [
    "code.co_code"
   ]
  },
  {
   "cell_type": "code",
   "execution_count": 85,
   "metadata": {
    "pycharm": {
     "name": "#%%\n"
    }
   },
   "outputs": [
    {
     "data": {
      "text/plain": [
       "28"
      ]
     },
     "execution_count": 85,
     "metadata": {},
     "output_type": "execute_result"
    }
   ],
   "source": [
    "len(code.co_code)"
   ]
  },
  {
   "cell_type": "code",
   "execution_count": 86,
   "metadata": {
    "pycharm": {
     "name": "#%%\n"
    }
   },
   "outputs": [
    {
     "name": "stdout",
     "output_type": "stream",
     "text": [
      "[100, 0, 90, 0, 100, 1, 90, 1, 101, 2, 100, 2, 101, 0, 101, 1, 23, 0, 20, 0, 131, 1, 1, 0, 100, 3, 83, 0]\n"
     ]
    }
   ],
   "source": [
    "print(list(code.co_code))"
   ]
  },
  {
   "cell_type": "code",
   "execution_count": 87,
   "metadata": {
    "pycharm": {
     "name": "#%%\n"
    }
   },
   "outputs": [
    {
     "data": {
      "text/plain": [
       "('LOAD_CONST', 'STORE_NAME', 'LOAD_NAME', 'CALL_FUNCTION')"
      ]
     },
     "execution_count": 87,
     "metadata": {},
     "output_type": "execute_result"
    }
   ],
   "source": [
    "import dis\n",
    "dis.opname[100], dis.opname[90], dis.opname[101], dis.opname[131]"
   ]
  },
  {
   "cell_type": "markdown",
   "metadata": {
    "pycharm": {
     "name": "#%% md\n"
    },
    "slideshow": {
     "slide_type": "slide"
    }
   },
   "source": [
    "Байткод"
   ]
  },
  {
   "cell_type": "code",
   "execution_count": 88,
   "metadata": {
    "pycharm": {
     "name": "#%%\n"
    }
   },
   "outputs": [
    {
     "name": "stdout",
     "output_type": "stream",
     "text": [
      "  1           0 LOAD_CONST               0 (1)\n",
      "              2 STORE_NAME               0 (x)\n",
      "\n",
      "  2           4 LOAD_CONST               1 (2)\n",
      "              6 STORE_NAME               1 (y)\n",
      "\n",
      "  3           8 LOAD_NAME                2 (print)\n",
      "             10 LOAD_CONST               2 (3)\n",
      "             12 LOAD_NAME                0 (x)\n",
      "             14 LOAD_NAME                1 (y)\n",
      "             16 BINARY_ADD\n",
      "             18 BINARY_MULTIPLY\n",
      "             20 CALL_FUNCTION            1\n",
      "             22 POP_TOP\n",
      "             24 LOAD_CONST               3 (None)\n",
      "             26 RETURN_VALUE\n"
     ]
    }
   ],
   "source": [
    "dis.dis(program)"
   ]
  },
  {
   "cell_type": "markdown",
   "metadata": {
    "pycharm": {
     "name": "#%% md\n"
    }
   },
   "source": [
    "Как читать вывод dis: https://stackoverflow.com/a/47529318\n",
    "\n",
    "Что делают инструкции: https://docs.python.org/3.10/library/dis.html#python-bytecode-instructions"
   ]
  },
  {
   "cell_type": "markdown",
   "metadata": {
    "pycharm": {
     "name": "#%% md\n"
    },
    "slideshow": {
     "slide_type": "slide"
    }
   },
   "source": [
    "Байткод"
   ]
  },
  {
   "cell_type": "code",
   "execution_count": 89,
   "metadata": {
    "pycharm": {
     "name": "#%%\n"
    }
   },
   "outputs": [
    {
     "name": "stdout",
     "output_type": "stream",
     "text": [
      "  1           0 LOAD_CONST               0 (<code object foo at 0x107bb6340, file \"<dis>\", line 1>)\n",
      "              2 LOAD_CONST               1 ('foo')\n",
      "              4 MAKE_FUNCTION            0\n",
      "              6 STORE_NAME               0 (foo)\n",
      "\n",
      "  3           8 LOAD_NAME                0 (foo)\n",
      "             10 LOAD_CONST               2 (1)\n",
      "             12 LOAD_CONST               3 (2)\n",
      "             14 CALL_FUNCTION            2\n",
      "             16 POP_TOP\n",
      "             18 LOAD_CONST               4 (None)\n",
      "             20 RETURN_VALUE\n",
      "\n",
      "Disassembly of <code object foo at 0x107bb6340, file \"<dis>\", line 1>:\n",
      "  2           0 LOAD_CONST               1 (3)\n",
      "              2 LOAD_FAST                0 (x)\n",
      "              4 LOAD_FAST                1 (y)\n",
      "              6 BINARY_ADD\n",
      "              8 BINARY_MULTIPLY\n",
      "             10 RETURN_VALUE\n"
     ]
    }
   ],
   "source": [
    "program = '''\\\n",
    "def foo(x, y):\n",
    "    return 3*(x + y)\n",
    "foo(1, 2)\n",
    "'''\n",
    "dis.dis(program)"
   ]
  },
  {
   "cell_type": "markdown",
   "metadata": {
    "pycharm": {
     "name": "#%% md\n"
    },
    "slideshow": {
     "slide_type": "slide"
    }
   },
   "source": [
    "Байткод"
   ]
  },
  {
   "cell_type": "code",
   "execution_count": 90,
   "metadata": {
    "pycharm": {
     "name": "#%%\n"
    }
   },
   "outputs": [
    {
     "data": {
      "text/plain": [
       "[Instruction(opname='LOAD_CONST', opcode=100, arg=0, argval=<code object foo at 0x107bb5e70, file \"<disassembly>\", line 1>, argrepr='<code object foo at 0x107bb5e70, file \"<disassembly>\", line 1>', offset=0, starts_line=1, is_jump_target=False),\n",
       " Instruction(opname='LOAD_CONST', opcode=100, arg=1, argval='foo', argrepr=\"'foo'\", offset=2, starts_line=None, is_jump_target=False),\n",
       " Instruction(opname='MAKE_FUNCTION', opcode=132, arg=0, argval=0, argrepr='', offset=4, starts_line=None, is_jump_target=False),\n",
       " Instruction(opname='STORE_NAME', opcode=90, arg=0, argval='foo', argrepr='foo', offset=6, starts_line=None, is_jump_target=False),\n",
       " Instruction(opname='LOAD_NAME', opcode=101, arg=0, argval='foo', argrepr='foo', offset=8, starts_line=3, is_jump_target=False),\n",
       " Instruction(opname='LOAD_CONST', opcode=100, arg=2, argval=1, argrepr='1', offset=10, starts_line=None, is_jump_target=False),\n",
       " Instruction(opname='LOAD_CONST', opcode=100, arg=3, argval=2, argrepr='2', offset=12, starts_line=None, is_jump_target=False),\n",
       " Instruction(opname='CALL_FUNCTION', opcode=131, arg=2, argval=2, argrepr='', offset=14, starts_line=None, is_jump_target=False),\n",
       " Instruction(opname='POP_TOP', opcode=1, arg=None, argval=None, argrepr='', offset=16, starts_line=None, is_jump_target=False),\n",
       " Instruction(opname='LOAD_CONST', opcode=100, arg=4, argval=None, argrepr='None', offset=18, starts_line=None, is_jump_target=False),\n",
       " Instruction(opname='RETURN_VALUE', opcode=83, arg=None, argval=None, argrepr='', offset=20, starts_line=None, is_jump_target=False)]"
      ]
     },
     "execution_count": 90,
     "metadata": {},
     "output_type": "execute_result"
    }
   ],
   "source": [
    "list(dis.get_instructions(program))"
   ]
  },
  {
   "cell_type": "markdown",
   "metadata": {
    "pycharm": {
     "name": "#%% md\n"
    },
    "slideshow": {
     "slide_type": "slide"
    }
   },
   "source": [
    "Ссылки"
   ]
  },
  {
   "cell_type": "markdown",
   "metadata": {
    "pycharm": {
     "name": "#%% md\n"
    }
   },
   "source": [
    "- https://leanpub.com/insidethepythonvirtualmachine/read\n",
    "- https://realpython.com/cpython-source-code-guide/"
   ]
  }
 ],
 "metadata": {
  "celltoolbar": "Slideshow",
  "kernelspec": {
   "display_name": "Python 3 (ipykernel)",
   "language": "python",
   "name": "python3"
  },
  "language_info": {
   "codemirror_mode": {
    "name": "ipython",
    "version": 3
   },
   "file_extension": ".py",
   "mimetype": "text/x-python",
   "name": "python",
   "nbconvert_exporter": "python",
   "pygments_lexer": "ipython3",
   "version": "3.10.7"
  },
  "rise": {
   "enable_chalkboard": true,
   "footer": "<p style=\"margin: 5px; color: #a0a0a0\">MIEM Math Student Club</p>",
   "scroll": true,
   "start_slideshow_at": "selected",
   "theme": "serif"
  },
  "toc": {
   "base_numbering": 1,
   "nav_menu": {},
   "number_sections": false,
   "sideBar": true,
   "skip_h1_title": false,
   "title_cell": "Table of Contents",
   "title_sidebar": "Contents",
   "toc_cell": false,
   "toc_position": {
    "height": "calc(100% - 180px)",
    "left": "10px",
    "top": "150px",
    "width": "333.76px"
   },
   "toc_section_display": true,
   "toc_window_display": false
  },
  "varInspector": {
   "cols": {
    "lenName": 16,
    "lenType": 16,
    "lenVar": 40
   },
   "kernels_config": {
    "python": {
     "delete_cmd_postfix": "",
     "delete_cmd_prefix": "del ",
     "library": "var_list.py",
     "varRefreshCmd": "print(var_dic_list())"
    },
    "r": {
     "delete_cmd_postfix": ") ",
     "delete_cmd_prefix": "rm(",
     "library": "var_list.r",
     "varRefreshCmd": "cat(var_dic_list()) "
    }
   },
   "oldHeight": 122.852,
   "position": {
    "height": "463.83px",
    "left": "489.36px",
    "right": "20px",
    "top": "105px",
    "width": "597px"
   },
   "types_to_exclude": [
    "module",
    "function",
    "builtin_function_or_method",
    "instance",
    "_Feature"
   ],
   "varInspector_section_display": "block",
   "window_display": false
  }
 },
 "nbformat": 4,
 "nbformat_minor": 2
}
